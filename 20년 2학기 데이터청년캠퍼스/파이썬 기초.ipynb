{
 "cells": [
  {
   "cell_type": "markdown",
   "metadata": {},
   "source": [
    "# I. 파이썬 개요 및 기초"
   ]
  },
  {
   "cell_type": "markdown",
   "metadata": {},
   "source": [
    "## 1. 개발환경 설정"
   ]
  },
  {
   "cell_type": "markdown",
   "metadata": {},
   "source": [
    "### 마크다운 익히기"
   ]
  },
  {
   "cell_type": "markdown",
   "metadata": {},
   "source": [
    "- -과 탭을 통해서 적용\n",
    "\n",
    "markdown\n",
    "- markdown\n",
    "    - markdown\n",
    "        - markdown\n",
    "            - markdown\n",
    "                - markdown\n",
    "                    - markdown\n",
    "                        - markdown\n",
    "                            - markdown\n"
   ]
  },
  {
   "cell_type": "markdown",
   "metadata": {},
   "source": [
    "- 수학식: 앞뒤로 달러표시\n",
    "\n",
    "$y = x$"
   ]
  },
  {
   "cell_type": "markdown",
   "metadata": {},
   "source": [
    "- URL표기 \n",
    "\n",
    "[네이버](www.naver.com)"
   ]
  },
  {
   "cell_type": "markdown",
   "metadata": {},
   "source": [
    "## 2. 기본 문법"
   ]
  },
  {
   "cell_type": "markdown",
   "metadata": {},
   "source": [
    "- print()\n",
    "    - sep, end\n",
    "    \n",
    "\n",
    "- 변수 이름 규칙\n",
    "    - _로 시작 가능, 숫자 시작 불가\n",
    "    - 예약어 사용 금지(ex. for, while, if, elif, else, def 등)\n",
    "    \n",
    "    \n",
    "- 데이터 타입\n",
    "    - 숫자형\n",
    "        - 나누기: /, 몫: //, 나머지: %\n",
    "    - 문자형\n",
    "        - 여러 줄로 표현하는 것 \"\"\" \"\"\"\n",
    "\n",
    "\n",
    "- 이스케이프 문자\n",
    "    - \\n(new line), \\t \n",
    "\n",
    "\n",
    "- 문자열 함수\n",
    "    - upper, replace\n",
    "    \n",
    "    \n",
    "- 리스트\n",
    "    - str.split() 구분자로 구분해서 '리스트'로 반환\n",
    "    - 인덱스를 이용해 항목 변경 가능 variable[num] = str\n",
    "    - extend(): 리스트 연장; +랑 같은 기능인데..?\n",
    "    - pop(index): 디폴트는 리스트의 마지막 요소를 제거하고 반환, 파라미터는 인덱스 넘버이고, 해당 넘버를 넣으면 해당 리스트이 요소를 리스트에서 제거하고 반환\n",
    "    - index(): 리스트의 인덱스를 반환\n",
    "    - sort(): 리스트 정렬, sorted(): 정렬된 리스트 복사본 반환\n",
    "\n",
    "\n",
    "- 딕셔너리\n",
    "    - 원소 추가: 리스트 추가와 동일 a[key] = value(키 중복되면 value를 교체)\n",
    "    - update(): 딕셔너리 병합 a.update(b)를 하면 a뒤에 b가 붙음\n",
    "    - del a['key']: 원소 삭제\n",
    "    - clear(): 딕셔너리 값 초기화\n",
    "    - in: key값 존재 확인\n",
    "    - dict['key']: 값에 접근(key가 없으면 에러 발생)\n",
    "    - get(): 값에 접근(ket가 없으면 None반환)\n",
    "    - keys(): 키만 반환\n",
    "    - values(): 값만 반환\n",
    "    \n",
    "\n",
    "- 집합(set)\n",
    "    - 수학에서 집합과 동일한 개념\n",
    "    - {}, set()으로 생성\n",
    "    - 연산: union, iontersection, difference 가능"
   ]
  },
  {
   "cell_type": "markdown",
   "metadata": {},
   "source": [
    "- 조건문\n",
    "    - while\n",
    "        - whilel 뒤의 조건이 ture일 경우 계속 수행\n",
    "        - 반복을 멈추게 하는 장치가 필요(false조건, break)\n",
    "        \n",
    "        \n",
    "- 반복문\n",
    "    - dictionary\n",
    "        - 키, 밸류, 키밸류를 순회 가능. \n",
    "            - for key in dict (키값)\n",
    "            - for value in dict.values() (value값)\n",
    "            - for key, value in dict.items() (키, 밸류 튜플)\n"
   ]
  },
  {
   "cell_type": "code",
   "execution_count": null,
   "metadata": {},
   "outputs": [],
   "source": []
  }
 ],
 "metadata": {
  "kernelspec": {
   "display_name": "Python 3",
   "language": "python",
   "name": "python3"
  },
  "language_info": {
   "codemirror_mode": {
    "name": "ipython",
    "version": 3
   },
   "file_extension": ".py",
   "mimetype": "text/x-python",
   "name": "python",
   "nbconvert_exporter": "python",
   "pygments_lexer": "ipython3",
   "version": "3.7.6"
  }
 },
 "nbformat": 4,
 "nbformat_minor": 4
}
