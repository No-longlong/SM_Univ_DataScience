{
 "cells": [
  {
   "cell_type": "code",
   "execution_count": 1,
   "metadata": {},
   "outputs": [],
   "source": [
    "import pandas as pd\n",
    "import numpy as np\n",
    "from scipy import stats\n",
    "import statsmodels.api as sm\n",
    "import statsmodels.formula.api as smf"
   ]
  },
  {
   "cell_type": "code",
   "execution_count": 2,
   "metadata": {},
   "outputs": [],
   "source": [
    "bank = pd.read_excel(\"bank-full.xlsx\")"
   ]
  },
  {
   "cell_type": "code",
   "execution_count": 3,
   "metadata": {},
   "outputs": [
    {
     "data": {
      "text/html": [
       "<div>\n",
       "<style scoped>\n",
       "    .dataframe tbody tr th:only-of-type {\n",
       "        vertical-align: middle;\n",
       "    }\n",
       "\n",
       "    .dataframe tbody tr th {\n",
       "        vertical-align: top;\n",
       "    }\n",
       "\n",
       "    .dataframe thead th {\n",
       "        text-align: right;\n",
       "    }\n",
       "</style>\n",
       "<table border=\"1\" class=\"dataframe\">\n",
       "  <thead>\n",
       "    <tr style=\"text-align: right;\">\n",
       "      <th></th>\n",
       "      <th>age</th>\n",
       "      <th>job</th>\n",
       "      <th>marital</th>\n",
       "      <th>education</th>\n",
       "      <th>default</th>\n",
       "      <th>balance</th>\n",
       "      <th>housing</th>\n",
       "      <th>loan</th>\n",
       "      <th>contact</th>\n",
       "      <th>day</th>\n",
       "      <th>month</th>\n",
       "      <th>duration</th>\n",
       "      <th>campaign</th>\n",
       "      <th>pdays</th>\n",
       "      <th>previous</th>\n",
       "      <th>poutcome</th>\n",
       "      <th>y</th>\n",
       "    </tr>\n",
       "  </thead>\n",
       "  <tbody>\n",
       "    <tr>\n",
       "      <td>0</td>\n",
       "      <td>58</td>\n",
       "      <td>management</td>\n",
       "      <td>married</td>\n",
       "      <td>tertiary</td>\n",
       "      <td>no</td>\n",
       "      <td>2143</td>\n",
       "      <td>yes</td>\n",
       "      <td>no</td>\n",
       "      <td>unknown</td>\n",
       "      <td>5</td>\n",
       "      <td>may</td>\n",
       "      <td>261</td>\n",
       "      <td>1</td>\n",
       "      <td>-1</td>\n",
       "      <td>0</td>\n",
       "      <td>unknown</td>\n",
       "      <td>no</td>\n",
       "    </tr>\n",
       "    <tr>\n",
       "      <td>1</td>\n",
       "      <td>44</td>\n",
       "      <td>technician</td>\n",
       "      <td>single</td>\n",
       "      <td>secondary</td>\n",
       "      <td>no</td>\n",
       "      <td>29</td>\n",
       "      <td>yes</td>\n",
       "      <td>no</td>\n",
       "      <td>unknown</td>\n",
       "      <td>5</td>\n",
       "      <td>may</td>\n",
       "      <td>151</td>\n",
       "      <td>1</td>\n",
       "      <td>-1</td>\n",
       "      <td>0</td>\n",
       "      <td>unknown</td>\n",
       "      <td>no</td>\n",
       "    </tr>\n",
       "    <tr>\n",
       "      <td>2</td>\n",
       "      <td>33</td>\n",
       "      <td>entrepreneur</td>\n",
       "      <td>married</td>\n",
       "      <td>secondary</td>\n",
       "      <td>no</td>\n",
       "      <td>2</td>\n",
       "      <td>yes</td>\n",
       "      <td>yes</td>\n",
       "      <td>unknown</td>\n",
       "      <td>5</td>\n",
       "      <td>may</td>\n",
       "      <td>76</td>\n",
       "      <td>1</td>\n",
       "      <td>-1</td>\n",
       "      <td>0</td>\n",
       "      <td>unknown</td>\n",
       "      <td>no</td>\n",
       "    </tr>\n",
       "    <tr>\n",
       "      <td>3</td>\n",
       "      <td>47</td>\n",
       "      <td>blue-collar</td>\n",
       "      <td>married</td>\n",
       "      <td>unknown</td>\n",
       "      <td>no</td>\n",
       "      <td>1506</td>\n",
       "      <td>yes</td>\n",
       "      <td>no</td>\n",
       "      <td>unknown</td>\n",
       "      <td>5</td>\n",
       "      <td>may</td>\n",
       "      <td>92</td>\n",
       "      <td>1</td>\n",
       "      <td>-1</td>\n",
       "      <td>0</td>\n",
       "      <td>unknown</td>\n",
       "      <td>no</td>\n",
       "    </tr>\n",
       "    <tr>\n",
       "      <td>4</td>\n",
       "      <td>33</td>\n",
       "      <td>unknown</td>\n",
       "      <td>single</td>\n",
       "      <td>unknown</td>\n",
       "      <td>no</td>\n",
       "      <td>1</td>\n",
       "      <td>no</td>\n",
       "      <td>no</td>\n",
       "      <td>unknown</td>\n",
       "      <td>5</td>\n",
       "      <td>may</td>\n",
       "      <td>198</td>\n",
       "      <td>1</td>\n",
       "      <td>-1</td>\n",
       "      <td>0</td>\n",
       "      <td>unknown</td>\n",
       "      <td>no</td>\n",
       "    </tr>\n",
       "  </tbody>\n",
       "</table>\n",
       "</div>"
      ],
      "text/plain": [
       "   age           job  marital  education default  balance housing loan  \\\n",
       "0   58    management  married   tertiary      no     2143     yes   no   \n",
       "1   44    technician   single  secondary      no       29     yes   no   \n",
       "2   33  entrepreneur  married  secondary      no        2     yes  yes   \n",
       "3   47   blue-collar  married    unknown      no     1506     yes   no   \n",
       "4   33       unknown   single    unknown      no        1      no   no   \n",
       "\n",
       "   contact  day month  duration  campaign  pdays  previous poutcome   y  \n",
       "0  unknown    5   may       261         1     -1         0  unknown  no  \n",
       "1  unknown    5   may       151         1     -1         0  unknown  no  \n",
       "2  unknown    5   may        76         1     -1         0  unknown  no  \n",
       "3  unknown    5   may        92         1     -1         0  unknown  no  \n",
       "4  unknown    5   may       198         1     -1         0  unknown  no  "
      ]
     },
     "execution_count": 3,
     "metadata": {},
     "output_type": "execute_result"
    }
   ],
   "source": [
    "bank.head()"
   ]
  },
  {
   "cell_type": "code",
   "execution_count": 4,
   "metadata": {},
   "outputs": [
    {
     "data": {
      "text/plain": [
       "(0.45481963548050097, 0.0)"
      ]
     },
     "execution_count": 4,
     "metadata": {},
     "output_type": "execute_result"
    }
   ],
   "source": [
    "corr = stats.pearsonr(bank.pdays, bank.previous)\n",
    "corr"
   ]
  },
  {
   "cell_type": "code",
   "execution_count": 5,
   "metadata": {},
   "outputs": [
    {
     "data": {
      "text/html": [
       "<div>\n",
       "<style scoped>\n",
       "    .dataframe tbody tr th:only-of-type {\n",
       "        vertical-align: middle;\n",
       "    }\n",
       "\n",
       "    .dataframe tbody tr th {\n",
       "        vertical-align: top;\n",
       "    }\n",
       "\n",
       "    .dataframe thead th {\n",
       "        text-align: right;\n",
       "    }\n",
       "</style>\n",
       "<table border=\"1\" class=\"dataframe\">\n",
       "  <thead>\n",
       "    <tr style=\"text-align: right;\">\n",
       "      <th></th>\n",
       "      <th>pdays</th>\n",
       "      <th>previous</th>\n",
       "    </tr>\n",
       "  </thead>\n",
       "  <tbody>\n",
       "    <tr>\n",
       "      <td>pdays</td>\n",
       "      <td>1.00000</td>\n",
       "      <td>0.45482</td>\n",
       "    </tr>\n",
       "    <tr>\n",
       "      <td>previous</td>\n",
       "      <td>0.45482</td>\n",
       "      <td>1.00000</td>\n",
       "    </tr>\n",
       "  </tbody>\n",
       "</table>\n",
       "</div>"
      ],
      "text/plain": [
       "            pdays  previous\n",
       "pdays     1.00000   0.45482\n",
       "previous  0.45482   1.00000"
      ]
     },
     "execution_count": 5,
     "metadata": {},
     "output_type": "execute_result"
    }
   ],
   "source": [
    "corr = bank[['pdays', 'previous']]\n",
    "corr.corr()"
   ]
  },
  {
   "cell_type": "code",
   "execution_count": 6,
   "metadata": {},
   "outputs": [
    {
     "data": {
      "text/plain": [
       "<matplotlib.axes._subplots.AxesSubplot at 0x1b0e285e108>"
      ]
     },
     "execution_count": 6,
     "metadata": {},
     "output_type": "execute_result"
    }
   ],
   "source": [
    "import seaborn as sns"
   ]
  },
  {
   "cell_type": "code",
   "execution_count": 9,
   "metadata": {},
   "outputs": [
    {
     "data": {
      "text/plain": [
       "<matplotlib.axes._subplots.AxesSubplot at 0x1b0e3b14e88>"
      ]
     },
     "execution_count": 9,
     "metadata": {},
     "output_type": "execute_result"
    },
    {
     "data": {
      "image/png": "[encoded data removed]",
      "text/plain": [
       "<Figure size 432x288 with 1 Axes>"
      ]
     },
     "metadata": {
      "needs_background": "light"
     },
     "output_type": "display_data"
    }
   ],
   "source": [
    "sns.regplot('pdays','previous',bank)  # 독립 종속을 바꿔주면 그래프 모양이 바뀐다.\n",
    "# 회귀선까지 그려주는 seaborn의 함수인 regplot"
   ]
  },
  {
   "cell_type": "code",
   "execution_count": 10,
   "metadata": {},
   "outputs": [],
   "source": [
    "linear_model = smf.ols(formula = 'previous ~ pdays', data = bank).fit() # 앞이 종속변수, 뒤가 독립변수"
   ]
  },
  {
   "cell_type": "code",
   "execution_count": 11,
   "metadata": {},
   "outputs": [
    {
     "data": {
      "text/html": [
       "<table class=\"simpletable\">\n",
       "<caption>OLS Regression Results</caption>\n",
       "<tr>\n",
       "  <th>Dep. Variable:</th>        <td>previous</td>     <th>  R-squared:         </th> <td>   0.207</td> \n",
       "</tr>\n",
       "<tr>\n",
       "  <th>Model:</th>                   <td>OLS</td>       <th>  Adj. R-squared:    </th> <td>   0.207</td> \n",
       "</tr>\n",
       "<tr>\n",
       "  <th>Method:</th>             <td>Least Squares</td>  <th>  F-statistic:       </th> <td>1.179e+04</td>\n",
       "</tr>\n",
       "<tr>\n",
       "  <th>Date:</th>             <td>Mon, 30 Dec 2019</td> <th>  Prob (F-statistic):</th>  <td>  0.00</td>  \n",
       "</tr>\n",
       "<tr>\n",
       "  <th>Time:</th>                 <td>13:19:08</td>     <th>  Log-Likelihood:    </th> <td> -96636.</td> \n",
       "</tr>\n",
       "<tr>\n",
       "  <th>No. Observations:</th>      <td> 45211</td>      <th>  AIC:               </th> <td>1.933e+05</td>\n",
       "</tr>\n",
       "<tr>\n",
       "  <th>Df Residuals:</th>          <td> 45209</td>      <th>  BIC:               </th> <td>1.933e+05</td>\n",
       "</tr>\n",
       "<tr>\n",
       "  <th>Df Model:</th>              <td>     1</td>      <th>                     </th>     <td> </td>    \n",
       "</tr>\n",
       "<tr>\n",
       "  <th>Covariance Type:</th>      <td>nonrobust</td>    <th>                     </th>     <td> </td>    \n",
       "</tr>\n",
       "</table>\n",
       "<table class=\"simpletable\">\n",
       "<tr>\n",
       "      <td></td>         <th>coef</th>     <th>std err</th>      <th>t</th>      <th>P>|t|</th>  <th>[0.025</th>    <th>0.975]</th>  \n",
       "</tr>\n",
       "<tr>\n",
       "  <th>Intercept</th> <td>    0.1597</td> <td>    0.010</td> <td>   15.364</td> <td> 0.000</td> <td>    0.139</td> <td>    0.180</td>\n",
       "</tr>\n",
       "<tr>\n",
       "  <th>pdays</th>     <td>    0.0105</td> <td> 9.64e-05</td> <td>  108.587</td> <td> 0.000</td> <td>    0.010</td> <td>    0.011</td>\n",
       "</tr>\n",
       "</table>\n",
       "<table class=\"simpletable\">\n",
       "<tr>\n",
       "  <th>Omnibus:</th>       <td>148535.559</td> <th>  Durbin-Watson:     </th>    <td>   1.944</td>    \n",
       "</tr>\n",
       "<tr>\n",
       "  <th>Prob(Omnibus):</th>   <td> 0.000</td>   <th>  Jarque-Bera (JB):  </th> <td>89804625626.573</td>\n",
       "</tr>\n",
       "<tr>\n",
       "  <th>Skew:</th>            <td>55.977</td>   <th>  Prob(JB):          </th>    <td>    0.00</td>    \n",
       "</tr>\n",
       "<tr>\n",
       "  <th>Kurtosis:</th>       <td>6906.603</td>  <th>  Cond. No.          </th>    <td>    116.</td>    \n",
       "</tr>\n",
       "</table><br/><br/>Warnings:<br/>[1] Standard Errors assume that the covariance matrix of the errors is correctly specified."
      ],
      "text/plain": [
       "<class 'statsmodels.iolib.summary.Summary'>\n",
       "\"\"\"\n",
       "                            OLS Regression Results                            \n",
       "==============================================================================\n",
       "Dep. Variable:               previous   R-squared:                       0.207\n",
       "Model:                            OLS   Adj. R-squared:                  0.207\n",
       "Method:                 Least Squares   F-statistic:                 1.179e+04\n",
       "Date:                Mon, 30 Dec 2019   Prob (F-statistic):               0.00\n",
       "Time:                        13:19:08   Log-Likelihood:                -96636.\n",
       "No. Observations:               45211   AIC:                         1.933e+05\n",
       "Df Residuals:                   45209   BIC:                         1.933e+05\n",
       "Df Model:                           1                                         \n",
       "Covariance Type:            nonrobust                                         \n",
       "==============================================================================\n",
       "                 coef    std err          t      P>|t|      [0.025      0.975]\n",
       "------------------------------------------------------------------------------\n",
       "Intercept      0.1597      0.010     15.364      0.000       0.139       0.180\n",
       "pdays          0.0105   9.64e-05    108.587      0.000       0.010       0.011\n",
       "==============================================================================\n",
       "Omnibus:                   148535.559   Durbin-Watson:                   1.944\n",
       "Prob(Omnibus):                  0.000   Jarque-Bera (JB):      89804625626.573\n",
       "Skew:                          55.977   Prob(JB):                         0.00\n",
       "Kurtosis:                    6906.603   Cond. No.                         116.\n",
       "==============================================================================\n",
       "\n",
       "Warnings:\n",
       "[1] Standard Errors assume that the covariance matrix of the errors is correctly specified.\n",
       "\"\"\""
      ]
     },
     "execution_count": 11,
     "metadata": {},
     "output_type": "execute_result"
    }
   ],
   "source": [
    "linear_model.summary() # 만든 모델의 요약 , summary2()로도 나타낼 수 있다. print()와 결합할 수도 있다.\n",
    "# R스퀘어, F값(p값), t값(p값) 들의 확인이 중요 "
   ]
  },
  {
   "cell_type": "code",
   "execution_count": 13,
   "metadata": {},
   "outputs": [
    {
     "name": "stdout",
     "output_type": "stream",
     "text": [
      "                  Results: Ordinary least squares\n",
      "====================================================================\n",
      "Model:              OLS              Adj. R-squared:     0.207      \n",
      "Dependent Variable: previous         AIC:                193276.7981\n",
      "Date:               2019-12-30 13:21 BIC:                193294.2363\n",
      "No. Observations:   45211            Log-Likelihood:     -96636.    \n",
      "Df Model:           1                F-statistic:        1.179e+04  \n",
      "Df Residuals:       45209            Prob (F-statistic): 0.00       \n",
      "R-squared:          0.207            Scale:              4.2084     \n",
      "----------------------------------------------------------------------\n",
      "               Coef.    Std.Err.      t       P>|t|    [0.025   0.975]\n",
      "----------------------------------------------------------------------\n",
      "Intercept      0.1597     0.0104    15.3642   0.0000   0.1394   0.1801\n",
      "pdays          0.0105     0.0001   108.5868   0.0000   0.0103   0.0107\n",
      "--------------------------------------------------------------------\n",
      "Omnibus:          148535.559    Durbin-Watson:       1.944          \n",
      "Prob(Omnibus):    0.000         Jarque-Bera (JB):    89804625626.573\n",
      "Skew:             55.977        Prob(JB):            0.000          \n",
      "Kurtosis:         6906.603      Condition No.:       116            \n",
      "====================================================================\n",
      "\n"
     ]
    }
   ],
   "source": [
    "print(linear_model.summary2())\n",
    "# R스퀘어 값에 대한 설명 - 상관계수 제곱, 설명력"
   ]
  },
  {
   "cell_type": "code",
   "execution_count": 42,
   "metadata": {},
   "outputs": [],
   "source": [
    "linear_model2 = smf.ols(formula = 'previous ~ age + balance  + pdays ', data=bank).fit()"
   ]
  },
  {
   "cell_type": "code",
   "execution_count": 43,
   "metadata": {},
   "outputs": [
    {
     "name": "stdout",
     "output_type": "stream",
     "text": [
      "                            OLS Regression Results                            \n",
      "==============================================================================\n",
      "Dep. Variable:               previous   R-squared:                       0.207\n",
      "Model:                            OLS   Adj. R-squared:                  0.207\n",
      "Method:                 Least Squares   F-statistic:                     3938.\n",
      "Date:                Mon, 30 Dec 2019   Prob (F-statistic):               0.00\n",
      "Time:                        13:37:12   Log-Likelihood:                -96627.\n",
      "No. Observations:               45211   AIC:                         1.933e+05\n",
      "Df Residuals:                   45207   BIC:                         1.933e+05\n",
      "Df Model:                           3                                         \n",
      "Covariance Type:            nonrobust                                         \n",
      "==============================================================================\n",
      "                 coef    std err          t      P>|t|      [0.025      0.975]\n",
      "------------------------------------------------------------------------------\n",
      "Intercept      0.0498      0.039      1.287      0.198      -0.026       0.126\n",
      "age            0.0023      0.001      2.548      0.011       0.001       0.004\n",
      "balance     1.064e-05   3.18e-06      3.342      0.001     4.4e-06    1.69e-05\n",
      "pdays          0.0105   9.64e-05    108.625      0.000       0.010       0.011\n",
      "==============================================================================\n",
      "Omnibus:                   148572.141   Durbin-Watson:                   1.945\n",
      "Prob(Omnibus):                  0.000   Jarque-Bera (JB):      89985812183.940\n",
      "Skew:                          56.017   Prob(JB):                         0.00\n",
      "Kurtosis:                    6913.564   Cond. No.                     1.34e+04\n",
      "==============================================================================\n",
      "\n",
      "Warnings:\n",
      "[1] Standard Errors assume that the covariance matrix of the errors is correctly specified.\n",
      "[2] The condition number is large, 1.34e+04. This might indicate that there are\n",
      "strong multicollinearity or other numerical problems.\n"
     ]
    }
   ],
   "source": [
    "print(linear_model2.summary())\n",
    "# condition No.은 이 수치가 커질수록 약간의 변화로 값들이 달라질 수 있음을 의미(이유: 단위 다름, 다중 공선성)\n",
    "# previous를 설명하기에 pdays만 있어도 된다 - 어느 조합을 해도 R스퀘어 값이 0.207이며, 조합할 경우는 F값이 오히려 떨어진다.\n",
    "# 즉 pdays가 가장 크리티컬 하고 나머지 애들은 잔챙이라고 판단."
   ]
  },
  {
   "cell_type": "code",
   "execution_count": 17,
   "metadata": {},
   "outputs": [
    {
     "data": {
      "text/html": [
       "<div>\n",
       "<style scoped>\n",
       "    .dataframe tbody tr th:only-of-type {\n",
       "        vertical-align: middle;\n",
       "    }\n",
       "\n",
       "    .dataframe tbody tr th {\n",
       "        vertical-align: top;\n",
       "    }\n",
       "\n",
       "    .dataframe thead th {\n",
       "        text-align: right;\n",
       "    }\n",
       "</style>\n",
       "<table border=\"1\" class=\"dataframe\">\n",
       "  <thead>\n",
       "    <tr style=\"text-align: right;\">\n",
       "      <th></th>\n",
       "      <th>age</th>\n",
       "      <th>balance</th>\n",
       "      <th>day</th>\n",
       "      <th>duration</th>\n",
       "      <th>campaign</th>\n",
       "      <th>pdays</th>\n",
       "      <th>previous</th>\n",
       "    </tr>\n",
       "  </thead>\n",
       "  <tbody>\n",
       "    <tr>\n",
       "      <td>count</td>\n",
       "      <td>45211.000000</td>\n",
       "      <td>45211.000000</td>\n",
       "      <td>45211.000000</td>\n",
       "      <td>45211.000000</td>\n",
       "      <td>45211.000000</td>\n",
       "      <td>45211.000000</td>\n",
       "      <td>45211.000000</td>\n",
       "    </tr>\n",
       "    <tr>\n",
       "      <td>mean</td>\n",
       "      <td>40.936210</td>\n",
       "      <td>1362.272058</td>\n",
       "      <td>15.806419</td>\n",
       "      <td>258.163080</td>\n",
       "      <td>2.763841</td>\n",
       "      <td>40.197828</td>\n",
       "      <td>0.580323</td>\n",
       "    </tr>\n",
       "    <tr>\n",
       "      <td>std</td>\n",
       "      <td>10.618762</td>\n",
       "      <td>3044.765829</td>\n",
       "      <td>8.322476</td>\n",
       "      <td>257.527812</td>\n",
       "      <td>3.098021</td>\n",
       "      <td>100.128746</td>\n",
       "      <td>2.303441</td>\n",
       "    </tr>\n",
       "    <tr>\n",
       "      <td>min</td>\n",
       "      <td>18.000000</td>\n",
       "      <td>-8019.000000</td>\n",
       "      <td>1.000000</td>\n",
       "      <td>0.000000</td>\n",
       "      <td>1.000000</td>\n",
       "      <td>-1.000000</td>\n",
       "      <td>0.000000</td>\n",
       "    </tr>\n",
       "    <tr>\n",
       "      <td>25%</td>\n",
       "      <td>33.000000</td>\n",
       "      <td>72.000000</td>\n",
       "      <td>8.000000</td>\n",
       "      <td>103.000000</td>\n",
       "      <td>1.000000</td>\n",
       "      <td>-1.000000</td>\n",
       "      <td>0.000000</td>\n",
       "    </tr>\n",
       "    <tr>\n",
       "      <td>50%</td>\n",
       "      <td>39.000000</td>\n",
       "      <td>448.000000</td>\n",
       "      <td>16.000000</td>\n",
       "      <td>180.000000</td>\n",
       "      <td>2.000000</td>\n",
       "      <td>-1.000000</td>\n",
       "      <td>0.000000</td>\n",
       "    </tr>\n",
       "    <tr>\n",
       "      <td>75%</td>\n",
       "      <td>48.000000</td>\n",
       "      <td>1428.000000</td>\n",
       "      <td>21.000000</td>\n",
       "      <td>319.000000</td>\n",
       "      <td>3.000000</td>\n",
       "      <td>-1.000000</td>\n",
       "      <td>0.000000</td>\n",
       "    </tr>\n",
       "    <tr>\n",
       "      <td>max</td>\n",
       "      <td>95.000000</td>\n",
       "      <td>102127.000000</td>\n",
       "      <td>31.000000</td>\n",
       "      <td>4918.000000</td>\n",
       "      <td>63.000000</td>\n",
       "      <td>871.000000</td>\n",
       "      <td>275.000000</td>\n",
       "    </tr>\n",
       "  </tbody>\n",
       "</table>\n",
       "</div>"
      ],
      "text/plain": [
       "                age        balance           day      duration      campaign  \\\n",
       "count  45211.000000   45211.000000  45211.000000  45211.000000  45211.000000   \n",
       "mean      40.936210    1362.272058     15.806419    258.163080      2.763841   \n",
       "std       10.618762    3044.765829      8.322476    257.527812      3.098021   \n",
       "min       18.000000   -8019.000000      1.000000      0.000000      1.000000   \n",
       "25%       33.000000      72.000000      8.000000    103.000000      1.000000   \n",
       "50%       39.000000     448.000000     16.000000    180.000000      2.000000   \n",
       "75%       48.000000    1428.000000     21.000000    319.000000      3.000000   \n",
       "max       95.000000  102127.000000     31.000000   4918.000000     63.000000   \n",
       "\n",
       "              pdays      previous  \n",
       "count  45211.000000  45211.000000  \n",
       "mean      40.197828      0.580323  \n",
       "std      100.128746      2.303441  \n",
       "min       -1.000000      0.000000  \n",
       "25%       -1.000000      0.000000  \n",
       "50%       -1.000000      0.000000  \n",
       "75%       -1.000000      0.000000  \n",
       "max      871.000000    275.000000  "
      ]
     },
     "execution_count": 17,
     "metadata": {},
     "output_type": "execute_result"
    }
   ],
   "source": [
    "bank.describe()"
   ]
  },
  {
   "cell_type": "code",
   "execution_count": 63,
   "metadata": {},
   "outputs": [
    {
     "name": "stdout",
     "output_type": "stream",
     "text": [
      "                            OLS Regression Results                            \n",
      "==============================================================================\n",
      "Dep. Variable:                balance   R-squared:                       0.010\n",
      "Model:                            OLS   Adj. R-squared:                  0.010\n",
      "Method:                 Least Squares   F-statistic:                     119.7\n",
      "Date:                Mon, 30 Dec 2019   Prob (F-statistic):          9.04e-102\n",
      "Time:                        13:46:38   Log-Likelihood:            -4.2656e+05\n",
      "No. Observations:               45211   AIC:                         8.531e+05\n",
      "Df Residuals:                   45206   BIC:                         8.532e+05\n",
      "Df Model:                           4                                         \n",
      "Covariance Type:            nonrobust                                         \n",
      "==============================================================================\n",
      "                 coef    std err          t      P>|t|      [0.025      0.975]\n",
      "------------------------------------------------------------------------------\n",
      "Intercept    171.3273     60.283      2.842      0.004      53.172     289.483\n",
      "age           28.0770      1.342     20.929      0.000      25.448      30.706\n",
      "duration       0.2473      0.056      4.455      0.000       0.139       0.356\n",
      "campaign     -12.5272      4.617     -2.713      0.007     -21.577      -3.477\n",
      "previous      21.2862      6.188      3.440      0.001       9.158      33.414\n",
      "==============================================================================\n",
      "Omnibus:                    64595.452   Durbin-Watson:                   1.930\n",
      "Prob(Omnibus):                  0.000   Jarque-Bera (JB):         37570347.274\n",
      "Skew:                           8.335   Prob(JB):                         0.00\n",
      "Kurtosis:                     143.236   Cond. No.                     1.55e+03\n",
      "==============================================================================\n",
      "\n",
      "Warnings:\n",
      "[1] Standard Errors assume that the covariance matrix of the errors is correctly specified.\n",
      "[2] The condition number is large, 1.55e+03. This might indicate that there are\n",
      "strong multicollinearity or other numerical problems.\n"
     ]
    }
   ],
   "source": [
    "linear_model3 = smf.ols(formula = 'balance ~ age + duration + campaign  + previous ', data=bank).fit()\n",
    "print(linear_model3.summary())"
   ]
  },
  {
   "cell_type": "code",
   "execution_count": 68,
   "metadata": {},
   "outputs": [
    {
     "data": {
      "text/plain": [
       "married     27214\n",
       "single      12790\n",
       "divorced     5207\n",
       "Name: marital, dtype: int64"
      ]
     },
     "execution_count": 68,
     "metadata": {},
     "output_type": "execute_result"
    }
   ],
   "source": [
    "# REcode\n",
    "bank['marital'].value_counts() # 각각 value가 몇개인지 확인 "
   ]
  },
  {
   "cell_type": "code",
   "execution_count": 69,
   "metadata": {},
   "outputs": [
    {
     "data": {
      "text/plain": [
       "0    2\n",
       "1    1\n",
       "2    2\n",
       "3    2\n",
       "4    1\n",
       "Name: marital_G, dtype: int64"
      ]
     },
     "execution_count": 69,
     "metadata": {},
     "output_type": "execute_result"
    }
   ],
   "source": [
    "bank['marital_G'] = bank['marital'].replace(['single','married','divorced'],[1,2,3])\n",
    "bank['marital_G'].head() # 결과값은 인덱스와 바뀐값을 의미 head()니까."
   ]
  },
  {
   "cell_type": "code",
   "execution_count": 70,
   "metadata": {},
   "outputs": [
    {
     "data": {
      "text/plain": [
       "2    27214\n",
       "1    12790\n",
       "3     5207\n",
       "Name: marital_G, dtype: int64"
      ]
     },
     "execution_count": 70,
     "metadata": {},
     "output_type": "execute_result"
    }
   ],
   "source": [
    "bank['marital_G'].value_counts() # 바뀐거 확인 "
   ]
  },
  {
   "cell_type": "code",
   "execution_count": 72,
   "metadata": {},
   "outputs": [
    {
     "data": {
      "text/plain": [
       "secondary    23202\n",
       "tertiary     13301\n",
       "primary       6851\n",
       "unknown       1857\n",
       "Name: education, dtype: int64"
      ]
     },
     "execution_count": 72,
     "metadata": {},
     "output_type": "execute_result"
    }
   ],
   "source": [
    "bank['education'].value_counts() # unknown을 결측처리 해줄것이다. 아래의 None으로 REcode 함으로써. ㅏ"
   ]
  },
  {
   "cell_type": "code",
   "execution_count": 76,
   "metadata": {},
   "outputs": [
    {
     "data": {
      "text/plain": [
       "0    3.0\n",
       "1    2.0\n",
       "2    2.0\n",
       "3    NaN\n",
       "4    NaN\n",
       "Name: education_G, dtype: float64"
      ]
     },
     "execution_count": 76,
     "metadata": {},
     "output_type": "execute_result"
    }
   ],
   "source": [
    "bank['education_G'] = bank['education'].replace(['primary','secondary','tertiary','unknown'],[1,2,3,None])\n",
    "bank['education_G'].head()"
   ]
  },
  {
   "cell_type": "code",
   "execution_count": 78,
   "metadata": {},
   "outputs": [
    {
     "data": {
      "text/plain": [
       "2.0    23202\n",
       "3.0    13301\n",
       "1.0     6851\n",
       "Name: education_G, dtype: int64"
      ]
     },
     "execution_count": 78,
     "metadata": {},
     "output_type": "execute_result"
    }
   ],
   "source": [
    "bank['education_G'].value_counts()"
   ]
  },
  {
   "cell_type": "code",
   "execution_count": 86,
   "metadata": {},
   "outputs": [
    {
     "data": {
      "text/plain": [
       "0    1\n",
       "1    1\n",
       "2    1\n",
       "3    1\n",
       "4    0\n",
       "Name: housing_G, dtype: int64"
      ]
     },
     "execution_count": 86,
     "metadata": {},
     "output_type": "execute_result"
    }
   ],
   "source": [
    "bank['housing_G'] = bank['housing'].replace(['yes','no'],[1,0])\n",
    "bank['housing_G'].head()"
   ]
  },
  {
   "cell_type": "code",
   "execution_count": 83,
   "metadata": {},
   "outputs": [
    {
     "data": {
      "text/plain": [
       "1    25130\n",
       "2    20081\n",
       "Name: housing_G, dtype: int64"
      ]
     },
     "execution_count": 83,
     "metadata": {},
     "output_type": "execute_result"
    }
   ],
   "source": [
    "bank['housing_G'].value_counts()"
   ]
  },
  {
   "cell_type": "code",
   "execution_count": 87,
   "metadata": {},
   "outputs": [
    {
     "data": {
      "text/plain": [
       "0    0\n",
       "1    0\n",
       "2    1\n",
       "3    0\n",
       "4    0\n",
       "Name: loan_G, dtype: int64"
      ]
     },
     "execution_count": 87,
     "metadata": {},
     "output_type": "execute_result"
    }
   ],
   "source": [
    "bank['loan_G'] = bank['loan'].replace(['yes','no'],[1,0])\n",
    "bank['loan_G'].head()"
   ]
  },
  {
   "cell_type": "code",
   "execution_count": 85,
   "metadata": {},
   "outputs": [
    {
     "data": {
      "text/plain": [
       "2    37967\n",
       "1     7244\n",
       "Name: loan_G, dtype: int64"
      ]
     },
     "execution_count": 85,
     "metadata": {},
     "output_type": "execute_result"
    }
   ],
   "source": [
    "bank['loan_G'].value_counts()"
   ]
  },
  {
   "cell_type": "code",
   "execution_count": 89,
   "metadata": {},
   "outputs": [
    {
     "data": {
      "text/plain": [
       "0    0\n",
       "1    0\n",
       "2    0\n",
       "3    0\n",
       "4    0\n",
       "Name: default_G, dtype: int64"
      ]
     },
     "execution_count": 89,
     "metadata": {},
     "output_type": "execute_result"
    }
   ],
   "source": [
    "bank['default_G'] = bank['default'].replace(['yes','no'],[1,0])\n",
    "bank['default_G'].head()"
   ]
  },
  {
   "cell_type": "code",
   "execution_count": 91,
   "metadata": {},
   "outputs": [
    {
     "data": {
      "text/plain": [
       "45206    1.0\n",
       "45207    1.0\n",
       "45208    1.0\n",
       "45209    2.0\n",
       "45210    1.0\n",
       "Name: contact_G, dtype: float64"
      ]
     },
     "execution_count": 91,
     "metadata": {},
     "output_type": "execute_result"
    }
   ],
   "source": [
    "bank['contact_G'] = bank['contact'].replace(['cellular','telephone','unknown'],[1,2,None])\n",
    "bank['contact_G'].tail()"
   ]
  },
  {
   "cell_type": "code",
   "execution_count": 93,
   "metadata": {},
   "outputs": [
    {
     "data": {
      "text/plain": [
       "0.0    4901\n",
       "1.0    1511\n",
       "Name: poutcome_G, dtype: int64"
      ]
     },
     "execution_count": 93,
     "metadata": {},
     "output_type": "execute_result"
    }
   ],
   "source": [
    "bank['poutcome_G'] = bank['poutcome'].replace(['failure','success','unknown','other'],[0,1,None,None])\n",
    "bank['poutcome_G'].value_counts()"
   ]
  },
  {
   "cell_type": "code",
   "execution_count": 94,
   "metadata": {},
   "outputs": [
    {
     "data": {
      "text/plain": [
       "0    39922\n",
       "1     5289\n",
       "Name: y_G, dtype: int64"
      ]
     },
     "execution_count": 94,
     "metadata": {},
     "output_type": "execute_result"
    }
   ],
   "source": [
    "bank['y_G'] = bank['y'].replace(['yes','no'],[1,0])\n",
    "bank['y_G'].value_counts()"
   ]
  },
  {
   "cell_type": "code",
   "execution_count": 97,
   "metadata": {},
   "outputs": [
    {
     "data": {
      "text/plain": [
       "2.0     9732\n",
       "5.0     9458\n",
       "10.0    7597\n",
       "1.0     5171\n",
       "8.0     4154\n",
       "6.0     2264\n",
       "7.0     1579\n",
       "3.0     1487\n",
       "11.0    1303\n",
       "4.0     1240\n",
       "9.0      938\n",
       "Name: job_G, dtype: int64"
      ]
     },
     "execution_count": 97,
     "metadata": {},
     "output_type": "execute_result"
    }
   ],
   "source": [
    "bank['job_G'] = bank['job'].replace(['admin.','blue-collar','entrepreneur','housemaid','management','retired','self-employed','services','student','technician','unemployed','unknown'],[1,2,3,4,5,6,7,8,9,10,11,None])\n",
    "bank['job_G'].value_counts()"
   ]
  },
  {
   "cell_type": "code",
   "execution_count": 100,
   "metadata": {},
   "outputs": [
    {
     "data": {
      "text/plain": [
       "5     13766\n",
       "7      6895\n",
       "8      6247\n",
       "6      5341\n",
       "11     3970\n",
       "4      2932\n",
       "2      2649\n",
       "1      1403\n",
       "10      738\n",
       "9       579\n",
       "3       477\n",
       "12      214\n",
       "Name: month_G, dtype: int64"
      ]
     },
     "execution_count": 100,
     "metadata": {},
     "output_type": "execute_result"
    }
   ],
   "source": [
    "bank['month_G'] = bank['month'].replace(['jan','feb','mar','apr','may','jun','jul','aug','sep','oct','nov','dec'],[1,2,3,4,5,6,7,8,9,10,11,12])\n",
    "bank['month_G'].value_counts()"
   ]
  },
  {
   "cell_type": "code",
   "execution_count": 104,
   "metadata": {},
   "outputs": [
    {
     "data": {
      "text/html": [
       "<div>\n",
       "<style scoped>\n",
       "    .dataframe tbody tr th:only-of-type {\n",
       "        vertical-align: middle;\n",
       "    }\n",
       "\n",
       "    .dataframe tbody tr th {\n",
       "        vertical-align: top;\n",
       "    }\n",
       "\n",
       "    .dataframe thead th {\n",
       "        text-align: right;\n",
       "    }\n",
       "</style>\n",
       "<table border=\"1\" class=\"dataframe\">\n",
       "  <thead>\n",
       "    <tr style=\"text-align: right;\">\n",
       "      <th></th>\n",
       "      <th>y_G</th>\n",
       "      <th>age</th>\n",
       "      <th>duration</th>\n",
       "      <th>pdays</th>\n",
       "      <th>marital_G</th>\n",
       "      <th>loan_G</th>\n",
       "      <th>contact_G</th>\n",
       "    </tr>\n",
       "  </thead>\n",
       "  <tbody>\n",
       "    <tr>\n",
       "      <td>0</td>\n",
       "      <td>0</td>\n",
       "      <td>58</td>\n",
       "      <td>261</td>\n",
       "      <td>-1</td>\n",
       "      <td>2</td>\n",
       "      <td>0</td>\n",
       "      <td>NaN</td>\n",
       "    </tr>\n",
       "    <tr>\n",
       "      <td>1</td>\n",
       "      <td>0</td>\n",
       "      <td>44</td>\n",
       "      <td>151</td>\n",
       "      <td>-1</td>\n",
       "      <td>1</td>\n",
       "      <td>0</td>\n",
       "      <td>NaN</td>\n",
       "    </tr>\n",
       "    <tr>\n",
       "      <td>2</td>\n",
       "      <td>0</td>\n",
       "      <td>33</td>\n",
       "      <td>76</td>\n",
       "      <td>-1</td>\n",
       "      <td>2</td>\n",
       "      <td>1</td>\n",
       "      <td>NaN</td>\n",
       "    </tr>\n",
       "    <tr>\n",
       "      <td>3</td>\n",
       "      <td>0</td>\n",
       "      <td>47</td>\n",
       "      <td>92</td>\n",
       "      <td>-1</td>\n",
       "      <td>2</td>\n",
       "      <td>0</td>\n",
       "      <td>NaN</td>\n",
       "    </tr>\n",
       "    <tr>\n",
       "      <td>4</td>\n",
       "      <td>0</td>\n",
       "      <td>33</td>\n",
       "      <td>198</td>\n",
       "      <td>-1</td>\n",
       "      <td>1</td>\n",
       "      <td>0</td>\n",
       "      <td>NaN</td>\n",
       "    </tr>\n",
       "  </tbody>\n",
       "</table>\n",
       "</div>"
      ],
      "text/plain": [
       "   y_G  age  duration  pdays  marital_G  loan_G  contact_G\n",
       "0    0   58       261     -1          2       0        NaN\n",
       "1    0   44       151     -1          1       0        NaN\n",
       "2    0   33        76     -1          2       1        NaN\n",
       "3    0   47        92     -1          2       0        NaN\n",
       "4    0   33       198     -1          1       0        NaN"
      ]
     },
     "execution_count": 104,
     "metadata": {},
     "output_type": "execute_result"
    }
   ],
   "source": [
    "bank_lr = bank[['y_G','age','duration','pdays','marital_G','loan_G','contact_G']]\n",
    "bank_lr.head()"
   ]
  },
  {
   "cell_type": "code",
   "execution_count": 105,
   "metadata": {},
   "outputs": [
    {
     "name": "stdout",
     "output_type": "stream",
     "text": [
      "<class 'pandas.core.frame.DataFrame'>\n",
      "RangeIndex: 45211 entries, 0 to 45210\n",
      "Data columns (total 7 columns):\n",
      "y_G          45211 non-null int64\n",
      "age          45211 non-null int64\n",
      "duration     45211 non-null int64\n",
      "pdays        45211 non-null int64\n",
      "marital_G    45211 non-null int64\n",
      "loan_G       45211 non-null int64\n",
      "contact_G    32191 non-null float64\n",
      "dtypes: float64(1), int64(6)\n",
      "memory usage: 2.4 MB\n"
     ]
    }
   ],
   "source": [
    "bank_lr.info() # None값이 제외된 contact_G를 빼고 모두 데이터 개수가 45211개이다."
   ]
  },
  {
   "cell_type": "code",
   "execution_count": 108,
   "metadata": {},
   "outputs": [
    {
     "data": {
      "text/plain": [
       "y_G              0\n",
       "age              0\n",
       "duration         0\n",
       "pdays            0\n",
       "marital_G        0\n",
       "loan_G           0\n",
       "contact_G    13020\n",
       "dtype: int64"
      ]
     },
     "execution_count": 108,
     "metadata": {},
     "output_type": "execute_result"
    }
   ],
   "source": [
    "bank_lr.isnull().sum() # None값만 확인"
   ]
  },
  {
   "cell_type": "code",
   "execution_count": 107,
   "metadata": {},
   "outputs": [],
   "source": [
    "bank_lr_na = bank_lr.dropna() # None이 있는 값을 다 날려버리는 함수 "
   ]
  },
  {
   "cell_type": "code",
   "execution_count": 109,
   "metadata": {},
   "outputs": [
    {
     "data": {
      "text/plain": [
       "y_G          0\n",
       "age          0\n",
       "duration     0\n",
       "pdays        0\n",
       "marital_G    0\n",
       "loan_G       0\n",
       "contact_G    0\n",
       "dtype: int64"
      ]
     },
     "execution_count": 109,
     "metadata": {},
     "output_type": "execute_result"
    }
   ],
   "source": [
    "bank_lr_na.isnull().sum() # None을 다 날려버리고 새로 만든 데이터 셋 "
   ]
  },
  {
   "cell_type": "code",
   "execution_count": 110,
   "metadata": {},
   "outputs": [
    {
     "name": "stdout",
     "output_type": "stream",
     "text": [
      "<class 'pandas.core.frame.DataFrame'>\n",
      "Int64Index: 32191 entries, 12657 to 45210\n",
      "Data columns (total 7 columns):\n",
      "y_G          32191 non-null int64\n",
      "age          32191 non-null int64\n",
      "duration     32191 non-null int64\n",
      "pdays        32191 non-null int64\n",
      "marital_G    32191 non-null int64\n",
      "loan_G       32191 non-null int64\n",
      "contact_G    32191 non-null float64\n",
      "dtypes: float64(1), int64(6)\n",
      "memory usage: 2.0 MB\n"
     ]
    }
   ],
   "source": [
    "bank_lr_na.info() # entries 12657 to 45210 을 다시 0부터 32191까지 맞춰줘야 한다"
   ]
  },
  {
   "cell_type": "code",
   "execution_count": 119,
   "metadata": {},
   "outputs": [
    {
     "data": {
      "text/html": [
       "<div>\n",
       "<style scoped>\n",
       "    .dataframe tbody tr th:only-of-type {\n",
       "        vertical-align: middle;\n",
       "    }\n",
       "\n",
       "    .dataframe tbody tr th {\n",
       "        vertical-align: top;\n",
       "    }\n",
       "\n",
       "    .dataframe thead th {\n",
       "        text-align: right;\n",
       "    }\n",
       "</style>\n",
       "<table border=\"1\" class=\"dataframe\">\n",
       "  <thead>\n",
       "    <tr style=\"text-align: right;\">\n",
       "      <th></th>\n",
       "      <th>y_G</th>\n",
       "      <th>age</th>\n",
       "      <th>duration</th>\n",
       "      <th>pdays</th>\n",
       "      <th>marital_G</th>\n",
       "      <th>loan_G</th>\n",
       "      <th>contact_G</th>\n",
       "    </tr>\n",
       "  </thead>\n",
       "  <tbody>\n",
       "    <tr>\n",
       "      <td>0</td>\n",
       "      <td>0</td>\n",
       "      <td>27</td>\n",
       "      <td>255</td>\n",
       "      <td>-1</td>\n",
       "      <td>1</td>\n",
       "      <td>0</td>\n",
       "      <td>1.0</td>\n",
       "    </tr>\n",
       "    <tr>\n",
       "      <td>1</td>\n",
       "      <td>0</td>\n",
       "      <td>54</td>\n",
       "      <td>297</td>\n",
       "      <td>-1</td>\n",
       "      <td>2</td>\n",
       "      <td>0</td>\n",
       "      <td>1.0</td>\n",
       "    </tr>\n",
       "    <tr>\n",
       "      <td>2</td>\n",
       "      <td>0</td>\n",
       "      <td>43</td>\n",
       "      <td>668</td>\n",
       "      <td>-1</td>\n",
       "      <td>2</td>\n",
       "      <td>1</td>\n",
       "      <td>1.0</td>\n",
       "    </tr>\n",
       "    <tr>\n",
       "      <td>3</td>\n",
       "      <td>0</td>\n",
       "      <td>31</td>\n",
       "      <td>65</td>\n",
       "      <td>-1</td>\n",
       "      <td>1</td>\n",
       "      <td>0</td>\n",
       "      <td>2.0</td>\n",
       "    </tr>\n",
       "    <tr>\n",
       "      <td>4</td>\n",
       "      <td>0</td>\n",
       "      <td>27</td>\n",
       "      <td>436</td>\n",
       "      <td>-1</td>\n",
       "      <td>1</td>\n",
       "      <td>1</td>\n",
       "      <td>1.0</td>\n",
       "    </tr>\n",
       "  </tbody>\n",
       "</table>\n",
       "</div>"
      ],
      "text/plain": [
       "   y_G  age  duration  pdays  marital_G  loan_G  contact_G\n",
       "0    0   27       255     -1          1       0        1.0\n",
       "1    0   54       297     -1          2       0        1.0\n",
       "2    0   43       668     -1          2       1        1.0\n",
       "3    0   31        65     -1          1       0        2.0\n",
       "4    0   27       436     -1          1       1        1.0"
      ]
     },
     "execution_count": 119,
     "metadata": {},
     "output_type": "execute_result"
    }
   ],
   "source": [
    "#bank_lr_na = bank_lr_na.reset_index() 위로 쭈우욱 올려서 다 정렬하기 (null값 제거해서 빈틈 채우기)\n",
    "bank_lr_na.head()"
   ]
  },
  {
   "cell_type": "code",
   "execution_count": 118,
   "metadata": {},
   "outputs": [],
   "source": [
    "# 위에서 index라는 열을 제거해주자\n",
    "bank_lr_na = bank_lr_na.drop(['index'], axis = 1) # 자꾸 반복하면 오류난다\n"
   ]
  },
  {
   "cell_type": "code",
   "execution_count": 120,
   "metadata": {},
   "outputs": [
    {
     "name": "stdout",
     "output_type": "stream",
     "text": [
      "Optimization terminated successfully.\n",
      "         Current function value: 0.346603\n",
      "         Iterations 7\n"
     ]
    }
   ],
   "source": [
    "logit_model = smf.logit('y_G ~ age + duration + pdays + C(marital_G) + C(loan_G) + C(contact_G)', data=bank_lr_na).fit() # C는 이산형 # 앞으로 전진 이런거 7번 했더니 적합한 모델이 나왔다(변수조정을 7번)"
   ]
  },
  {
   "cell_type": "code",
   "execution_count": 124,
   "metadata": {},
   "outputs": [
    {
     "name": "stdout",
     "output_type": "stream",
     "text": [
      "                           Logit Regression Results                           \n",
      "==============================================================================\n",
      "Dep. Variable:                    y_G   No. Observations:                32191\n",
      "Model:                          Logit   Df Residuals:                    32183\n",
      "Method:                           MLE   Df Model:                            7\n",
      "Date:                Mon, 30 Dec 2019   Pseudo R-squ.:                  0.1727\n",
      "Time:                        14:37:53   Log-Likelihood:                -11157.\n",
      "converged:                       True   LL-Null:                       -13486.\n",
      "Covariance Type:            nonrobust   LLR p-value:                     0.000\n",
      "=======================================================================================\n",
      "                          coef    std err          z      P>|z|      [0.025      0.975]\n",
      "---------------------------------------------------------------------------------------\n",
      "Intercept              -3.3394      0.071    -47.189      0.000      -3.478      -3.201\n",
      "C(marital_G)[T.2]      -0.6212      0.043    -14.603      0.000      -0.705      -0.538\n",
      "C(marital_G)[T.3]      -0.5535      0.065     -8.564      0.000      -0.680      -0.427\n",
      "C(loan_G)[T.1]         -0.8514      0.060    -14.204      0.000      -0.969      -0.734\n",
      "C(contact_G)[T.2.0]    -0.1461      0.066     -2.225      0.026      -0.275      -0.017\n",
      "age                     0.0201      0.002     11.609      0.000       0.017       0.023\n",
      "duration                0.0036   6.47e-05     55.861      0.000       0.003       0.004\n",
      "pdays                   0.0020      0.000     14.246      0.000       0.002       0.002\n",
      "=======================================================================================\n"
     ]
    }
   ],
   "source": [
    "print(logit_model.summary()) # T.2 이런 것들은 변수를 지정한 숫자를 의미함. "
   ]
  },
  {
   "cell_type": "code",
   "execution_count": 125,
   "metadata": {},
   "outputs": [
    {
     "data": {
      "text/plain": [
       "Intercept              0.035458\n",
       "C(marital_G)[T.2]      0.537280\n",
       "C(marital_G)[T.3]      0.574948\n",
       "C(loan_G)[T.1]         0.426814\n",
       "C(contact_G)[T.2.0]    0.864074\n",
       "age                    1.020285\n",
       "duration               1.003622\n",
       "pdays                  1.001959\n",
       "dtype: float64"
      ]
     },
     "execution_count": 125,
     "metadata": {},
     "output_type": "execute_result"
    }
   ],
   "source": [
    "np.exp(logit_model.params) # 회귀계수의 승산과 오즈 \n",
    "# age가 1만큼 커지면 y가 yes일 비율이 1.02배가 된다. \n",
    "# 2로 되어있는 결혼을 했다 라면 0.53으로 2배나 줄어든다고 보면 된다. "
   ]
  },
  {
   "cell_type": "code",
   "execution_count": 129,
   "metadata": {},
   "outputs": [
    {
     "data": {
      "text/html": [
       "<div>\n",
       "<style scoped>\n",
       "    .dataframe tbody tr th:only-of-type {\n",
       "        vertical-align: middle;\n",
       "    }\n",
       "\n",
       "    .dataframe tbody tr th {\n",
       "        vertical-align: top;\n",
       "    }\n",
       "\n",
       "    .dataframe thead th {\n",
       "        text-align: right;\n",
       "    }\n",
       "</style>\n",
       "<table border=\"1\" class=\"dataframe\">\n",
       "  <thead>\n",
       "    <tr style=\"text-align: right;\">\n",
       "      <th></th>\n",
       "      <th>predict</th>\n",
       "    </tr>\n",
       "  </thead>\n",
       "  <tbody>\n",
       "    <tr>\n",
       "      <td>0</td>\n",
       "      <td>0.132703</td>\n",
       "    </tr>\n",
       "    <tr>\n",
       "      <td>1</td>\n",
       "      <td>0.141310</td>\n",
       "    </tr>\n",
       "    <tr>\n",
       "      <td>2</td>\n",
       "      <td>0.177187</td>\n",
       "    </tr>\n",
       "    <tr>\n",
       "      <td>3</td>\n",
       "      <td>0.067237</td>\n",
       "    </tr>\n",
       "    <tr>\n",
       "      <td>4</td>\n",
       "      <td>0.111617</td>\n",
       "    </tr>\n",
       "  </tbody>\n",
       "</table>\n",
       "</div>"
      ],
      "text/plain": [
       "    predict\n",
       "0  0.132703\n",
       "1  0.141310\n",
       "2  0.177187\n",
       "3  0.067237\n",
       "4  0.111617"
      ]
     },
     "execution_count": 129,
     "metadata": {},
     "output_type": "execute_result"
    }
   ],
   "source": [
    "#predict = pd.DataFrame({'predict':logit_model.predict()}) --> 앞에서 결측값 처리를 안했을 때 인덱스가 서로 다르게 배열될 수 있음 \n",
    "predict.head()"
   ]
  },
  {
   "cell_type": "code",
   "execution_count": 130,
   "metadata": {},
   "outputs": [
    {
     "data": {
      "text/html": [
       "<div>\n",
       "<style scoped>\n",
       "    .dataframe tbody tr th:only-of-type {\n",
       "        vertical-align: middle;\n",
       "    }\n",
       "\n",
       "    .dataframe tbody tr th {\n",
       "        vertical-align: top;\n",
       "    }\n",
       "\n",
       "    .dataframe thead th {\n",
       "        text-align: right;\n",
       "    }\n",
       "</style>\n",
       "<table border=\"1\" class=\"dataframe\">\n",
       "  <thead>\n",
       "    <tr style=\"text-align: right;\">\n",
       "      <th></th>\n",
       "      <th>y_G</th>\n",
       "      <th>age</th>\n",
       "      <th>duration</th>\n",
       "      <th>pdays</th>\n",
       "      <th>marital_G</th>\n",
       "      <th>loan_G</th>\n",
       "      <th>contact_G</th>\n",
       "      <th>predict</th>\n",
       "    </tr>\n",
       "  </thead>\n",
       "  <tbody>\n",
       "    <tr>\n",
       "      <td>32186</td>\n",
       "      <td>1</td>\n",
       "      <td>51</td>\n",
       "      <td>977</td>\n",
       "      <td>-1</td>\n",
       "      <td>2</td>\n",
       "      <td>0</td>\n",
       "      <td>1.0</td>\n",
       "      <td>0.644197</td>\n",
       "    </tr>\n",
       "    <tr>\n",
       "      <td>32187</td>\n",
       "      <td>1</td>\n",
       "      <td>71</td>\n",
       "      <td>456</td>\n",
       "      <td>-1</td>\n",
       "      <td>3</td>\n",
       "      <td>0</td>\n",
       "      <td>1.0</td>\n",
       "      <td>0.305662</td>\n",
       "    </tr>\n",
       "    <tr>\n",
       "      <td>32188</td>\n",
       "      <td>1</td>\n",
       "      <td>72</td>\n",
       "      <td>1127</td>\n",
       "      <td>184</td>\n",
       "      <td>2</td>\n",
       "      <td>0</td>\n",
       "      <td>1.0</td>\n",
       "      <td>0.872110</td>\n",
       "    </tr>\n",
       "    <tr>\n",
       "      <td>32189</td>\n",
       "      <td>0</td>\n",
       "      <td>57</td>\n",
       "      <td>508</td>\n",
       "      <td>-1</td>\n",
       "      <td>2</td>\n",
       "      <td>0</td>\n",
       "      <td>2.0</td>\n",
       "      <td>0.244623</td>\n",
       "    </tr>\n",
       "    <tr>\n",
       "      <td>32190</td>\n",
       "      <td>0</td>\n",
       "      <td>37</td>\n",
       "      <td>361</td>\n",
       "      <td>188</td>\n",
       "      <td>2</td>\n",
       "      <td>0</td>\n",
       "      <td>1.0</td>\n",
       "      <td>0.175879</td>\n",
       "    </tr>\n",
       "  </tbody>\n",
       "</table>\n",
       "</div>"
      ],
      "text/plain": [
       "       y_G  age  duration  pdays  marital_G  loan_G  contact_G   predict\n",
       "32186    1   51       977     -1          2       0        1.0  0.644197\n",
       "32187    1   71       456     -1          3       0        1.0  0.305662\n",
       "32188    1   72      1127    184          2       0        1.0  0.872110\n",
       "32189    0   57       508     -1          2       0        2.0  0.244623\n",
       "32190    0   37       361    188          2       0        1.0  0.175879"
      ]
     },
     "execution_count": 130,
     "metadata": {},
     "output_type": "execute_result"
    }
   ],
   "source": [
    "bank_lr_na['predict'] = predict\n",
    "bank_lr_na.tail()"
   ]
  },
  {
   "cell_type": "code",
   "execution_count": 131,
   "metadata": {},
   "outputs": [],
   "source": [
    "# 예측확률 0.5 기준 예측그룹 생성 \n",
    "def pre_group(series): \n",
    "    if series<0.5:\n",
    "        return 0\n",
    "    elif series>=0.5:\n",
    "        return 1"
   ]
  },
  {
   "cell_type": "code",
   "execution_count": 132,
   "metadata": {},
   "outputs": [
    {
     "data": {
      "text/html": [
       "<div>\n",
       "<style scoped>\n",
       "    .dataframe tbody tr th:only-of-type {\n",
       "        vertical-align: middle;\n",
       "    }\n",
       "\n",
       "    .dataframe tbody tr th {\n",
       "        vertical-align: top;\n",
       "    }\n",
       "\n",
       "    .dataframe thead th {\n",
       "        text-align: right;\n",
       "    }\n",
       "</style>\n",
       "<table border=\"1\" class=\"dataframe\">\n",
       "  <thead>\n",
       "    <tr style=\"text-align: right;\">\n",
       "      <th></th>\n",
       "      <th>y_G</th>\n",
       "      <th>age</th>\n",
       "      <th>duration</th>\n",
       "      <th>pdays</th>\n",
       "      <th>marital_G</th>\n",
       "      <th>loan_G</th>\n",
       "      <th>contact_G</th>\n",
       "      <th>predict</th>\n",
       "      <th>preGroup</th>\n",
       "    </tr>\n",
       "  </thead>\n",
       "  <tbody>\n",
       "    <tr>\n",
       "      <td>0</td>\n",
       "      <td>0</td>\n",
       "      <td>27</td>\n",
       "      <td>255</td>\n",
       "      <td>-1</td>\n",
       "      <td>1</td>\n",
       "      <td>0</td>\n",
       "      <td>1.0</td>\n",
       "      <td>0.132703</td>\n",
       "      <td>0</td>\n",
       "    </tr>\n",
       "    <tr>\n",
       "      <td>1</td>\n",
       "      <td>0</td>\n",
       "      <td>54</td>\n",
       "      <td>297</td>\n",
       "      <td>-1</td>\n",
       "      <td>2</td>\n",
       "      <td>0</td>\n",
       "      <td>1.0</td>\n",
       "      <td>0.141310</td>\n",
       "      <td>0</td>\n",
       "    </tr>\n",
       "    <tr>\n",
       "      <td>2</td>\n",
       "      <td>0</td>\n",
       "      <td>43</td>\n",
       "      <td>668</td>\n",
       "      <td>-1</td>\n",
       "      <td>2</td>\n",
       "      <td>1</td>\n",
       "      <td>1.0</td>\n",
       "      <td>0.177187</td>\n",
       "      <td>0</td>\n",
       "    </tr>\n",
       "    <tr>\n",
       "      <td>3</td>\n",
       "      <td>0</td>\n",
       "      <td>31</td>\n",
       "      <td>65</td>\n",
       "      <td>-1</td>\n",
       "      <td>1</td>\n",
       "      <td>0</td>\n",
       "      <td>2.0</td>\n",
       "      <td>0.067237</td>\n",
       "      <td>0</td>\n",
       "    </tr>\n",
       "    <tr>\n",
       "      <td>4</td>\n",
       "      <td>0</td>\n",
       "      <td>27</td>\n",
       "      <td>436</td>\n",
       "      <td>-1</td>\n",
       "      <td>1</td>\n",
       "      <td>1</td>\n",
       "      <td>1.0</td>\n",
       "      <td>0.111617</td>\n",
       "      <td>0</td>\n",
       "    </tr>\n",
       "  </tbody>\n",
       "</table>\n",
       "</div>"
      ],
      "text/plain": [
       "   y_G  age  duration  pdays  marital_G  loan_G  contact_G   predict  preGroup\n",
       "0    0   27       255     -1          1       0        1.0  0.132703         0\n",
       "1    0   54       297     -1          2       0        1.0  0.141310         0\n",
       "2    0   43       668     -1          2       1        1.0  0.177187         0\n",
       "3    0   31        65     -1          1       0        2.0  0.067237         0\n",
       "4    0   27       436     -1          1       1        1.0  0.111617         0"
      ]
     },
     "execution_count": 132,
     "metadata": {},
     "output_type": "execute_result"
    }
   ],
   "source": [
    "bank_lr_na['preGroup'] = bank_lr_na['predict'].apply(pre_group)"
   ]
  },
  {
   "cell_type": "code",
   "execution_count": 133,
   "metadata": {},
   "outputs": [
    {
     "data": {
      "text/html": [
       "<div>\n",
       "<style scoped>\n",
       "    .dataframe tbody tr th:only-of-type {\n",
       "        vertical-align: middle;\n",
       "    }\n",
       "\n",
       "    .dataframe tbody tr th {\n",
       "        vertical-align: top;\n",
       "    }\n",
       "\n",
       "    .dataframe thead th {\n",
       "        text-align: right;\n",
       "    }\n",
       "</style>\n",
       "<table border=\"1\" class=\"dataframe\">\n",
       "  <thead>\n",
       "    <tr style=\"text-align: right;\">\n",
       "      <th></th>\n",
       "      <th>y_G</th>\n",
       "      <th>age</th>\n",
       "      <th>duration</th>\n",
       "      <th>pdays</th>\n",
       "      <th>marital_G</th>\n",
       "      <th>loan_G</th>\n",
       "      <th>contact_G</th>\n",
       "      <th>predict</th>\n",
       "      <th>preGroup</th>\n",
       "    </tr>\n",
       "  </thead>\n",
       "  <tbody>\n",
       "    <tr>\n",
       "      <td>32186</td>\n",
       "      <td>1</td>\n",
       "      <td>51</td>\n",
       "      <td>977</td>\n",
       "      <td>-1</td>\n",
       "      <td>2</td>\n",
       "      <td>0</td>\n",
       "      <td>1.0</td>\n",
       "      <td>0.644197</td>\n",
       "      <td>1</td>\n",
       "    </tr>\n",
       "    <tr>\n",
       "      <td>32187</td>\n",
       "      <td>1</td>\n",
       "      <td>71</td>\n",
       "      <td>456</td>\n",
       "      <td>-1</td>\n",
       "      <td>3</td>\n",
       "      <td>0</td>\n",
       "      <td>1.0</td>\n",
       "      <td>0.305662</td>\n",
       "      <td>0</td>\n",
       "    </tr>\n",
       "    <tr>\n",
       "      <td>32188</td>\n",
       "      <td>1</td>\n",
       "      <td>72</td>\n",
       "      <td>1127</td>\n",
       "      <td>184</td>\n",
       "      <td>2</td>\n",
       "      <td>0</td>\n",
       "      <td>1.0</td>\n",
       "      <td>0.872110</td>\n",
       "      <td>1</td>\n",
       "    </tr>\n",
       "    <tr>\n",
       "      <td>32189</td>\n",
       "      <td>0</td>\n",
       "      <td>57</td>\n",
       "      <td>508</td>\n",
       "      <td>-1</td>\n",
       "      <td>2</td>\n",
       "      <td>0</td>\n",
       "      <td>2.0</td>\n",
       "      <td>0.244623</td>\n",
       "      <td>0</td>\n",
       "    </tr>\n",
       "    <tr>\n",
       "      <td>32190</td>\n",
       "      <td>0</td>\n",
       "      <td>37</td>\n",
       "      <td>361</td>\n",
       "      <td>188</td>\n",
       "      <td>2</td>\n",
       "      <td>0</td>\n",
       "      <td>1.0</td>\n",
       "      <td>0.175879</td>\n",
       "      <td>0</td>\n",
       "    </tr>\n",
       "  </tbody>\n",
       "</table>\n",
       "</div>"
      ],
      "text/plain": [
       "       y_G  age  duration  pdays  marital_G  loan_G  contact_G   predict  \\\n",
       "32186    1   51       977     -1          2       0        1.0  0.644197   \n",
       "32187    1   71       456     -1          3       0        1.0  0.305662   \n",
       "32188    1   72      1127    184          2       0        1.0  0.872110   \n",
       "32189    0   57       508     -1          2       0        2.0  0.244623   \n",
       "32190    0   37       361    188          2       0        1.0  0.175879   \n",
       "\n",
       "       preGroup  \n",
       "32186         1  \n",
       "32187         0  \n",
       "32188         1  \n",
       "32189         0  \n",
       "32190         0  "
      ]
     },
     "execution_count": 133,
     "metadata": {},
     "output_type": "execute_result"
    }
   ],
   "source": [
    "bank_lr_na.tail()"
   ]
  },
  {
   "cell_type": "code",
   "execution_count": 135,
   "metadata": {},
   "outputs": [
    {
     "data": {
      "text/html": [
       "<div>\n",
       "<style scoped>\n",
       "    .dataframe tbody tr th:only-of-type {\n",
       "        vertical-align: middle;\n",
       "    }\n",
       "\n",
       "    .dataframe tbody tr th {\n",
       "        vertical-align: top;\n",
       "    }\n",
       "\n",
       "    .dataframe thead th {\n",
       "        text-align: right;\n",
       "    }\n",
       "</style>\n",
       "<table border=\"1\" class=\"dataframe\">\n",
       "  <thead>\n",
       "    <tr style=\"text-align: right;\">\n",
       "      <th>preGroup</th>\n",
       "      <th>0</th>\n",
       "      <th>1</th>\n",
       "      <th>All</th>\n",
       "    </tr>\n",
       "    <tr>\n",
       "      <th>y_G</th>\n",
       "      <th></th>\n",
       "      <th></th>\n",
       "      <th></th>\n",
       "    </tr>\n",
       "  </thead>\n",
       "  <tbody>\n",
       "    <tr>\n",
       "      <td>0</td>\n",
       "      <td>26854</td>\n",
       "      <td>578</td>\n",
       "      <td>27432</td>\n",
       "    </tr>\n",
       "    <tr>\n",
       "      <td>1</td>\n",
       "      <td>3885</td>\n",
       "      <td>874</td>\n",
       "      <td>4759</td>\n",
       "    </tr>\n",
       "    <tr>\n",
       "      <td>All</td>\n",
       "      <td>30739</td>\n",
       "      <td>1452</td>\n",
       "      <td>32191</td>\n",
       "    </tr>\n",
       "  </tbody>\n",
       "</table>\n",
       "</div>"
      ],
      "text/plain": [
       "preGroup      0     1    All\n",
       "y_G                         \n",
       "0         26854   578  27432\n",
       "1          3885   874   4759\n",
       "All       30739  1452  32191"
      ]
     },
     "execution_count": 135,
     "metadata": {},
     "output_type": "execute_result"
    }
   ],
   "source": [
    "pd.crosstab(bank_lr_na.y_G, bank_lr_na.preGroup, margins=True) # 직접 계산하기 힘드므로 normalize를 해줘야 한다. "
   ]
  },
  {
   "cell_type": "code",
   "execution_count": 136,
   "metadata": {},
   "outputs": [
    {
     "data": {
      "text/html": [
       "<div>\n",
       "<style scoped>\n",
       "    .dataframe tbody tr th:only-of-type {\n",
       "        vertical-align: middle;\n",
       "    }\n",
       "\n",
       "    .dataframe tbody tr th {\n",
       "        vertical-align: top;\n",
       "    }\n",
       "\n",
       "    .dataframe thead th {\n",
       "        text-align: right;\n",
       "    }\n",
       "</style>\n",
       "<table border=\"1\" class=\"dataframe\">\n",
       "  <thead>\n",
       "    <tr style=\"text-align: right;\">\n",
       "      <th>preGroup</th>\n",
       "      <th>0</th>\n",
       "      <th>1</th>\n",
       "      <th>All</th>\n",
       "    </tr>\n",
       "    <tr>\n",
       "      <th>y_G</th>\n",
       "      <th></th>\n",
       "      <th></th>\n",
       "      <th></th>\n",
       "    </tr>\n",
       "  </thead>\n",
       "  <tbody>\n",
       "    <tr>\n",
       "      <td>0</td>\n",
       "      <td>0.834208</td>\n",
       "      <td>0.017955</td>\n",
       "      <td>0.852164</td>\n",
       "    </tr>\n",
       "    <tr>\n",
       "      <td>1</td>\n",
       "      <td>0.120686</td>\n",
       "      <td>0.027150</td>\n",
       "      <td>0.147836</td>\n",
       "    </tr>\n",
       "    <tr>\n",
       "      <td>All</td>\n",
       "      <td>0.954894</td>\n",
       "      <td>0.045106</td>\n",
       "      <td>1.000000</td>\n",
       "    </tr>\n",
       "  </tbody>\n",
       "</table>\n",
       "</div>"
      ],
      "text/plain": [
       "preGroup         0         1       All\n",
       "y_G                                   \n",
       "0         0.834208  0.017955  0.852164\n",
       "1         0.120686  0.027150  0.147836\n",
       "All       0.954894  0.045106  1.000000"
      ]
     },
     "execution_count": 136,
     "metadata": {},
     "output_type": "execute_result"
    }
   ],
   "source": [
    "pd.crosstab(bank_lr_na.y_G, bank_lr_na.preGroup, margins=True,normalize=True)\n",
    "# 0과0, 1과1의 비율을 더해주면 된다."
   ]
  },
  {
   "cell_type": "code",
   "execution_count": null,
   "metadata": {},
   "outputs": [],
   "source": [
    "#################################################################\n",
    "#################################################################\n",
    "#################################################################"
   ]
  },
  {
   "cell_type": "code",
   "execution_count": null,
   "metadata": {},
   "outputs": [],
   "source": [
    "# loanG eduG mariG duration을 통해 로짓모델 만들기 - 모델부터 만들면 힘들고 null값 처리부터 해야한다.\n"
   ]
  },
  {
   "cell_type": "code",
   "execution_count": 137,
   "metadata": {},
   "outputs": [
    {
     "data": {
      "text/html": [
       "<div>\n",
       "<style scoped>\n",
       "    .dataframe tbody tr th:only-of-type {\n",
       "        vertical-align: middle;\n",
       "    }\n",
       "\n",
       "    .dataframe tbody tr th {\n",
       "        vertical-align: top;\n",
       "    }\n",
       "\n",
       "    .dataframe thead th {\n",
       "        text-align: right;\n",
       "    }\n",
       "</style>\n",
       "<table border=\"1\" class=\"dataframe\">\n",
       "  <thead>\n",
       "    <tr style=\"text-align: right;\">\n",
       "      <th></th>\n",
       "      <th>y_G</th>\n",
       "      <th>loan_G</th>\n",
       "      <th>education_G</th>\n",
       "      <th>marital_G</th>\n",
       "      <th>duration</th>\n",
       "    </tr>\n",
       "  </thead>\n",
       "  <tbody>\n",
       "    <tr>\n",
       "      <td>0</td>\n",
       "      <td>0</td>\n",
       "      <td>0</td>\n",
       "      <td>3.0</td>\n",
       "      <td>2</td>\n",
       "      <td>261</td>\n",
       "    </tr>\n",
       "    <tr>\n",
       "      <td>1</td>\n",
       "      <td>0</td>\n",
       "      <td>0</td>\n",
       "      <td>2.0</td>\n",
       "      <td>1</td>\n",
       "      <td>151</td>\n",
       "    </tr>\n",
       "    <tr>\n",
       "      <td>2</td>\n",
       "      <td>0</td>\n",
       "      <td>1</td>\n",
       "      <td>2.0</td>\n",
       "      <td>2</td>\n",
       "      <td>76</td>\n",
       "    </tr>\n",
       "    <tr>\n",
       "      <td>3</td>\n",
       "      <td>0</td>\n",
       "      <td>0</td>\n",
       "      <td>NaN</td>\n",
       "      <td>2</td>\n",
       "      <td>92</td>\n",
       "    </tr>\n",
       "    <tr>\n",
       "      <td>4</td>\n",
       "      <td>0</td>\n",
       "      <td>0</td>\n",
       "      <td>NaN</td>\n",
       "      <td>1</td>\n",
       "      <td>198</td>\n",
       "    </tr>\n",
       "  </tbody>\n",
       "</table>\n",
       "</div>"
      ],
      "text/plain": [
       "   y_G  loan_G  education_G  marital_G  duration\n",
       "0    0       0          3.0          2       261\n",
       "1    0       0          2.0          1       151\n",
       "2    0       1          2.0          2        76\n",
       "3    0       0          NaN          2        92\n",
       "4    0       0          NaN          1       198"
      ]
     },
     "execution_count": 137,
     "metadata": {},
     "output_type": "execute_result"
    }
   ],
   "source": [
    "bank_lr2 = bank[['y_G','loan_G','education_G','marital_G','duration']]\n",
    "bank_lr2.head()"
   ]
  },
  {
   "cell_type": "code",
   "execution_count": 140,
   "metadata": {},
   "outputs": [],
   "source": [
    "bank_lr2_na = bank_lr2.dropna()"
   ]
  },
  {
   "cell_type": "code",
   "execution_count": 141,
   "metadata": {
    "scrolled": true
   },
   "outputs": [
    {
     "data": {
      "text/plain": [
       "y_G            0\n",
       "loan_G         0\n",
       "education_G    0\n",
       "marital_G      0\n",
       "duration       0\n",
       "dtype: int64"
      ]
     },
     "execution_count": 141,
     "metadata": {},
     "output_type": "execute_result"
    }
   ],
   "source": [
    "bank_lr2_na.isnull().sum()"
   ]
  },
  {
   "cell_type": "code",
   "execution_count": 144,
   "metadata": {},
   "outputs": [
    {
     "name": "stdout",
     "output_type": "stream",
     "text": [
      "<class 'pandas.core.frame.DataFrame'>\n",
      "RangeIndex: 43354 entries, 0 to 43353\n",
      "Data columns (total 6 columns):\n",
      "index          43354 non-null int64\n",
      "y_G            43354 non-null int64\n",
      "loan_G         43354 non-null int64\n",
      "education_G    43354 non-null float64\n",
      "marital_G      43354 non-null int64\n",
      "duration       43354 non-null int64\n",
      "dtypes: float64(1), int64(5)\n",
      "memory usage: 2.0 MB\n"
     ]
    }
   ],
   "source": [
    "bank_lr2_na.info()"
   ]
  },
  {
   "cell_type": "code",
   "execution_count": 143,
   "metadata": {},
   "outputs": [],
   "source": [
    "bank_lr2_na = bank_lr2_na.reset_index()"
   ]
  },
  {
   "cell_type": "code",
   "execution_count": 147,
   "metadata": {},
   "outputs": [
    {
     "data": {
      "text/html": [
       "<div>\n",
       "<style scoped>\n",
       "    .dataframe tbody tr th:only-of-type {\n",
       "        vertical-align: middle;\n",
       "    }\n",
       "\n",
       "    .dataframe tbody tr th {\n",
       "        vertical-align: top;\n",
       "    }\n",
       "\n",
       "    .dataframe thead th {\n",
       "        text-align: right;\n",
       "    }\n",
       "</style>\n",
       "<table border=\"1\" class=\"dataframe\">\n",
       "  <thead>\n",
       "    <tr style=\"text-align: right;\">\n",
       "      <th></th>\n",
       "      <th>y_G</th>\n",
       "      <th>loan_G</th>\n",
       "      <th>education_G</th>\n",
       "      <th>marital_G</th>\n",
       "      <th>duration</th>\n",
       "    </tr>\n",
       "  </thead>\n",
       "  <tbody>\n",
       "    <tr>\n",
       "      <td>0</td>\n",
       "      <td>0</td>\n",
       "      <td>0</td>\n",
       "      <td>3.0</td>\n",
       "      <td>2</td>\n",
       "      <td>261</td>\n",
       "    </tr>\n",
       "    <tr>\n",
       "      <td>1</td>\n",
       "      <td>0</td>\n",
       "      <td>0</td>\n",
       "      <td>2.0</td>\n",
       "      <td>1</td>\n",
       "      <td>151</td>\n",
       "    </tr>\n",
       "    <tr>\n",
       "      <td>2</td>\n",
       "      <td>0</td>\n",
       "      <td>1</td>\n",
       "      <td>2.0</td>\n",
       "      <td>2</td>\n",
       "      <td>76</td>\n",
       "    </tr>\n",
       "    <tr>\n",
       "      <td>3</td>\n",
       "      <td>0</td>\n",
       "      <td>0</td>\n",
       "      <td>3.0</td>\n",
       "      <td>2</td>\n",
       "      <td>139</td>\n",
       "    </tr>\n",
       "    <tr>\n",
       "      <td>4</td>\n",
       "      <td>0</td>\n",
       "      <td>1</td>\n",
       "      <td>3.0</td>\n",
       "      <td>1</td>\n",
       "      <td>217</td>\n",
       "    </tr>\n",
       "  </tbody>\n",
       "</table>\n",
       "</div>"
      ],
      "text/plain": [
       "   y_G  loan_G  education_G  marital_G  duration\n",
       "0    0       0          3.0          2       261\n",
       "1    0       0          2.0          1       151\n",
       "2    0       1          2.0          2        76\n",
       "3    0       0          3.0          2       139\n",
       "4    0       1          3.0          1       217"
      ]
     },
     "execution_count": 147,
     "metadata": {},
     "output_type": "execute_result"
    }
   ],
   "source": [
    "bank_lr2_na.head()"
   ]
  },
  {
   "cell_type": "code",
   "execution_count": 146,
   "metadata": {},
   "outputs": [],
   "source": [
    "bank_lr2_na = bank_lr2_na.drop(['index'], axis = 1)"
   ]
  },
  {
   "cell_type": "code",
   "execution_count": 120,
   "metadata": {},
   "outputs": [
    {
     "name": "stdout",
     "output_type": "stream",
     "text": [
      "Optimization terminated successfully.\n",
      "         Current function value: 0.346603\n",
      "         Iterations 7\n"
     ]
    }
   ],
   "source": [
    "logit_model = smf.logit('y_G ~ age + duration + pdays + C(marital_G) + C(loan_G) + C(contact_G)', data=bank_lr_na).fit() # C는 이산형 # 앞으로 전진 이런거 7번 했더니 적합한 모델이 나왔다(변수조정을 7번)"
   ]
  },
  {
   "cell_type": "code",
   "execution_count": 152,
   "metadata": {},
   "outputs": [
    {
     "name": "stdout",
     "output_type": "stream",
     "text": [
      "Optimization terminated successfully.\n",
      "         Current function value: 0.295056\n",
      "         Iterations 7\n"
     ]
    }
   ],
   "source": [
    "logit_model2 = smf.logit('y_G ~ C(loan_G) + C(education_G) + C(marital_G) + duration', data = bank_lr2_na).fit()  "
   ]
  },
  {
   "cell_type": "code",
   "execution_count": 153,
   "metadata": {},
   "outputs": [
    {
     "data": {
      "text/html": [
       "<div>\n",
       "<style scoped>\n",
       "    .dataframe tbody tr th:only-of-type {\n",
       "        vertical-align: middle;\n",
       "    }\n",
       "\n",
       "    .dataframe tbody tr th {\n",
       "        vertical-align: top;\n",
       "    }\n",
       "\n",
       "    .dataframe thead th {\n",
       "        text-align: right;\n",
       "    }\n",
       "</style>\n",
       "<table border=\"1\" class=\"dataframe\">\n",
       "  <thead>\n",
       "    <tr style=\"text-align: right;\">\n",
       "      <th></th>\n",
       "      <th>predict</th>\n",
       "    </tr>\n",
       "  </thead>\n",
       "  <tbody>\n",
       "    <tr>\n",
       "      <td>0</td>\n",
       "      <td>0.116272</td>\n",
       "    </tr>\n",
       "    <tr>\n",
       "      <td>1</td>\n",
       "      <td>0.078248</td>\n",
       "    </tr>\n",
       "    <tr>\n",
       "      <td>2</td>\n",
       "      <td>0.020468</td>\n",
       "    </tr>\n",
       "    <tr>\n",
       "      <td>3</td>\n",
       "      <td>0.078028</td>\n",
       "    </tr>\n",
       "    <tr>\n",
       "      <td>4</td>\n",
       "      <td>0.071182</td>\n",
       "    </tr>\n",
       "  </tbody>\n",
       "</table>\n",
       "</div>"
      ],
      "text/plain": [
       "    predict\n",
       "0  0.116272\n",
       "1  0.078248\n",
       "2  0.020468\n",
       "3  0.078028\n",
       "4  0.071182"
      ]
     },
     "execution_count": 153,
     "metadata": {},
     "output_type": "execute_result"
    }
   ],
   "source": [
    "predict2 = pd.DataFrame({'predict':logit_model2.predict()}) \n",
    "predict2.head()"
   ]
  },
  {
   "cell_type": "code",
   "execution_count": 155,
   "metadata": {},
   "outputs": [],
   "source": [
    "bank_lr2_na['predict'] = predict2"
   ]
  },
  {
   "cell_type": "code",
   "execution_count": 156,
   "metadata": {
    "scrolled": true
   },
   "outputs": [
    {
     "data": {
      "text/html": [
       "<div>\n",
       "<style scoped>\n",
       "    .dataframe tbody tr th:only-of-type {\n",
       "        vertical-align: middle;\n",
       "    }\n",
       "\n",
       "    .dataframe tbody tr th {\n",
       "        vertical-align: top;\n",
       "    }\n",
       "\n",
       "    .dataframe thead th {\n",
       "        text-align: right;\n",
       "    }\n",
       "</style>\n",
       "<table border=\"1\" class=\"dataframe\">\n",
       "  <thead>\n",
       "    <tr style=\"text-align: right;\">\n",
       "      <th></th>\n",
       "      <th>y_G</th>\n",
       "      <th>loan_G</th>\n",
       "      <th>education_G</th>\n",
       "      <th>marital_G</th>\n",
       "      <th>duration</th>\n",
       "      <th>predict</th>\n",
       "    </tr>\n",
       "  </thead>\n",
       "  <tbody>\n",
       "    <tr>\n",
       "      <td>0</td>\n",
       "      <td>0</td>\n",
       "      <td>0</td>\n",
       "      <td>3.0</td>\n",
       "      <td>2</td>\n",
       "      <td>261</td>\n",
       "      <td>0.116272</td>\n",
       "    </tr>\n",
       "    <tr>\n",
       "      <td>1</td>\n",
       "      <td>0</td>\n",
       "      <td>0</td>\n",
       "      <td>2.0</td>\n",
       "      <td>1</td>\n",
       "      <td>151</td>\n",
       "      <td>0.078248</td>\n",
       "    </tr>\n",
       "    <tr>\n",
       "      <td>2</td>\n",
       "      <td>0</td>\n",
       "      <td>1</td>\n",
       "      <td>2.0</td>\n",
       "      <td>2</td>\n",
       "      <td>76</td>\n",
       "      <td>0.020468</td>\n",
       "    </tr>\n",
       "    <tr>\n",
       "      <td>3</td>\n",
       "      <td>0</td>\n",
       "      <td>0</td>\n",
       "      <td>3.0</td>\n",
       "      <td>2</td>\n",
       "      <td>139</td>\n",
       "      <td>0.078028</td>\n",
       "    </tr>\n",
       "    <tr>\n",
       "      <td>4</td>\n",
       "      <td>0</td>\n",
       "      <td>1</td>\n",
       "      <td>3.0</td>\n",
       "      <td>1</td>\n",
       "      <td>217</td>\n",
       "      <td>0.071182</td>\n",
       "    </tr>\n",
       "  </tbody>\n",
       "</table>\n",
       "</div>"
      ],
      "text/plain": [
       "   y_G  loan_G  education_G  marital_G  duration   predict\n",
       "0    0       0          3.0          2       261  0.116272\n",
       "1    0       0          2.0          1       151  0.078248\n",
       "2    0       1          2.0          2        76  0.020468\n",
       "3    0       0          3.0          2       139  0.078028\n",
       "4    0       1          3.0          1       217  0.071182"
      ]
     },
     "execution_count": 156,
     "metadata": {},
     "output_type": "execute_result"
    }
   ],
   "source": [
    "bank_lr2_na.head()"
   ]
  },
  {
   "cell_type": "code",
   "execution_count": 157,
   "metadata": {},
   "outputs": [],
   "source": [
    "bank_lr2_na['preGroup'] = bank_lr2_na['predict'].apply(pre_group)"
   ]
  },
  {
   "cell_type": "code",
   "execution_count": 159,
   "metadata": {
    "scrolled": true
   },
   "outputs": [
    {
     "data": {
      "text/html": [
       "<div>\n",
       "<style scoped>\n",
       "    .dataframe tbody tr th:only-of-type {\n",
       "        vertical-align: middle;\n",
       "    }\n",
       "\n",
       "    .dataframe tbody tr th {\n",
       "        vertical-align: top;\n",
       "    }\n",
       "\n",
       "    .dataframe thead th {\n",
       "        text-align: right;\n",
       "    }\n",
       "</style>\n",
       "<table border=\"1\" class=\"dataframe\">\n",
       "  <thead>\n",
       "    <tr style=\"text-align: right;\">\n",
       "      <th></th>\n",
       "      <th>y_G</th>\n",
       "      <th>loan_G</th>\n",
       "      <th>education_G</th>\n",
       "      <th>marital_G</th>\n",
       "      <th>duration</th>\n",
       "      <th>predict</th>\n",
       "      <th>preGroup</th>\n",
       "    </tr>\n",
       "  </thead>\n",
       "  <tbody>\n",
       "    <tr>\n",
       "      <td>43349</td>\n",
       "      <td>1</td>\n",
       "      <td>0</td>\n",
       "      <td>3.0</td>\n",
       "      <td>2</td>\n",
       "      <td>977</td>\n",
       "      <td>0.636759</td>\n",
       "      <td>1</td>\n",
       "    </tr>\n",
       "    <tr>\n",
       "      <td>43350</td>\n",
       "      <td>1</td>\n",
       "      <td>0</td>\n",
       "      <td>1.0</td>\n",
       "      <td>3</td>\n",
       "      <td>456</td>\n",
       "      <td>0.141069</td>\n",
       "      <td>0</td>\n",
       "    </tr>\n",
       "    <tr>\n",
       "      <td>43351</td>\n",
       "      <td>1</td>\n",
       "      <td>0</td>\n",
       "      <td>2.0</td>\n",
       "      <td>2</td>\n",
       "      <td>1127</td>\n",
       "      <td>0.665713</td>\n",
       "      <td>1</td>\n",
       "    </tr>\n",
       "    <tr>\n",
       "      <td>43352</td>\n",
       "      <td>0</td>\n",
       "      <td>0</td>\n",
       "      <td>2.0</td>\n",
       "      <td>2</td>\n",
       "      <td>508</td>\n",
       "      <td>0.175105</td>\n",
       "      <td>0</td>\n",
       "    </tr>\n",
       "    <tr>\n",
       "      <td>43353</td>\n",
       "      <td>0</td>\n",
       "      <td>0</td>\n",
       "      <td>2.0</td>\n",
       "      <td>2</td>\n",
       "      <td>361</td>\n",
       "      <td>0.110906</td>\n",
       "      <td>0</td>\n",
       "    </tr>\n",
       "  </tbody>\n",
       "</table>\n",
       "</div>"
      ],
      "text/plain": [
       "       y_G  loan_G  education_G  marital_G  duration   predict  preGroup\n",
       "43349    1       0          3.0          2       977  0.636759         1\n",
       "43350    1       0          1.0          3       456  0.141069         0\n",
       "43351    1       0          2.0          2      1127  0.665713         1\n",
       "43352    0       0          2.0          2       508  0.175105         0\n",
       "43353    0       0          2.0          2       361  0.110906         0"
      ]
     },
     "execution_count": 159,
     "metadata": {},
     "output_type": "execute_result"
    }
   ],
   "source": [
    "bank_lr2_na.tail()"
   ]
  },
  {
   "cell_type": "code",
   "execution_count": 160,
   "metadata": {
    "scrolled": true
   },
   "outputs": [
    {
     "data": {
      "text/html": [
       "<div>\n",
       "<style scoped>\n",
       "    .dataframe tbody tr th:only-of-type {\n",
       "        vertical-align: middle;\n",
       "    }\n",
       "\n",
       "    .dataframe tbody tr th {\n",
       "        vertical-align: top;\n",
       "    }\n",
       "\n",
       "    .dataframe thead th {\n",
       "        text-align: right;\n",
       "    }\n",
       "</style>\n",
       "<table border=\"1\" class=\"dataframe\">\n",
       "  <thead>\n",
       "    <tr style=\"text-align: right;\">\n",
       "      <th>preGroup</th>\n",
       "      <th>0</th>\n",
       "      <th>1</th>\n",
       "      <th>All</th>\n",
       "    </tr>\n",
       "    <tr>\n",
       "      <th>y_G</th>\n",
       "      <th></th>\n",
       "      <th></th>\n",
       "      <th></th>\n",
       "    </tr>\n",
       "  </thead>\n",
       "  <tbody>\n",
       "    <tr>\n",
       "      <td>0</td>\n",
       "      <td>0.870531</td>\n",
       "      <td>0.013286</td>\n",
       "      <td>0.883817</td>\n",
       "    </tr>\n",
       "    <tr>\n",
       "      <td>1</td>\n",
       "      <td>0.096738</td>\n",
       "      <td>0.019445</td>\n",
       "      <td>0.116183</td>\n",
       "    </tr>\n",
       "    <tr>\n",
       "      <td>All</td>\n",
       "      <td>0.967269</td>\n",
       "      <td>0.032731</td>\n",
       "      <td>1.000000</td>\n",
       "    </tr>\n",
       "  </tbody>\n",
       "</table>\n",
       "</div>"
      ],
      "text/plain": [
       "preGroup         0         1       All\n",
       "y_G                                   \n",
       "0         0.870531  0.013286  0.883817\n",
       "1         0.096738  0.019445  0.116183\n",
       "All       0.967269  0.032731  1.000000"
      ]
     },
     "execution_count": 160,
     "metadata": {},
     "output_type": "execute_result"
    }
   ],
   "source": [
    "pd.crosstab(bank_lr2_na.y_G, bank_lr2_na.preGroup, margins=True,normalize=True)"
   ]
  },
  {
   "cell_type": "code",
   "execution_count": 162,
   "metadata": {},
   "outputs": [],
   "source": [
    "############################################\n",
    "################################의사결정나무\n",
    "############################################\n",
    "# 과정 - Recode --> 데이터 셋 저장"
   ]
  },
  {
   "cell_type": "code",
   "execution_count": 163,
   "metadata": {},
   "outputs": [],
   "source": [
    "from sklearn.tree import DecisionTreeClassifier"
   ]
  },
  {
   "cell_type": "code",
   "execution_count": 171,
   "metadata": {},
   "outputs": [
    {
     "data": {
      "text/html": [
       "<div>\n",
       "<style scoped>\n",
       "    .dataframe tbody tr th:only-of-type {\n",
       "        vertical-align: middle;\n",
       "    }\n",
       "\n",
       "    .dataframe tbody tr th {\n",
       "        vertical-align: top;\n",
       "    }\n",
       "\n",
       "    .dataframe thead th {\n",
       "        text-align: right;\n",
       "    }\n",
       "</style>\n",
       "<table border=\"1\" class=\"dataframe\">\n",
       "  <thead>\n",
       "    <tr style=\"text-align: right;\">\n",
       "      <th></th>\n",
       "      <th>y_G</th>\n",
       "      <th>age</th>\n",
       "      <th>duration</th>\n",
       "      <th>pdays</th>\n",
       "      <th>marital_G</th>\n",
       "      <th>loan_G</th>\n",
       "      <th>contact_G</th>\n",
       "    </tr>\n",
       "  </thead>\n",
       "  <tbody>\n",
       "    <tr>\n",
       "      <td>12657</td>\n",
       "      <td>0</td>\n",
       "      <td>27</td>\n",
       "      <td>255</td>\n",
       "      <td>-1</td>\n",
       "      <td>1</td>\n",
       "      <td>0</td>\n",
       "      <td>1.0</td>\n",
       "    </tr>\n",
       "    <tr>\n",
       "      <td>12658</td>\n",
       "      <td>0</td>\n",
       "      <td>54</td>\n",
       "      <td>297</td>\n",
       "      <td>-1</td>\n",
       "      <td>2</td>\n",
       "      <td>0</td>\n",
       "      <td>1.0</td>\n",
       "    </tr>\n",
       "    <tr>\n",
       "      <td>12659</td>\n",
       "      <td>0</td>\n",
       "      <td>43</td>\n",
       "      <td>668</td>\n",
       "      <td>-1</td>\n",
       "      <td>2</td>\n",
       "      <td>1</td>\n",
       "      <td>1.0</td>\n",
       "    </tr>\n",
       "    <tr>\n",
       "      <td>12660</td>\n",
       "      <td>0</td>\n",
       "      <td>31</td>\n",
       "      <td>65</td>\n",
       "      <td>-1</td>\n",
       "      <td>1</td>\n",
       "      <td>0</td>\n",
       "      <td>2.0</td>\n",
       "    </tr>\n",
       "    <tr>\n",
       "      <td>12661</td>\n",
       "      <td>0</td>\n",
       "      <td>27</td>\n",
       "      <td>436</td>\n",
       "      <td>-1</td>\n",
       "      <td>1</td>\n",
       "      <td>1</td>\n",
       "      <td>1.0</td>\n",
       "    </tr>\n",
       "  </tbody>\n",
       "</table>\n",
       "</div>"
      ],
      "text/plain": [
       "       y_G  age  duration  pdays  marital_G  loan_G  contact_G\n",
       "12657    0   27       255     -1          1       0        1.0\n",
       "12658    0   54       297     -1          2       0        1.0\n",
       "12659    0   43       668     -1          2       1        1.0\n",
       "12660    0   31        65     -1          1       0        2.0\n",
       "12661    0   27       436     -1          1       1        1.0"
      ]
     },
     "execution_count": 171,
     "metadata": {},
     "output_type": "execute_result"
    }
   ],
   "source": [
    "bank_dt = bank[['y_G','age','duration','pdays','marital_G','loan_G','contact_G']].dropna()\n",
    "bank_dt.head()"
   ]
  },
  {
   "cell_type": "code",
   "execution_count": 173,
   "metadata": {},
   "outputs": [],
   "source": [
    "bank_dt_na = bank_dt.reset_index()"
   ]
  },
  {
   "cell_type": "code",
   "execution_count": 174,
   "metadata": {},
   "outputs": [
    {
     "data": {
      "text/html": [
       "<div>\n",
       "<style scoped>\n",
       "    .dataframe tbody tr th:only-of-type {\n",
       "        vertical-align: middle;\n",
       "    }\n",
       "\n",
       "    .dataframe tbody tr th {\n",
       "        vertical-align: top;\n",
       "    }\n",
       "\n",
       "    .dataframe thead th {\n",
       "        text-align: right;\n",
       "    }\n",
       "</style>\n",
       "<table border=\"1\" class=\"dataframe\">\n",
       "  <thead>\n",
       "    <tr style=\"text-align: right;\">\n",
       "      <th></th>\n",
       "      <th>index</th>\n",
       "      <th>y_G</th>\n",
       "      <th>age</th>\n",
       "      <th>duration</th>\n",
       "      <th>pdays</th>\n",
       "      <th>marital_G</th>\n",
       "      <th>loan_G</th>\n",
       "      <th>contact_G</th>\n",
       "    </tr>\n",
       "  </thead>\n",
       "  <tbody>\n",
       "    <tr>\n",
       "      <td>0</td>\n",
       "      <td>12657</td>\n",
       "      <td>0</td>\n",
       "      <td>27</td>\n",
       "      <td>255</td>\n",
       "      <td>-1</td>\n",
       "      <td>1</td>\n",
       "      <td>0</td>\n",
       "      <td>1.0</td>\n",
       "    </tr>\n",
       "    <tr>\n",
       "      <td>1</td>\n",
       "      <td>12658</td>\n",
       "      <td>0</td>\n",
       "      <td>54</td>\n",
       "      <td>297</td>\n",
       "      <td>-1</td>\n",
       "      <td>2</td>\n",
       "      <td>0</td>\n",
       "      <td>1.0</td>\n",
       "    </tr>\n",
       "    <tr>\n",
       "      <td>2</td>\n",
       "      <td>12659</td>\n",
       "      <td>0</td>\n",
       "      <td>43</td>\n",
       "      <td>668</td>\n",
       "      <td>-1</td>\n",
       "      <td>2</td>\n",
       "      <td>1</td>\n",
       "      <td>1.0</td>\n",
       "    </tr>\n",
       "    <tr>\n",
       "      <td>3</td>\n",
       "      <td>12660</td>\n",
       "      <td>0</td>\n",
       "      <td>31</td>\n",
       "      <td>65</td>\n",
       "      <td>-1</td>\n",
       "      <td>1</td>\n",
       "      <td>0</td>\n",
       "      <td>2.0</td>\n",
       "    </tr>\n",
       "    <tr>\n",
       "      <td>4</td>\n",
       "      <td>12661</td>\n",
       "      <td>0</td>\n",
       "      <td>27</td>\n",
       "      <td>436</td>\n",
       "      <td>-1</td>\n",
       "      <td>1</td>\n",
       "      <td>1</td>\n",
       "      <td>1.0</td>\n",
       "    </tr>\n",
       "  </tbody>\n",
       "</table>\n",
       "</div>"
      ],
      "text/plain": [
       "   index  y_G  age  duration  pdays  marital_G  loan_G  contact_G\n",
       "0  12657    0   27       255     -1          1       0        1.0\n",
       "1  12658    0   54       297     -1          2       0        1.0\n",
       "2  12659    0   43       668     -1          2       1        1.0\n",
       "3  12660    0   31        65     -1          1       0        2.0\n",
       "4  12661    0   27       436     -1          1       1        1.0"
      ]
     },
     "execution_count": 174,
     "metadata": {},
     "output_type": "execute_result"
    }
   ],
   "source": [
    "bank_dt_na.head()"
   ]
  },
  {
   "cell_type": "code",
   "execution_count": 175,
   "metadata": {},
   "outputs": [],
   "source": [
    "bank_dt_na = bank_dt_na.drop(['index'], axis = 1)"
   ]
  },
  {
   "cell_type": "code",
   "execution_count": 176,
   "metadata": {
    "scrolled": true
   },
   "outputs": [
    {
     "data": {
      "text/html": [
       "<div>\n",
       "<style scoped>\n",
       "    .dataframe tbody tr th:only-of-type {\n",
       "        vertical-align: middle;\n",
       "    }\n",
       "\n",
       "    .dataframe tbody tr th {\n",
       "        vertical-align: top;\n",
       "    }\n",
       "\n",
       "    .dataframe thead th {\n",
       "        text-align: right;\n",
       "    }\n",
       "</style>\n",
       "<table border=\"1\" class=\"dataframe\">\n",
       "  <thead>\n",
       "    <tr style=\"text-align: right;\">\n",
       "      <th></th>\n",
       "      <th>y_G</th>\n",
       "      <th>age</th>\n",
       "      <th>duration</th>\n",
       "      <th>pdays</th>\n",
       "      <th>marital_G</th>\n",
       "      <th>loan_G</th>\n",
       "      <th>contact_G</th>\n",
       "    </tr>\n",
       "  </thead>\n",
       "  <tbody>\n",
       "    <tr>\n",
       "      <td>0</td>\n",
       "      <td>0</td>\n",
       "      <td>27</td>\n",
       "      <td>255</td>\n",
       "      <td>-1</td>\n",
       "      <td>1</td>\n",
       "      <td>0</td>\n",
       "      <td>1.0</td>\n",
       "    </tr>\n",
       "    <tr>\n",
       "      <td>1</td>\n",
       "      <td>0</td>\n",
       "      <td>54</td>\n",
       "      <td>297</td>\n",
       "      <td>-1</td>\n",
       "      <td>2</td>\n",
       "      <td>0</td>\n",
       "      <td>1.0</td>\n",
       "    </tr>\n",
       "    <tr>\n",
       "      <td>2</td>\n",
       "      <td>0</td>\n",
       "      <td>43</td>\n",
       "      <td>668</td>\n",
       "      <td>-1</td>\n",
       "      <td>2</td>\n",
       "      <td>1</td>\n",
       "      <td>1.0</td>\n",
       "    </tr>\n",
       "    <tr>\n",
       "      <td>3</td>\n",
       "      <td>0</td>\n",
       "      <td>31</td>\n",
       "      <td>65</td>\n",
       "      <td>-1</td>\n",
       "      <td>1</td>\n",
       "      <td>0</td>\n",
       "      <td>2.0</td>\n",
       "    </tr>\n",
       "    <tr>\n",
       "      <td>4</td>\n",
       "      <td>0</td>\n",
       "      <td>27</td>\n",
       "      <td>436</td>\n",
       "      <td>-1</td>\n",
       "      <td>1</td>\n",
       "      <td>1</td>\n",
       "      <td>1.0</td>\n",
       "    </tr>\n",
       "  </tbody>\n",
       "</table>\n",
       "</div>"
      ],
      "text/plain": [
       "   y_G  age  duration  pdays  marital_G  loan_G  contact_G\n",
       "0    0   27       255     -1          1       0        1.0\n",
       "1    0   54       297     -1          2       0        1.0\n",
       "2    0   43       668     -1          2       1        1.0\n",
       "3    0   31        65     -1          1       0        2.0\n",
       "4    0   27       436     -1          1       1        1.0"
      ]
     },
     "execution_count": 176,
     "metadata": {},
     "output_type": "execute_result"
    }
   ],
   "source": [
    "bank_dt_na.head()"
   ]
  },
  {
   "cell_type": "code",
   "execution_count": 178,
   "metadata": {},
   "outputs": [],
   "source": [
    "bank_dt_na['contact_G'] = bank_dt_na['contact_G'].astype('int') # Contact_G의 숫자들을 정수형태로 바꾸기 "
   ]
  },
  {
   "cell_type": "code",
   "execution_count": 179,
   "metadata": {},
   "outputs": [
    {
     "data": {
      "text/html": [
       "<div>\n",
       "<style scoped>\n",
       "    .dataframe tbody tr th:only-of-type {\n",
       "        vertical-align: middle;\n",
       "    }\n",
       "\n",
       "    .dataframe tbody tr th {\n",
       "        vertical-align: top;\n",
       "    }\n",
       "\n",
       "    .dataframe thead th {\n",
       "        text-align: right;\n",
       "    }\n",
       "</style>\n",
       "<table border=\"1\" class=\"dataframe\">\n",
       "  <thead>\n",
       "    <tr style=\"text-align: right;\">\n",
       "      <th></th>\n",
       "      <th>y_G</th>\n",
       "      <th>age</th>\n",
       "      <th>duration</th>\n",
       "      <th>pdays</th>\n",
       "      <th>marital_G</th>\n",
       "      <th>loan_G</th>\n",
       "      <th>contact_G</th>\n",
       "    </tr>\n",
       "  </thead>\n",
       "  <tbody>\n",
       "    <tr>\n",
       "      <td>0</td>\n",
       "      <td>0</td>\n",
       "      <td>27</td>\n",
       "      <td>255</td>\n",
       "      <td>-1</td>\n",
       "      <td>1</td>\n",
       "      <td>0</td>\n",
       "      <td>1</td>\n",
       "    </tr>\n",
       "    <tr>\n",
       "      <td>1</td>\n",
       "      <td>0</td>\n",
       "      <td>54</td>\n",
       "      <td>297</td>\n",
       "      <td>-1</td>\n",
       "      <td>2</td>\n",
       "      <td>0</td>\n",
       "      <td>1</td>\n",
       "    </tr>\n",
       "    <tr>\n",
       "      <td>2</td>\n",
       "      <td>0</td>\n",
       "      <td>43</td>\n",
       "      <td>668</td>\n",
       "      <td>-1</td>\n",
       "      <td>2</td>\n",
       "      <td>1</td>\n",
       "      <td>1</td>\n",
       "    </tr>\n",
       "    <tr>\n",
       "      <td>3</td>\n",
       "      <td>0</td>\n",
       "      <td>31</td>\n",
       "      <td>65</td>\n",
       "      <td>-1</td>\n",
       "      <td>1</td>\n",
       "      <td>0</td>\n",
       "      <td>2</td>\n",
       "    </tr>\n",
       "    <tr>\n",
       "      <td>4</td>\n",
       "      <td>0</td>\n",
       "      <td>27</td>\n",
       "      <td>436</td>\n",
       "      <td>-1</td>\n",
       "      <td>1</td>\n",
       "      <td>1</td>\n",
       "      <td>1</td>\n",
       "    </tr>\n",
       "  </tbody>\n",
       "</table>\n",
       "</div>"
      ],
      "text/plain": [
       "   y_G  age  duration  pdays  marital_G  loan_G  contact_G\n",
       "0    0   27       255     -1          1       0          1\n",
       "1    0   54       297     -1          2       0          1\n",
       "2    0   43       668     -1          2       1          1\n",
       "3    0   31        65     -1          1       0          2\n",
       "4    0   27       436     -1          1       1          1"
      ]
     },
     "execution_count": 179,
     "metadata": {},
     "output_type": "execute_result"
    }
   ],
   "source": [
    "bank_dt_na.head()"
   ]
  },
  {
   "cell_type": "code",
   "execution_count": null,
   "metadata": {},
   "outputs": [],
   "source": [
    "# 데이터셋을 나눌것이다, 훈련용과 테스트용으로."
   ]
  },
  {
   "cell_type": "code",
   "execution_count": 181,
   "metadata": {},
   "outputs": [
    {
     "data": {
      "text/html": [
       "<div>\n",
       "<style scoped>\n",
       "    .dataframe tbody tr th:only-of-type {\n",
       "        vertical-align: middle;\n",
       "    }\n",
       "\n",
       "    .dataframe tbody tr th {\n",
       "        vertical-align: top;\n",
       "    }\n",
       "\n",
       "    .dataframe thead th {\n",
       "        text-align: right;\n",
       "    }\n",
       "</style>\n",
       "<table border=\"1\" class=\"dataframe\">\n",
       "  <thead>\n",
       "    <tr style=\"text-align: right;\">\n",
       "      <th></th>\n",
       "      <th>age</th>\n",
       "      <th>duration</th>\n",
       "      <th>pdays</th>\n",
       "      <th>marital_G</th>\n",
       "      <th>loan_G</th>\n",
       "      <th>contact_G</th>\n",
       "    </tr>\n",
       "  </thead>\n",
       "  <tbody>\n",
       "    <tr>\n",
       "      <td>0</td>\n",
       "      <td>27</td>\n",
       "      <td>255</td>\n",
       "      <td>-1</td>\n",
       "      <td>1</td>\n",
       "      <td>0</td>\n",
       "      <td>1</td>\n",
       "    </tr>\n",
       "    <tr>\n",
       "      <td>1</td>\n",
       "      <td>54</td>\n",
       "      <td>297</td>\n",
       "      <td>-1</td>\n",
       "      <td>2</td>\n",
       "      <td>0</td>\n",
       "      <td>1</td>\n",
       "    </tr>\n",
       "    <tr>\n",
       "      <td>2</td>\n",
       "      <td>43</td>\n",
       "      <td>668</td>\n",
       "      <td>-1</td>\n",
       "      <td>2</td>\n",
       "      <td>1</td>\n",
       "      <td>1</td>\n",
       "    </tr>\n",
       "    <tr>\n",
       "      <td>3</td>\n",
       "      <td>31</td>\n",
       "      <td>65</td>\n",
       "      <td>-1</td>\n",
       "      <td>1</td>\n",
       "      <td>0</td>\n",
       "      <td>2</td>\n",
       "    </tr>\n",
       "    <tr>\n",
       "      <td>4</td>\n",
       "      <td>27</td>\n",
       "      <td>436</td>\n",
       "      <td>-1</td>\n",
       "      <td>1</td>\n",
       "      <td>1</td>\n",
       "      <td>1</td>\n",
       "    </tr>\n",
       "  </tbody>\n",
       "</table>\n",
       "</div>"
      ],
      "text/plain": [
       "   age  duration  pdays  marital_G  loan_G  contact_G\n",
       "0   27       255     -1          1       0          1\n",
       "1   54       297     -1          2       0          1\n",
       "2   43       668     -1          2       1          1\n",
       "3   31        65     -1          1       0          2\n",
       "4   27       436     -1          1       1          1"
      ]
     },
     "execution_count": 181,
     "metadata": {},
     "output_type": "execute_result"
    }
   ],
   "source": [
    "bank_train = bank_dt_na.loc[:,'age':] # 행에 해당하는 것 전부 가져오라는 의미.\n",
    "bank_train.head() # y값만 빠진 데이터셋을 만든 것을 볼 수 있다."
   ]
  },
  {
   "cell_type": "code",
   "execution_count": 182,
   "metadata": {},
   "outputs": [
    {
     "data": {
      "text/plain": [
       "0    0\n",
       "1    0\n",
       "2    0\n",
       "3    0\n",
       "4    0\n",
       "Name: y_G, dtype: int64"
      ]
     },
     "execution_count": 182,
     "metadata": {},
     "output_type": "execute_result"
    }
   ],
   "source": [
    "bank_target = bank_dt_na.loc[:, 'y_G']\n",
    "bank_target.head()"
   ]
  },
  {
   "cell_type": "code",
   "execution_count": 183,
   "metadata": {},
   "outputs": [],
   "source": [
    "from sklearn.model_selection import train_test_split"
   ]
  },
  {
   "cell_type": "code",
   "execution_count": 184,
   "metadata": {},
   "outputs": [],
   "source": [
    "X_train, X_test, y_train, y_test = train_test_split(bank_train, bank_target,\n",
    "                                                   test_size = 0.3, random_state=1234) #트레인이 학습용 테스트가 실제로 적용할 데이터 \n",
    "# 4개의 구간으로 나눠서, 각각에 해당하는 변수를 할당하는 것이다. "
   ]
  },
  {
   "cell_type": "code",
   "execution_count": 185,
   "metadata": {},
   "outputs": [
    {
     "data": {
      "text/plain": [
       "0.9911685084098877"
      ]
     },
     "execution_count": 185,
     "metadata": {},
     "output_type": "execute_result"
    }
   ],
   "source": [
    "# 과적합된 모델 \n",
    "tree_clf = DecisionTreeClassifier(random_state=1234)\n",
    "tree_clf.fit(X_train, y_train)\n",
    "tree_clf.score(X_train, y_train)"
   ]
  },
  {
   "cell_type": "code",
   "execution_count": 186,
   "metadata": {},
   "outputs": [
    {
     "data": {
      "text/plain": [
       "0.8645098300270714"
      ]
     },
     "execution_count": 186,
     "metadata": {},
     "output_type": "execute_result"
    }
   ],
   "source": [
    "# 오버핏 조정\n",
    "tree_clf = DecisionTreeClassifier(max_depth=4, random_state=1234)\n",
    "tree_clf.fit(X_train,y_train)\n",
    "tree_clf.score(X_train, y_train)"
   ]
  },
  {
   "cell_type": "code",
   "execution_count": 187,
   "metadata": {},
   "outputs": [
    {
     "data": {
      "text/plain": [
       "0.8627044936839925"
      ]
     },
     "execution_count": 187,
     "metadata": {},
     "output_type": "execute_result"
    }
   ],
   "source": [
    "# test데이터 쓰기\n",
    "from sklearn.metrics import accuracy_score\n",
    "\n",
    "y_pred_tr = tree_clf.predict(X_test) # X-test를 통해서 예측값으로 만든 y데이터 \n",
    "accuracy_score(y_test, y_pred_tr) # 그 둘을 비교 "
   ]
  },
  {
   "cell_type": "code",
   "execution_count": null,
   "metadata": {},
   "outputs": [],
   "source": [
    "#################\n",
    "# loanG eduG mariG duraG를 이용해 tree_clf2 만들기"
   ]
  },
  {
   "cell_type": "code",
   "execution_count": 188,
   "metadata": {
    "scrolled": true
   },
   "outputs": [
    {
     "data": {
      "text/html": [
       "<div>\n",
       "<style scoped>\n",
       "    .dataframe tbody tr th:only-of-type {\n",
       "        vertical-align: middle;\n",
       "    }\n",
       "\n",
       "    .dataframe tbody tr th {\n",
       "        vertical-align: top;\n",
       "    }\n",
       "\n",
       "    .dataframe thead th {\n",
       "        text-align: right;\n",
       "    }\n",
       "</style>\n",
       "<table border=\"1\" class=\"dataframe\">\n",
       "  <thead>\n",
       "    <tr style=\"text-align: right;\">\n",
       "      <th></th>\n",
       "      <th>y_G</th>\n",
       "      <th>loan_G</th>\n",
       "      <th>education_G</th>\n",
       "      <th>marital_G</th>\n",
       "      <th>duration</th>\n",
       "    </tr>\n",
       "  </thead>\n",
       "  <tbody>\n",
       "    <tr>\n",
       "      <td>0</td>\n",
       "      <td>0</td>\n",
       "      <td>0</td>\n",
       "      <td>3.0</td>\n",
       "      <td>2</td>\n",
       "      <td>261</td>\n",
       "    </tr>\n",
       "    <tr>\n",
       "      <td>1</td>\n",
       "      <td>0</td>\n",
       "      <td>0</td>\n",
       "      <td>2.0</td>\n",
       "      <td>1</td>\n",
       "      <td>151</td>\n",
       "    </tr>\n",
       "    <tr>\n",
       "      <td>2</td>\n",
       "      <td>0</td>\n",
       "      <td>1</td>\n",
       "      <td>2.0</td>\n",
       "      <td>2</td>\n",
       "      <td>76</td>\n",
       "    </tr>\n",
       "    <tr>\n",
       "      <td>5</td>\n",
       "      <td>0</td>\n",
       "      <td>0</td>\n",
       "      <td>3.0</td>\n",
       "      <td>2</td>\n",
       "      <td>139</td>\n",
       "    </tr>\n",
       "    <tr>\n",
       "      <td>6</td>\n",
       "      <td>0</td>\n",
       "      <td>1</td>\n",
       "      <td>3.0</td>\n",
       "      <td>1</td>\n",
       "      <td>217</td>\n",
       "    </tr>\n",
       "  </tbody>\n",
       "</table>\n",
       "</div>"
      ],
      "text/plain": [
       "   y_G  loan_G  education_G  marital_G  duration\n",
       "0    0       0          3.0          2       261\n",
       "1    0       0          2.0          1       151\n",
       "2    0       1          2.0          2        76\n",
       "5    0       0          3.0          2       139\n",
       "6    0       1          3.0          1       217"
      ]
     },
     "execution_count": 188,
     "metadata": {},
     "output_type": "execute_result"
    }
   ],
   "source": [
    "bank_dt3 = bank[['y_G','loan_G','education_G','marital_G','duration']].dropna()\n",
    "bank_dt3.head()"
   ]
  },
  {
   "cell_type": "code",
   "execution_count": 194,
   "metadata": {},
   "outputs": [],
   "source": [
    "bank_dt3_na = bank_dt3.dropna()"
   ]
  },
  {
   "cell_type": "code",
   "execution_count": 201,
   "metadata": {},
   "outputs": [],
   "source": [
    "bank_dt3_na = bank_dt3_na.reset_index()"
   ]
  },
  {
   "cell_type": "code",
   "execution_count": 213,
   "metadata": {},
   "outputs": [
    {
     "data": {
      "text/html": [
       "<div>\n",
       "<style scoped>\n",
       "    .dataframe tbody tr th:only-of-type {\n",
       "        vertical-align: middle;\n",
       "    }\n",
       "\n",
       "    .dataframe tbody tr th {\n",
       "        vertical-align: top;\n",
       "    }\n",
       "\n",
       "    .dataframe thead th {\n",
       "        text-align: right;\n",
       "    }\n",
       "</style>\n",
       "<table border=\"1\" class=\"dataframe\">\n",
       "  <thead>\n",
       "    <tr style=\"text-align: right;\">\n",
       "      <th></th>\n",
       "      <th>level_0</th>\n",
       "      <th>y_G</th>\n",
       "      <th>loan_G</th>\n",
       "      <th>education_G</th>\n",
       "      <th>marital_G</th>\n",
       "      <th>duration</th>\n",
       "    </tr>\n",
       "  </thead>\n",
       "  <tbody>\n",
       "    <tr>\n",
       "      <td>43349</td>\n",
       "      <td>43349</td>\n",
       "      <td>1</td>\n",
       "      <td>0</td>\n",
       "      <td>3.0</td>\n",
       "      <td>2</td>\n",
       "      <td>977</td>\n",
       "    </tr>\n",
       "    <tr>\n",
       "      <td>43350</td>\n",
       "      <td>43350</td>\n",
       "      <td>1</td>\n",
       "      <td>0</td>\n",
       "      <td>1.0</td>\n",
       "      <td>3</td>\n",
       "      <td>456</td>\n",
       "    </tr>\n",
       "    <tr>\n",
       "      <td>43351</td>\n",
       "      <td>43351</td>\n",
       "      <td>1</td>\n",
       "      <td>0</td>\n",
       "      <td>2.0</td>\n",
       "      <td>2</td>\n",
       "      <td>1127</td>\n",
       "    </tr>\n",
       "    <tr>\n",
       "      <td>43352</td>\n",
       "      <td>43352</td>\n",
       "      <td>0</td>\n",
       "      <td>0</td>\n",
       "      <td>2.0</td>\n",
       "      <td>2</td>\n",
       "      <td>508</td>\n",
       "    </tr>\n",
       "    <tr>\n",
       "      <td>43353</td>\n",
       "      <td>43353</td>\n",
       "      <td>0</td>\n",
       "      <td>0</td>\n",
       "      <td>2.0</td>\n",
       "      <td>2</td>\n",
       "      <td>361</td>\n",
       "    </tr>\n",
       "  </tbody>\n",
       "</table>\n",
       "</div>"
      ],
      "text/plain": [
       "       level_0  y_G  loan_G  education_G  marital_G  duration\n",
       "43349    43349    1       0          3.0          2       977\n",
       "43350    43350    1       0          1.0          3       456\n",
       "43351    43351    1       0          2.0          2      1127\n",
       "43352    43352    0       0          2.0          2       508\n",
       "43353    43353    0       0          2.0          2       361"
      ]
     },
     "execution_count": 213,
     "metadata": {},
     "output_type": "execute_result"
    }
   ],
   "source": [
    "bank_dt3_na.tail()"
   ]
  },
  {
   "cell_type": "code",
   "execution_count": 203,
   "metadata": {},
   "outputs": [],
   "source": [
    "bank_dt3_na = bank_dt3_na.drop(['index'], axis = 1)"
   ]
  },
  {
   "cell_type": "code",
   "execution_count": 205,
   "metadata": {
    "scrolled": true
   },
   "outputs": [
    {
     "data": {
      "text/html": [
       "<div>\n",
       "<style scoped>\n",
       "    .dataframe tbody tr th:only-of-type {\n",
       "        vertical-align: middle;\n",
       "    }\n",
       "\n",
       "    .dataframe tbody tr th {\n",
       "        vertical-align: top;\n",
       "    }\n",
       "\n",
       "    .dataframe thead th {\n",
       "        text-align: right;\n",
       "    }\n",
       "</style>\n",
       "<table border=\"1\" class=\"dataframe\">\n",
       "  <thead>\n",
       "    <tr style=\"text-align: right;\">\n",
       "      <th></th>\n",
       "      <th>level_0</th>\n",
       "      <th>y_G</th>\n",
       "      <th>loan_G</th>\n",
       "      <th>education_G</th>\n",
       "      <th>marital_G</th>\n",
       "      <th>duration</th>\n",
       "    </tr>\n",
       "  </thead>\n",
       "  <tbody>\n",
       "    <tr>\n",
       "      <td>43349</td>\n",
       "      <td>43349</td>\n",
       "      <td>1</td>\n",
       "      <td>0</td>\n",
       "      <td>3.0</td>\n",
       "      <td>2</td>\n",
       "      <td>977</td>\n",
       "    </tr>\n",
       "    <tr>\n",
       "      <td>43350</td>\n",
       "      <td>43350</td>\n",
       "      <td>1</td>\n",
       "      <td>0</td>\n",
       "      <td>1.0</td>\n",
       "      <td>3</td>\n",
       "      <td>456</td>\n",
       "    </tr>\n",
       "    <tr>\n",
       "      <td>43351</td>\n",
       "      <td>43351</td>\n",
       "      <td>1</td>\n",
       "      <td>0</td>\n",
       "      <td>2.0</td>\n",
       "      <td>2</td>\n",
       "      <td>1127</td>\n",
       "    </tr>\n",
       "    <tr>\n",
       "      <td>43352</td>\n",
       "      <td>43352</td>\n",
       "      <td>0</td>\n",
       "      <td>0</td>\n",
       "      <td>2.0</td>\n",
       "      <td>2</td>\n",
       "      <td>508</td>\n",
       "    </tr>\n",
       "    <tr>\n",
       "      <td>43353</td>\n",
       "      <td>43353</td>\n",
       "      <td>0</td>\n",
       "      <td>0</td>\n",
       "      <td>2.0</td>\n",
       "      <td>2</td>\n",
       "      <td>361</td>\n",
       "    </tr>\n",
       "  </tbody>\n",
       "</table>\n",
       "</div>"
      ],
      "text/plain": [
       "       level_0  y_G  loan_G  education_G  marital_G  duration\n",
       "43349    43349    1       0          3.0          2       977\n",
       "43350    43350    1       0          1.0          3       456\n",
       "43351    43351    1       0          2.0          2      1127\n",
       "43352    43352    0       0          2.0          2       508\n",
       "43353    43353    0       0          2.0          2       361"
      ]
     },
     "execution_count": 205,
     "metadata": {},
     "output_type": "execute_result"
    }
   ],
   "source": [
    "bank_dt3_na.tail()"
   ]
  },
  {
   "cell_type": "code",
   "execution_count": 215,
   "metadata": {
    "scrolled": true
   },
   "outputs": [
    {
     "data": {
      "text/html": [
       "<div>\n",
       "<style scoped>\n",
       "    .dataframe tbody tr th:only-of-type {\n",
       "        vertical-align: middle;\n",
       "    }\n",
       "\n",
       "    .dataframe tbody tr th {\n",
       "        vertical-align: top;\n",
       "    }\n",
       "\n",
       "    .dataframe thead th {\n",
       "        text-align: right;\n",
       "    }\n",
       "</style>\n",
       "<table border=\"1\" class=\"dataframe\">\n",
       "  <thead>\n",
       "    <tr style=\"text-align: right;\">\n",
       "      <th></th>\n",
       "      <th>loan_G</th>\n",
       "      <th>education_G</th>\n",
       "      <th>marital_G</th>\n",
       "      <th>duration</th>\n",
       "    </tr>\n",
       "  </thead>\n",
       "  <tbody>\n",
       "    <tr>\n",
       "      <td>43349</td>\n",
       "      <td>0</td>\n",
       "      <td>3.0</td>\n",
       "      <td>2</td>\n",
       "      <td>977</td>\n",
       "    </tr>\n",
       "    <tr>\n",
       "      <td>43350</td>\n",
       "      <td>0</td>\n",
       "      <td>1.0</td>\n",
       "      <td>3</td>\n",
       "      <td>456</td>\n",
       "    </tr>\n",
       "    <tr>\n",
       "      <td>43351</td>\n",
       "      <td>0</td>\n",
       "      <td>2.0</td>\n",
       "      <td>2</td>\n",
       "      <td>1127</td>\n",
       "    </tr>\n",
       "    <tr>\n",
       "      <td>43352</td>\n",
       "      <td>0</td>\n",
       "      <td>2.0</td>\n",
       "      <td>2</td>\n",
       "      <td>508</td>\n",
       "    </tr>\n",
       "    <tr>\n",
       "      <td>43353</td>\n",
       "      <td>0</td>\n",
       "      <td>2.0</td>\n",
       "      <td>2</td>\n",
       "      <td>361</td>\n",
       "    </tr>\n",
       "  </tbody>\n",
       "</table>\n",
       "</div>"
      ],
      "text/plain": [
       "       loan_G  education_G  marital_G  duration\n",
       "43349       0          3.0          2       977\n",
       "43350       0          1.0          3       456\n",
       "43351       0          2.0          2      1127\n",
       "43352       0          2.0          2       508\n",
       "43353       0          2.0          2       361"
      ]
     },
     "execution_count": 215,
     "metadata": {},
     "output_type": "execute_result"
    }
   ],
   "source": [
    "#bank_train2 = bank_dt3_na.loc[:,'loan_G':] # 행에 해당하는 것 전부 가져오라는 의미.\n",
    "bank_train2.tail()"
   ]
  },
  {
   "cell_type": "code",
   "execution_count": 217,
   "metadata": {
    "scrolled": true
   },
   "outputs": [
    {
     "data": {
      "text/plain": [
       "43349    1\n",
       "43350    1\n",
       "43351    1\n",
       "43352    0\n",
       "43353    0\n",
       "Name: y_G, dtype: int64"
      ]
     },
     "execution_count": 217,
     "metadata": {},
     "output_type": "execute_result"
    }
   ],
   "source": [
    "bank_target2 = bank_dt3_na.loc[:, 'y_G']\n",
    "bank_target2.tail()"
   ]
  },
  {
   "cell_type": "code",
   "execution_count": 218,
   "metadata": {},
   "outputs": [],
   "source": [
    "X_train2, X_test2, y_train2, y_test2 = train_test_split(bank_train2, bank_target2,test_size = 0.3, random_state=1234)"
   ]
  },
  {
   "cell_type": "code",
   "execution_count": 219,
   "metadata": {},
   "outputs": [
    {
     "data": {
      "text/plain": [
       "0.8912907371404093"
      ]
     },
     "execution_count": 219,
     "metadata": {},
     "output_type": "execute_result"
    }
   ],
   "source": [
    "tree_clf2 = DecisionTreeClassifier(max_depth=4, random_state=1234)\n",
    "tree_clf2.fit(X_train2,y_train2)\n",
    "tree_clf2.score(X_train2, y_train2)"
   ]
  },
  {
   "cell_type": "code",
   "execution_count": 220,
   "metadata": {
    "scrolled": true
   },
   "outputs": [
    {
     "name": "stdout",
     "output_type": "stream",
     "text": [
      "Collecting graphviz\n",
      "  Downloading https://files.pythonhosted.org/packages/f5/74/dbed754c0abd63768d3a7a7b472da35b08ac442cf87d73d5850a6f32391e/graphviz-0.13.2-py2.py3-none-any.whl\n",
      "Installing collected packages: graphviz\n",
      "Successfully installed graphviz-0.13.2\n",
      "Note: you may need to restart the kernel to use updated packages.\n"
     ]
    }
   ],
   "source": [
    "# pip install graphviz \n",
    "# cmd에서 해도 되고 노트북에서 해도 된다. 그리고 환경변수 설정을 해줘야 한다 "
   ]
  },
  {
   "cell_type": "code",
   "execution_count": 221,
   "metadata": {},
   "outputs": [],
   "source": [
    "from sklearn.tree import export_graphviz\n",
    "import graphviz"
   ]
  },
  {
   "cell_type": "code",
   "execution_count": 223,
   "metadata": {},
   "outputs": [],
   "source": [
    "export_graphviz(tree_clf,\n",
    "               out_file='bank_DT.dot', \n",
    "               feature_names=['age','duration','pdays','marital_G','loan_G','contact_G'],\n",
    "               class_names=['no','yes'],\n",
    "               filled=True) \n",
    "# tree_clf는 노드의 규칙을 갖고 있는 것"
   ]
  },
  {
   "cell_type": "code",
   "execution_count": 224,
   "metadata": {},
   "outputs": [],
   "source": [
    "with open('bank_DT.dot') as f:\n",
    "    dot_graph = f.read()\n",
    "# bank_DT.dot는 노드규칙이 들어가있을 것이고, 이는 다시 dot_graph에 들어갈 것 "
   ]
  },
  {
   "cell_type": "code",
   "execution_count": 228,
   "metadata": {},
   "outputs": [
    {
     "data": {
      "image/svg+xml": [
       "<?xml version=\"1.0\" encoding=\"UTF-8\" standalone=\"no\"?>\r\n",
       "<!DOCTYPE svg PUBLIC \"-//W3C//DTD SVG 1.1//EN\"\r\n",
       " \"http://www.w3.org/Graphics/SVG/1.1/DTD/svg11.dtd\">\r\n",
       "<!-- Generated by graphviz version 2.38.0 (20140413.2041)\r\n",
       " -->\r\n",
       "<!-- Title: Tree Pages: 1 -->\r\n",
       "<svg width=\"2132pt\" height=\"552pt\"\r\n",
       " viewBox=\"0.00 0.00 2132.00 552.00\" xmlns=\"http://www.w3.org/2000/svg\" xmlns:xlink=\"http://www.w3.org/1999/xlink\">\r\n",
       "<g id=\"graph0\" class=\"graph\" transform=\"scale(1 1) rotate(0) translate(4 548)\">\r\n",
       "<title>Tree</title>\r\n",
       "<polygon fill=\"white\" stroke=\"none\" points=\"-4,4 -4,-548 2128,-548 2128,4 -4,4\"/>\r\n",
       "<!-- 0 -->\r\n",
       "<g id=\"node1\" class=\"node\"><title>0</title>\r\n",
       "<polygon fill=\"#ea975b\" stroke=\"black\" points=\"1163,-544 1025,-544 1025,-461 1163,-461 1163,-544\"/>\r\n",
       "<text text-anchor=\"middle\" x=\"1094\" y=\"-528.8\" font-family=\"Times New Roman,serif\" font-size=\"14.00\">duration &lt;= 549.5</text>\r\n",
       "<text text-anchor=\"middle\" x=\"1094\" y=\"-513.8\" font-family=\"Times New Roman,serif\" font-size=\"14.00\">gini = 0.252</text>\r\n",
       "<text text-anchor=\"middle\" x=\"1094\" y=\"-498.8\" font-family=\"Times New Roman,serif\" font-size=\"14.00\">samples = 22533</text>\r\n",
       "<text text-anchor=\"middle\" x=\"1094\" y=\"-483.8\" font-family=\"Times New Roman,serif\" font-size=\"14.00\">value = [19203, 3330]</text>\r\n",
       "<text text-anchor=\"middle\" x=\"1094\" y=\"-468.8\" font-family=\"Times New Roman,serif\" font-size=\"14.00\">class = no</text>\r\n",
       "</g>\r\n",
       "<!-- 1 -->\r\n",
       "<g id=\"node2\" class=\"node\"><title>1</title>\r\n",
       "<polygon fill=\"#e89051\" stroke=\"black\" points=\"900,-425 762,-425 762,-342 900,-342 900,-425\"/>\r\n",
       "<text text-anchor=\"middle\" x=\"831\" y=\"-409.8\" font-family=\"Times New Roman,serif\" font-size=\"14.00\">duration &lt;= 205.5</text>\r\n",
       "<text text-anchor=\"middle\" x=\"831\" y=\"-394.8\" font-family=\"Times New Roman,serif\" font-size=\"14.00\">gini = 0.193</text>\r\n",
       "<text text-anchor=\"middle\" x=\"831\" y=\"-379.8\" font-family=\"Times New Roman,serif\" font-size=\"14.00\">samples = 20245</text>\r\n",
       "<text text-anchor=\"middle\" x=\"831\" y=\"-364.8\" font-family=\"Times New Roman,serif\" font-size=\"14.00\">value = [18060, 2185]</text>\r\n",
       "<text text-anchor=\"middle\" x=\"831\" y=\"-349.8\" font-family=\"Times New Roman,serif\" font-size=\"14.00\">class = no</text>\r\n",
       "</g>\r\n",
       "<!-- 0&#45;&gt;1 -->\r\n",
       "<g id=\"edge1\" class=\"edge\"><title>0&#45;&gt;1</title>\r\n",
       "<path fill=\"none\" stroke=\"black\" d=\"M1024.9,-470.76C989.403,-454.968 946.01,-435.664 909.28,-419.324\"/>\r\n",
       "<polygon fill=\"black\" stroke=\"black\" points=\"910.654,-416.105 900.095,-415.238 907.809,-422.5 910.654,-416.105\"/>\r\n",
       "<text text-anchor=\"middle\" x=\"909.061\" y=\"-434.875\" font-family=\"Times New Roman,serif\" font-size=\"14.00\">True</text>\r\n",
       "</g>\r\n",
       "<!-- 16 -->\r\n",
       "<g id=\"node17\" class=\"node\"><title>16</title>\r\n",
       "<polygon fill=\"#ffffff\" stroke=\"black\" points=\"1424.5,-425 1293.5,-425 1293.5,-342 1424.5,-342 1424.5,-425\"/>\r\n",
       "<text text-anchor=\"middle\" x=\"1359\" y=\"-409.8\" font-family=\"Times New Roman,serif\" font-size=\"14.00\">duration &lt;= 800.5</text>\r\n",
       "<text text-anchor=\"middle\" x=\"1359\" y=\"-394.8\" font-family=\"Times New Roman,serif\" font-size=\"14.00\">gini = 0.5</text>\r\n",
       "<text text-anchor=\"middle\" x=\"1359\" y=\"-379.8\" font-family=\"Times New Roman,serif\" font-size=\"14.00\">samples = 2288</text>\r\n",
       "<text text-anchor=\"middle\" x=\"1359\" y=\"-364.8\" font-family=\"Times New Roman,serif\" font-size=\"14.00\">value = [1143, 1145]</text>\r\n",
       "<text text-anchor=\"middle\" x=\"1359\" y=\"-349.8\" font-family=\"Times New Roman,serif\" font-size=\"14.00\">class = yes</text>\r\n",
       "</g>\r\n",
       "<!-- 0&#45;&gt;16 -->\r\n",
       "<g id=\"edge16\" class=\"edge\"><title>0&#45;&gt;16</title>\r\n",
       "<path fill=\"none\" stroke=\"black\" d=\"M1163.28,-470.912C1200.32,-454.559 1245.97,-434.405 1283.86,-417.675\"/>\r\n",
       "<polygon fill=\"black\" stroke=\"black\" points=\"1285.58,-420.74 1293.32,-413.499 1282.76,-414.337 1285.58,-420.74\"/>\r\n",
       "<text text-anchor=\"middle\" x=\"1284.29\" y=\"-433.111\" font-family=\"Times New Roman,serif\" font-size=\"14.00\">False</text>\r\n",
       "</g>\r\n",
       "<!-- 2 -->\r\n",
       "<g id=\"node3\" class=\"node\"><title>2</title>\r\n",
       "<polygon fill=\"#e68844\" stroke=\"black\" points=\"479.5,-306 348.5,-306 348.5,-223 479.5,-223 479.5,-306\"/>\r\n",
       "<text text-anchor=\"middle\" x=\"414\" y=\"-290.8\" font-family=\"Times New Roman,serif\" font-size=\"14.00\">duration &lt;= 129.5</text>\r\n",
       "<text text-anchor=\"middle\" x=\"414\" y=\"-275.8\" font-family=\"Times New Roman,serif\" font-size=\"14.00\">gini = 0.096</text>\r\n",
       "<text text-anchor=\"middle\" x=\"414\" y=\"-260.8\" font-family=\"Times New Roman,serif\" font-size=\"14.00\">samples = 12534</text>\r\n",
       "<text text-anchor=\"middle\" x=\"414\" y=\"-245.8\" font-family=\"Times New Roman,serif\" font-size=\"14.00\">value = [11900, 634]</text>\r\n",
       "<text text-anchor=\"middle\" x=\"414\" y=\"-230.8\" font-family=\"Times New Roman,serif\" font-size=\"14.00\">class = no</text>\r\n",
       "</g>\r\n",
       "<!-- 1&#45;&gt;2 -->\r\n",
       "<g id=\"edge2\" class=\"edge\"><title>1&#45;&gt;2</title>\r\n",
       "<path fill=\"none\" stroke=\"black\" d=\"M761.673,-363.048C686.494,-341.955 566.888,-308.397 489.41,-286.658\"/>\r\n",
       "<polygon fill=\"black\" stroke=\"black\" points=\"490.281,-283.267 479.707,-283.936 488.39,-290.007 490.281,-283.267\"/>\r\n",
       "</g>\r\n",
       "<!-- 9 -->\r\n",
       "<g id=\"node10\" class=\"node\"><title>9</title>\r\n",
       "<polygon fill=\"#eca16b\" stroke=\"black\" points=\"896.5,-306 765.5,-306 765.5,-223 896.5,-223 896.5,-306\"/>\r\n",
       "<text text-anchor=\"middle\" x=\"831\" y=\"-290.8\" font-family=\"Times New Roman,serif\" font-size=\"14.00\">pdays &lt;= 8.5</text>\r\n",
       "<text text-anchor=\"middle\" x=\"831\" y=\"-275.8\" font-family=\"Times New Roman,serif\" font-size=\"14.00\">gini = 0.321</text>\r\n",
       "<text text-anchor=\"middle\" x=\"831\" y=\"-260.8\" font-family=\"Times New Roman,serif\" font-size=\"14.00\">samples = 7711</text>\r\n",
       "<text text-anchor=\"middle\" x=\"831\" y=\"-245.8\" font-family=\"Times New Roman,serif\" font-size=\"14.00\">value = [6160, 1551]</text>\r\n",
       "<text text-anchor=\"middle\" x=\"831\" y=\"-230.8\" font-family=\"Times New Roman,serif\" font-size=\"14.00\">class = no</text>\r\n",
       "</g>\r\n",
       "<!-- 1&#45;&gt;9 -->\r\n",
       "<g id=\"edge9\" class=\"edge\"><title>1&#45;&gt;9</title>\r\n",
       "<path fill=\"none\" stroke=\"black\" d=\"M831,-341.907C831,-333.649 831,-324.864 831,-316.302\"/>\r\n",
       "<polygon fill=\"black\" stroke=\"black\" points=\"834.5,-316.021 831,-306.021 827.5,-316.021 834.5,-316.021\"/>\r\n",
       "</g>\r\n",
       "<!-- 3 -->\r\n",
       "<g id=\"node4\" class=\"node\"><title>3</title>\r\n",
       "<polygon fill=\"#e6843d\" stroke=\"black\" points=\"261.5,-187 136.5,-187 136.5,-104 261.5,-104 261.5,-187\"/>\r\n",
       "<text text-anchor=\"middle\" x=\"199\" y=\"-171.8\" font-family=\"Times New Roman,serif\" font-size=\"14.00\">duration &lt;= 77.5</text>\r\n",
       "<text text-anchor=\"middle\" x=\"199\" y=\"-156.8\" font-family=\"Times New Roman,serif\" font-size=\"14.00\">gini = 0.042</text>\r\n",
       "<text text-anchor=\"middle\" x=\"199\" y=\"-141.8\" font-family=\"Times New Roman,serif\" font-size=\"14.00\">samples = 7700</text>\r\n",
       "<text text-anchor=\"middle\" x=\"199\" y=\"-126.8\" font-family=\"Times New Roman,serif\" font-size=\"14.00\">value = [7536, 164]</text>\r\n",
       "<text text-anchor=\"middle\" x=\"199\" y=\"-111.8\" font-family=\"Times New Roman,serif\" font-size=\"14.00\">class = no</text>\r\n",
       "</g>\r\n",
       "<!-- 2&#45;&gt;3 -->\r\n",
       "<g id=\"edge3\" class=\"edge\"><title>2&#45;&gt;3</title>\r\n",
       "<path fill=\"none\" stroke=\"black\" d=\"M348.325,-227.76C323.798,-214.413 295.83,-199.194 270.782,-185.563\"/>\r\n",
       "<polygon fill=\"black\" stroke=\"black\" points=\"272.154,-182.325 261.697,-180.619 268.808,-188.473 272.154,-182.325\"/>\r\n",
       "</g>\r\n",
       "<!-- 6 -->\r\n",
       "<g id=\"node7\" class=\"node\"><title>6</title>\r\n",
       "<polygon fill=\"#e88f4e\" stroke=\"black\" points=\"476.5,-187 351.5,-187 351.5,-104 476.5,-104 476.5,-187\"/>\r\n",
       "<text text-anchor=\"middle\" x=\"414\" y=\"-171.8\" font-family=\"Times New Roman,serif\" font-size=\"14.00\">pdays &lt;= 42.0</text>\r\n",
       "<text text-anchor=\"middle\" x=\"414\" y=\"-156.8\" font-family=\"Times New Roman,serif\" font-size=\"14.00\">gini = 0.176</text>\r\n",
       "<text text-anchor=\"middle\" x=\"414\" y=\"-141.8\" font-family=\"Times New Roman,serif\" font-size=\"14.00\">samples = 4834</text>\r\n",
       "<text text-anchor=\"middle\" x=\"414\" y=\"-126.8\" font-family=\"Times New Roman,serif\" font-size=\"14.00\">value = [4364, 470]</text>\r\n",
       "<text text-anchor=\"middle\" x=\"414\" y=\"-111.8\" font-family=\"Times New Roman,serif\" font-size=\"14.00\">class = no</text>\r\n",
       "</g>\r\n",
       "<!-- 2&#45;&gt;6 -->\r\n",
       "<g id=\"edge6\" class=\"edge\"><title>2&#45;&gt;6</title>\r\n",
       "<path fill=\"none\" stroke=\"black\" d=\"M414,-222.907C414,-214.649 414,-205.864 414,-197.302\"/>\r\n",
       "<polygon fill=\"black\" stroke=\"black\" points=\"417.5,-197.021 414,-187.021 410.5,-197.021 417.5,-197.021\"/>\r\n",
       "</g>\r\n",
       "<!-- 4 -->\r\n",
       "<g id=\"node5\" class=\"node\"><title>4</title>\r\n",
       "<polygon fill=\"#e5823a\" stroke=\"black\" points=\"118,-68 0,-68 0,-0 118,-0 118,-68\"/>\r\n",
       "<text text-anchor=\"middle\" x=\"59\" y=\"-52.8\" font-family=\"Times New Roman,serif\" font-size=\"14.00\">gini = 0.009</text>\r\n",
       "<text text-anchor=\"middle\" x=\"59\" y=\"-37.8\" font-family=\"Times New Roman,serif\" font-size=\"14.00\">samples = 3454</text>\r\n",
       "<text text-anchor=\"middle\" x=\"59\" y=\"-22.8\" font-family=\"Times New Roman,serif\" font-size=\"14.00\">value = [3439, 15]</text>\r\n",
       "<text text-anchor=\"middle\" x=\"59\" y=\"-7.8\" font-family=\"Times New Roman,serif\" font-size=\"14.00\">class = no</text>\r\n",
       "</g>\r\n",
       "<!-- 3&#45;&gt;4 -->\r\n",
       "<g id=\"edge4\" class=\"edge\"><title>3&#45;&gt;4</title>\r\n",
       "<path fill=\"none\" stroke=\"black\" d=\"M146.869,-103.726C134.741,-94.2406 121.847,-84.1551 109.778,-74.7159\"/>\r\n",
       "<polygon fill=\"black\" stroke=\"black\" points=\"111.608,-71.7035 101.575,-68.2996 107.295,-77.2173 111.608,-71.7035\"/>\r\n",
       "</g>\r\n",
       "<!-- 5 -->\r\n",
       "<g id=\"node6\" class=\"node\"><title>5</title>\r\n",
       "<polygon fill=\"#e68640\" stroke=\"black\" points=\"261.5,-68 136.5,-68 136.5,-0 261.5,-0 261.5,-68\"/>\r\n",
       "<text text-anchor=\"middle\" x=\"199\" y=\"-52.8\" font-family=\"Times New Roman,serif\" font-size=\"14.00\">gini = 0.068</text>\r\n",
       "<text text-anchor=\"middle\" x=\"199\" y=\"-37.8\" font-family=\"Times New Roman,serif\" font-size=\"14.00\">samples = 4246</text>\r\n",
       "<text text-anchor=\"middle\" x=\"199\" y=\"-22.8\" font-family=\"Times New Roman,serif\" font-size=\"14.00\">value = [4097, 149]</text>\r\n",
       "<text text-anchor=\"middle\" x=\"199\" y=\"-7.8\" font-family=\"Times New Roman,serif\" font-size=\"14.00\">class = no</text>\r\n",
       "</g>\r\n",
       "<!-- 3&#45;&gt;5 -->\r\n",
       "<g id=\"edge5\" class=\"edge\"><title>3&#45;&gt;5</title>\r\n",
       "<path fill=\"none\" stroke=\"black\" d=\"M199,-103.726C199,-95.5175 199,-86.8595 199,-78.56\"/>\r\n",
       "<polygon fill=\"black\" stroke=\"black\" points=\"202.5,-78.2996 199,-68.2996 195.5,-78.2996 202.5,-78.2996\"/>\r\n",
       "</g>\r\n",
       "<!-- 7 -->\r\n",
       "<g id=\"node8\" class=\"node\"><title>7</title>\r\n",
       "<polygon fill=\"#e78a47\" stroke=\"black\" points=\"404.5,-68 279.5,-68 279.5,-0 404.5,-0 404.5,-68\"/>\r\n",
       "<text text-anchor=\"middle\" x=\"342\" y=\"-52.8\" font-family=\"Times New Roman,serif\" font-size=\"14.00\">gini = 0.124</text>\r\n",
       "<text text-anchor=\"middle\" x=\"342\" y=\"-37.8\" font-family=\"Times New Roman,serif\" font-size=\"14.00\">samples = 3588</text>\r\n",
       "<text text-anchor=\"middle\" x=\"342\" y=\"-22.8\" font-family=\"Times New Roman,serif\" font-size=\"14.00\">value = [3349, 239]</text>\r\n",
       "<text text-anchor=\"middle\" x=\"342\" y=\"-7.8\" font-family=\"Times New Roman,serif\" font-size=\"14.00\">class = no</text>\r\n",
       "</g>\r\n",
       "<!-- 6&#45;&gt;7 -->\r\n",
       "<g id=\"edge7\" class=\"edge\"><title>6&#45;&gt;7</title>\r\n",
       "<path fill=\"none\" stroke=\"black\" d=\"M387.19,-103.726C381.432,-94.9703 375.339,-85.7032 369.554,-76.9051\"/>\r\n",
       "<polygon fill=\"black\" stroke=\"black\" points=\"372.314,-74.7322 363.896,-68.2996 366.465,-78.5781 372.314,-74.7322\"/>\r\n",
       "</g>\r\n",
       "<!-- 8 -->\r\n",
       "<g id=\"node9\" class=\"node\"><title>8</title>\r\n",
       "<polygon fill=\"#eb9e66\" stroke=\"black\" points=\"547.5,-68 422.5,-68 422.5,-0 547.5,-0 547.5,-68\"/>\r\n",
       "<text text-anchor=\"middle\" x=\"485\" y=\"-52.8\" font-family=\"Times New Roman,serif\" font-size=\"14.00\">gini = 0.302</text>\r\n",
       "<text text-anchor=\"middle\" x=\"485\" y=\"-37.8\" font-family=\"Times New Roman,serif\" font-size=\"14.00\">samples = 1246</text>\r\n",
       "<text text-anchor=\"middle\" x=\"485\" y=\"-22.8\" font-family=\"Times New Roman,serif\" font-size=\"14.00\">value = [1015, 231]</text>\r\n",
       "<text text-anchor=\"middle\" x=\"485\" y=\"-7.8\" font-family=\"Times New Roman,serif\" font-size=\"14.00\">class = no</text>\r\n",
       "</g>\r\n",
       "<!-- 6&#45;&gt;8 -->\r\n",
       "<g id=\"edge8\" class=\"edge\"><title>6&#45;&gt;8</title>\r\n",
       "<path fill=\"none\" stroke=\"black\" d=\"M440.438,-103.726C446.115,-94.9703 452.124,-85.7032 457.829,-76.9051\"/>\r\n",
       "<polygon fill=\"black\" stroke=\"black\" points=\"460.905,-78.5943 463.408,-68.2996 455.031,-74.786 460.905,-78.5943\"/>\r\n",
       "</g>\r\n",
       "<!-- 10 -->\r\n",
       "<g id=\"node11\" class=\"node\"><title>10</title>\r\n",
       "<polygon fill=\"#ea975c\" stroke=\"black\" points=\"821.5,-187 696.5,-187 696.5,-104 821.5,-104 821.5,-187\"/>\r\n",
       "<text text-anchor=\"middle\" x=\"759\" y=\"-171.8\" font-family=\"Times New Roman,serif\" font-size=\"14.00\">age &lt;= 60.5</text>\r\n",
       "<text text-anchor=\"middle\" x=\"759\" y=\"-156.8\" font-family=\"Times New Roman,serif\" font-size=\"14.00\">gini = 0.254</text>\r\n",
       "<text text-anchor=\"middle\" x=\"759\" y=\"-141.8\" font-family=\"Times New Roman,serif\" font-size=\"14.00\">samples = 5575</text>\r\n",
       "<text text-anchor=\"middle\" x=\"759\" y=\"-126.8\" font-family=\"Times New Roman,serif\" font-size=\"14.00\">value = [4741, 834]</text>\r\n",
       "<text text-anchor=\"middle\" x=\"759\" y=\"-111.8\" font-family=\"Times New Roman,serif\" font-size=\"14.00\">class = no</text>\r\n",
       "</g>\r\n",
       "<!-- 9&#45;&gt;10 -->\r\n",
       "<g id=\"edge10\" class=\"edge\"><title>9&#45;&gt;10</title>\r\n",
       "<path fill=\"none\" stroke=\"black\" d=\"M806.02,-222.907C800.603,-214.105 794.817,-204.703 789.223,-195.612\"/>\r\n",
       "<polygon fill=\"black\" stroke=\"black\" points=\"792.158,-193.703 783.936,-187.021 786.196,-197.372 792.158,-193.703\"/>\r\n",
       "</g>\r\n",
       "<!-- 13 -->\r\n",
       "<g id=\"node14\" class=\"node\"><title>13</title>\r\n",
       "<polygon fill=\"#f2c19d\" stroke=\"black\" points=\"964.5,-187 839.5,-187 839.5,-104 964.5,-104 964.5,-187\"/>\r\n",
       "<text text-anchor=\"middle\" x=\"902\" y=\"-171.8\" font-family=\"Times New Roman,serif\" font-size=\"14.00\">pdays &lt;= 195.5</text>\r\n",
       "<text text-anchor=\"middle\" x=\"902\" y=\"-156.8\" font-family=\"Times New Roman,serif\" font-size=\"14.00\">gini = 0.446</text>\r\n",
       "<text text-anchor=\"middle\" x=\"902\" y=\"-141.8\" font-family=\"Times New Roman,serif\" font-size=\"14.00\">samples = 2136</text>\r\n",
       "<text text-anchor=\"middle\" x=\"902\" y=\"-126.8\" font-family=\"Times New Roman,serif\" font-size=\"14.00\">value = [1419, 717]</text>\r\n",
       "<text text-anchor=\"middle\" x=\"902\" y=\"-111.8\" font-family=\"Times New Roman,serif\" font-size=\"14.00\">class = no</text>\r\n",
       "</g>\r\n",
       "<!-- 9&#45;&gt;13 -->\r\n",
       "<g id=\"edge13\" class=\"edge\"><title>9&#45;&gt;13</title>\r\n",
       "<path fill=\"none\" stroke=\"black\" d=\"M855.633,-222.907C860.975,-214.105 866.68,-204.703 872.197,-195.612\"/>\r\n",
       "<polygon fill=\"black\" stroke=\"black\" points=\"875.215,-197.386 877.41,-187.021 869.23,-193.754 875.215,-197.386\"/>\r\n",
       "</g>\r\n",
       "<!-- 11 -->\r\n",
       "<g id=\"node12\" class=\"node\"><title>11</title>\r\n",
       "<polygon fill=\"#e99458\" stroke=\"black\" points=\"690.5,-68 565.5,-68 565.5,-0 690.5,-0 690.5,-68\"/>\r\n",
       "<text text-anchor=\"middle\" x=\"628\" y=\"-52.8\" font-family=\"Times New Roman,serif\" font-size=\"14.00\">gini = 0.232</text>\r\n",
       "<text text-anchor=\"middle\" x=\"628\" y=\"-37.8\" font-family=\"Times New Roman,serif\" font-size=\"14.00\">samples = 5358</text>\r\n",
       "<text text-anchor=\"middle\" x=\"628\" y=\"-22.8\" font-family=\"Times New Roman,serif\" font-size=\"14.00\">value = [4642, 716]</text>\r\n",
       "<text text-anchor=\"middle\" x=\"628\" y=\"-7.8\" font-family=\"Times New Roman,serif\" font-size=\"14.00\">class = no</text>\r\n",
       "</g>\r\n",
       "<!-- 10&#45;&gt;11 -->\r\n",
       "<g id=\"edge11\" class=\"edge\"><title>10&#45;&gt;11</title>\r\n",
       "<path fill=\"none\" stroke=\"black\" d=\"M710.22,-103.726C698.872,-94.2406 686.807,-84.1551 675.514,-74.7159\"/>\r\n",
       "<polygon fill=\"black\" stroke=\"black\" points=\"677.755,-72.0276 667.838,-68.2996 673.266,-77.3984 677.755,-72.0276\"/>\r\n",
       "</g>\r\n",
       "<!-- 12 -->\r\n",
       "<g id=\"node13\" class=\"node\"><title>12</title>\r\n",
       "<polygon fill=\"#dfeffb\" stroke=\"black\" points=\"819.5,-68 708.5,-68 708.5,-0 819.5,-0 819.5,-68\"/>\r\n",
       "<text text-anchor=\"middle\" x=\"764\" y=\"-52.8\" font-family=\"Times New Roman,serif\" font-size=\"14.00\">gini = 0.496</text>\r\n",
       "<text text-anchor=\"middle\" x=\"764\" y=\"-37.8\" font-family=\"Times New Roman,serif\" font-size=\"14.00\">samples = 217</text>\r\n",
       "<text text-anchor=\"middle\" x=\"764\" y=\"-22.8\" font-family=\"Times New Roman,serif\" font-size=\"14.00\">value = [99, 118]</text>\r\n",
       "<text text-anchor=\"middle\" x=\"764\" y=\"-7.8\" font-family=\"Times New Roman,serif\" font-size=\"14.00\">class = yes</text>\r\n",
       "</g>\r\n",
       "<!-- 10&#45;&gt;12 -->\r\n",
       "<g id=\"edge12\" class=\"edge\"><title>10&#45;&gt;12</title>\r\n",
       "<path fill=\"none\" stroke=\"black\" d=\"M760.862,-103.726C761.237,-95.5175 761.632,-86.8595 762.011,-78.56\"/>\r\n",
       "<polygon fill=\"black\" stroke=\"black\" points=\"765.52,-78.4489 762.479,-68.2996 758.527,-78.1295 765.52,-78.4489\"/>\r\n",
       "</g>\r\n",
       "<!-- 14 -->\r\n",
       "<g id=\"node15\" class=\"node\"><title>14</title>\r\n",
       "<polygon fill=\"#fcf0e7\" stroke=\"black\" points=\"956,-68 838,-68 838,-0 956,-0 956,-68\"/>\r\n",
       "<text text-anchor=\"middle\" x=\"897\" y=\"-52.8\" font-family=\"Times New Roman,serif\" font-size=\"14.00\">gini = 0.498</text>\r\n",
       "<text text-anchor=\"middle\" x=\"897\" y=\"-37.8\" font-family=\"Times New Roman,serif\" font-size=\"14.00\">samples = 1085</text>\r\n",
       "<text text-anchor=\"middle\" x=\"897\" y=\"-22.8\" font-family=\"Times New Roman,serif\" font-size=\"14.00\">value = [578, 507]</text>\r\n",
       "<text text-anchor=\"middle\" x=\"897\" y=\"-7.8\" font-family=\"Times New Roman,serif\" font-size=\"14.00\">class = no</text>\r\n",
       "</g>\r\n",
       "<!-- 13&#45;&gt;14 -->\r\n",
       "<g id=\"edge14\" class=\"edge\"><title>13&#45;&gt;14</title>\r\n",
       "<path fill=\"none\" stroke=\"black\" d=\"M900.138,-103.726C899.763,-95.5175 899.368,-86.8595 898.989,-78.56\"/>\r\n",
       "<polygon fill=\"black\" stroke=\"black\" points=\"902.473,-78.1295 898.521,-68.2996 895.48,-78.4489 902.473,-78.1295\"/>\r\n",
       "</g>\r\n",
       "<!-- 15 -->\r\n",
       "<g id=\"node16\" class=\"node\"><title>15</title>\r\n",
       "<polygon fill=\"#eba06a\" stroke=\"black\" points=\"1092,-68 974,-68 974,-0 1092,-0 1092,-68\"/>\r\n",
       "<text text-anchor=\"middle\" x=\"1033\" y=\"-52.8\" font-family=\"Times New Roman,serif\" font-size=\"14.00\">gini = 0.32</text>\r\n",
       "<text text-anchor=\"middle\" x=\"1033\" y=\"-37.8\" font-family=\"Times New Roman,serif\" font-size=\"14.00\">samples = 1051</text>\r\n",
       "<text text-anchor=\"middle\" x=\"1033\" y=\"-22.8\" font-family=\"Times New Roman,serif\" font-size=\"14.00\">value = [841, 210]</text>\r\n",
       "<text text-anchor=\"middle\" x=\"1033\" y=\"-7.8\" font-family=\"Times New Roman,serif\" font-size=\"14.00\">class = no</text>\r\n",
       "</g>\r\n",
       "<!-- 13&#45;&gt;15 -->\r\n",
       "<g id=\"edge15\" class=\"edge\"><title>13&#45;&gt;15</title>\r\n",
       "<path fill=\"none\" stroke=\"black\" d=\"M950.78,-103.726C962.128,-94.2406 974.193,-84.1551 985.486,-74.7159\"/>\r\n",
       "<polygon fill=\"black\" stroke=\"black\" points=\"987.734,-77.3984 993.162,-68.2996 983.245,-72.0276 987.734,-77.3984\"/>\r\n",
       "</g>\r\n",
       "<!-- 17 -->\r\n",
       "<g id=\"node18\" class=\"node\"><title>17</title>\r\n",
       "<polygon fill=\"#f8ddca\" stroke=\"black\" points=\"1418,-306 1300,-306 1300,-223 1418,-223 1418,-306\"/>\r\n",
       "<text text-anchor=\"middle\" x=\"1359\" y=\"-290.8\" font-family=\"Times New Roman,serif\" font-size=\"14.00\">pdays &lt;= 2.5</text>\r\n",
       "<text text-anchor=\"middle\" x=\"1359\" y=\"-275.8\" font-family=\"Times New Roman,serif\" font-size=\"14.00\">gini = 0.488</text>\r\n",
       "<text text-anchor=\"middle\" x=\"1359\" y=\"-260.8\" font-family=\"Times New Roman,serif\" font-size=\"14.00\">samples = 1316</text>\r\n",
       "<text text-anchor=\"middle\" x=\"1359\" y=\"-245.8\" font-family=\"Times New Roman,serif\" font-size=\"14.00\">value = [759, 557]</text>\r\n",
       "<text text-anchor=\"middle\" x=\"1359\" y=\"-230.8\" font-family=\"Times New Roman,serif\" font-size=\"14.00\">class = no</text>\r\n",
       "</g>\r\n",
       "<!-- 16&#45;&gt;17 -->\r\n",
       "<g id=\"edge17\" class=\"edge\"><title>16&#45;&gt;17</title>\r\n",
       "<path fill=\"none\" stroke=\"black\" d=\"M1359,-341.907C1359,-333.649 1359,-324.864 1359,-316.302\"/>\r\n",
       "<polygon fill=\"black\" stroke=\"black\" points=\"1362.5,-316.021 1359,-306.021 1355.5,-316.021 1362.5,-316.021\"/>\r\n",
       "</g>\r\n",
       "<!-- 24 -->\r\n",
       "<g id=\"node25\" class=\"node\"><title>24</title>\r\n",
       "<polygon fill=\"#baddf6\" stroke=\"black\" points=\"1805,-306 1687,-306 1687,-223 1805,-223 1805,-306\"/>\r\n",
       "<text text-anchor=\"middle\" x=\"1746\" y=\"-290.8\" font-family=\"Times New Roman,serif\" font-size=\"14.00\">duration &lt;= 937.5</text>\r\n",
       "<text text-anchor=\"middle\" x=\"1746\" y=\"-275.8\" font-family=\"Times New Roman,serif\" font-size=\"14.00\">gini = 0.478</text>\r\n",
       "<text text-anchor=\"middle\" x=\"1746\" y=\"-260.8\" font-family=\"Times New Roman,serif\" font-size=\"14.00\">samples = 972</text>\r\n",
       "<text text-anchor=\"middle\" x=\"1746\" y=\"-245.8\" font-family=\"Times New Roman,serif\" font-size=\"14.00\">value = [384, 588]</text>\r\n",
       "<text text-anchor=\"middle\" x=\"1746\" y=\"-230.8\" font-family=\"Times New Roman,serif\" font-size=\"14.00\">class = yes</text>\r\n",
       "</g>\r\n",
       "<!-- 16&#45;&gt;24 -->\r\n",
       "<g id=\"edge24\" class=\"edge\"><title>16&#45;&gt;24</title>\r\n",
       "<path fill=\"none\" stroke=\"black\" d=\"M1424.65,-362.653C1494.78,-341.45 1605.47,-307.987 1676.89,-286.392\"/>\r\n",
       "<polygon fill=\"black\" stroke=\"black\" points=\"1678.15,-289.671 1686.7,-283.427 1676.12,-282.97 1678.15,-289.671\"/>\r\n",
       "</g>\r\n",
       "<!-- 18 -->\r\n",
       "<g id=\"node19\" class=\"node\"><title>18</title>\r\n",
       "<polygon fill=\"#f6d1b7\" stroke=\"black\" points=\"1350,-187 1232,-187 1232,-104 1350,-104 1350,-187\"/>\r\n",
       "<text text-anchor=\"middle\" x=\"1291\" y=\"-171.8\" font-family=\"Times New Roman,serif\" font-size=\"14.00\">age &lt;= 60.5</text>\r\n",
       "<text text-anchor=\"middle\" x=\"1291\" y=\"-156.8\" font-family=\"Times New Roman,serif\" font-size=\"14.00\">gini = 0.475</text>\r\n",
       "<text text-anchor=\"middle\" x=\"1291\" y=\"-141.8\" font-family=\"Times New Roman,serif\" font-size=\"14.00\">samples = 1003</text>\r\n",
       "<text text-anchor=\"middle\" x=\"1291\" y=\"-126.8\" font-family=\"Times New Roman,serif\" font-size=\"14.00\">value = [613, 390]</text>\r\n",
       "<text text-anchor=\"middle\" x=\"1291\" y=\"-111.8\" font-family=\"Times New Roman,serif\" font-size=\"14.00\">class = no</text>\r\n",
       "</g>\r\n",
       "<!-- 17&#45;&gt;18 -->\r\n",
       "<g id=\"edge18\" class=\"edge\"><title>17&#45;&gt;18</title>\r\n",
       "<path fill=\"none\" stroke=\"black\" d=\"M1335.41,-222.907C1330.34,-214.195 1324.94,-204.897 1319.71,-195.893\"/>\r\n",
       "<polygon fill=\"black\" stroke=\"black\" points=\"1322.6,-193.908 1314.55,-187.021 1316.55,-197.425 1322.6,-193.908\"/>\r\n",
       "</g>\r\n",
       "<!-- 21 -->\r\n",
       "<g id=\"node22\" class=\"node\"><title>21</title>\r\n",
       "<polygon fill=\"#e6f3fc\" stroke=\"black\" points=\"1486,-187 1368,-187 1368,-104 1486,-104 1486,-187\"/>\r\n",
       "<text text-anchor=\"middle\" x=\"1427\" y=\"-171.8\" font-family=\"Times New Roman,serif\" font-size=\"14.00\">pdays &lt;= 111.0</text>\r\n",
       "<text text-anchor=\"middle\" x=\"1427\" y=\"-156.8\" font-family=\"Times New Roman,serif\" font-size=\"14.00\">gini = 0.498</text>\r\n",
       "<text text-anchor=\"middle\" x=\"1427\" y=\"-141.8\" font-family=\"Times New Roman,serif\" font-size=\"14.00\">samples = 313</text>\r\n",
       "<text text-anchor=\"middle\" x=\"1427\" y=\"-126.8\" font-family=\"Times New Roman,serif\" font-size=\"14.00\">value = [146, 167]</text>\r\n",
       "<text text-anchor=\"middle\" x=\"1427\" y=\"-111.8\" font-family=\"Times New Roman,serif\" font-size=\"14.00\">class = yes</text>\r\n",
       "</g>\r\n",
       "<!-- 17&#45;&gt;21 -->\r\n",
       "<g id=\"edge21\" class=\"edge\"><title>17&#45;&gt;21</title>\r\n",
       "<path fill=\"none\" stroke=\"black\" d=\"M1382.59,-222.907C1387.66,-214.195 1393.06,-204.897 1398.29,-195.893\"/>\r\n",
       "<polygon fill=\"black\" stroke=\"black\" points=\"1401.45,-197.425 1403.45,-187.021 1395.4,-193.908 1401.45,-197.425\"/>\r\n",
       "</g>\r\n",
       "<!-- 19 -->\r\n",
       "<g id=\"node20\" class=\"node\"><title>19</title>\r\n",
       "<polygon fill=\"#f5ceb2\" stroke=\"black\" points=\"1228,-68 1110,-68 1110,-0 1228,-0 1228,-68\"/>\r\n",
       "<text text-anchor=\"middle\" x=\"1169\" y=\"-52.8\" font-family=\"Times New Roman,serif\" font-size=\"14.00\">gini = 0.471</text>\r\n",
       "<text text-anchor=\"middle\" x=\"1169\" y=\"-37.8\" font-family=\"Times New Roman,serif\" font-size=\"14.00\">samples = 971</text>\r\n",
       "<text text-anchor=\"middle\" x=\"1169\" y=\"-22.8\" font-family=\"Times New Roman,serif\" font-size=\"14.00\">value = [603, 368]</text>\r\n",
       "<text text-anchor=\"middle\" x=\"1169\" y=\"-7.8\" font-family=\"Times New Roman,serif\" font-size=\"14.00\">class = no</text>\r\n",
       "</g>\r\n",
       "<!-- 18&#45;&gt;19 -->\r\n",
       "<g id=\"edge19\" class=\"edge\"><title>18&#45;&gt;19</title>\r\n",
       "<path fill=\"none\" stroke=\"black\" d=\"M1245.57,-103.726C1235.1,-94.3318 1223.98,-84.349 1213.55,-74.9883\"/>\r\n",
       "<polygon fill=\"black\" stroke=\"black\" points=\"1215.88,-72.3744 1206.1,-68.2996 1211.21,-77.5839 1215.88,-72.3744\"/>\r\n",
       "</g>\r\n",
       "<!-- 20 -->\r\n",
       "<g id=\"node21\" class=\"node\"><title>20</title>\r\n",
       "<polygon fill=\"#93caf1\" stroke=\"black\" points=\"1350,-68 1246,-68 1246,-0 1350,-0 1350,-68\"/>\r\n",
       "<text text-anchor=\"middle\" x=\"1298\" y=\"-52.8\" font-family=\"Times New Roman,serif\" font-size=\"14.00\">gini = 0.43</text>\r\n",
       "<text text-anchor=\"middle\" x=\"1298\" y=\"-37.8\" font-family=\"Times New Roman,serif\" font-size=\"14.00\">samples = 32</text>\r\n",
       "<text text-anchor=\"middle\" x=\"1298\" y=\"-22.8\" font-family=\"Times New Roman,serif\" font-size=\"14.00\">value = [10, 22]</text>\r\n",
       "<text text-anchor=\"middle\" x=\"1298\" y=\"-7.8\" font-family=\"Times New Roman,serif\" font-size=\"14.00\">class = yes</text>\r\n",
       "</g>\r\n",
       "<!-- 18&#45;&gt;20 -->\r\n",
       "<g id=\"edge20\" class=\"edge\"><title>18&#45;&gt;20</title>\r\n",
       "<path fill=\"none\" stroke=\"black\" d=\"M1293.61,-103.726C1294.14,-95.4263 1294.7,-86.6671 1295.23,-78.2834\"/>\r\n",
       "<polygon fill=\"black\" stroke=\"black\" points=\"1298.73,-78.5025 1295.87,-68.2996 1291.74,-78.0559 1298.73,-78.5025\"/>\r\n",
       "</g>\r\n",
       "<!-- 22 -->\r\n",
       "<g id=\"node23\" class=\"node\"><title>22</title>\r\n",
       "<polygon fill=\"#74baed\" stroke=\"black\" points=\"1472,-68 1368,-68 1368,-0 1472,-0 1472,-68\"/>\r\n",
       "<text text-anchor=\"middle\" x=\"1420\" y=\"-52.8\" font-family=\"Times New Roman,serif\" font-size=\"14.00\">gini = 0.354</text>\r\n",
       "<text text-anchor=\"middle\" x=\"1420\" y=\"-37.8\" font-family=\"Times New Roman,serif\" font-size=\"14.00\">samples = 61</text>\r\n",
       "<text text-anchor=\"middle\" x=\"1420\" y=\"-22.8\" font-family=\"Times New Roman,serif\" font-size=\"14.00\">value = [14, 47]</text>\r\n",
       "<text text-anchor=\"middle\" x=\"1420\" y=\"-7.8\" font-family=\"Times New Roman,serif\" font-size=\"14.00\">class = yes</text>\r\n",
       "</g>\r\n",
       "<!-- 21&#45;&gt;22 -->\r\n",
       "<g id=\"edge22\" class=\"edge\"><title>21&#45;&gt;22</title>\r\n",
       "<path fill=\"none\" stroke=\"black\" d=\"M1424.39,-103.726C1423.86,-95.4263 1423.3,-86.6671 1422.77,-78.2834\"/>\r\n",
       "<polygon fill=\"black\" stroke=\"black\" points=\"1426.26,-78.0559 1422.13,-68.2996 1419.27,-78.5025 1426.26,-78.0559\"/>\r\n",
       "</g>\r\n",
       "<!-- 23 -->\r\n",
       "<g id=\"node24\" class=\"node\"><title>23</title>\r\n",
       "<polygon fill=\"#fdf4ed\" stroke=\"black\" points=\"1608,-68 1490,-68 1490,-0 1608,-0 1608,-68\"/>\r\n",
       "<text text-anchor=\"middle\" x=\"1549\" y=\"-52.8\" font-family=\"Times New Roman,serif\" font-size=\"14.00\">gini = 0.499</text>\r\n",
       "<text text-anchor=\"middle\" x=\"1549\" y=\"-37.8\" font-family=\"Times New Roman,serif\" font-size=\"14.00\">samples = 252</text>\r\n",
       "<text text-anchor=\"middle\" x=\"1549\" y=\"-22.8\" font-family=\"Times New Roman,serif\" font-size=\"14.00\">value = [132, 120]</text>\r\n",
       "<text text-anchor=\"middle\" x=\"1549\" y=\"-7.8\" font-family=\"Times New Roman,serif\" font-size=\"14.00\">class = no</text>\r\n",
       "</g>\r\n",
       "<!-- 21&#45;&gt;23 -->\r\n",
       "<g id=\"edge23\" class=\"edge\"><title>21&#45;&gt;23</title>\r\n",
       "<path fill=\"none\" stroke=\"black\" d=\"M1472.43,-103.726C1482.9,-94.3318 1494.02,-84.349 1504.45,-74.9883\"/>\r\n",
       "<polygon fill=\"black\" stroke=\"black\" points=\"1506.79,-77.5839 1511.9,-68.2996 1502.12,-72.3744 1506.79,-77.5839\"/>\r\n",
       "</g>\r\n",
       "<!-- 25 -->\r\n",
       "<g id=\"node26\" class=\"node\"><title>25</title>\r\n",
       "<polygon fill=\"#dbedfa\" stroke=\"black\" points=\"1805,-187 1687,-187 1687,-104 1805,-104 1805,-187\"/>\r\n",
       "<text text-anchor=\"middle\" x=\"1746\" y=\"-171.8\" font-family=\"Times New Roman,serif\" font-size=\"14.00\">duration &lt;= 904.5</text>\r\n",
       "<text text-anchor=\"middle\" x=\"1746\" y=\"-156.8\" font-family=\"Times New Roman,serif\" font-size=\"14.00\">gini = 0.495</text>\r\n",
       "<text text-anchor=\"middle\" x=\"1746\" y=\"-141.8\" font-family=\"Times New Roman,serif\" font-size=\"14.00\">samples = 327</text>\r\n",
       "<text text-anchor=\"middle\" x=\"1746\" y=\"-126.8\" font-family=\"Times New Roman,serif\" font-size=\"14.00\">value = [147, 180]</text>\r\n",
       "<text text-anchor=\"middle\" x=\"1746\" y=\"-111.8\" font-family=\"Times New Roman,serif\" font-size=\"14.00\">class = yes</text>\r\n",
       "</g>\r\n",
       "<!-- 24&#45;&gt;25 -->\r\n",
       "<g id=\"edge25\" class=\"edge\"><title>24&#45;&gt;25</title>\r\n",
       "<path fill=\"none\" stroke=\"black\" d=\"M1746,-222.907C1746,-214.649 1746,-205.864 1746,-197.302\"/>\r\n",
       "<polygon fill=\"black\" stroke=\"black\" points=\"1749.5,-197.021 1746,-187.021 1742.5,-197.021 1749.5,-197.021\"/>\r\n",
       "</g>\r\n",
       "<!-- 28 -->\r\n",
       "<g id=\"node29\" class=\"node\"><title>28</title>\r\n",
       "<polygon fill=\"#acd6f4\" stroke=\"black\" points=\"2002,-187 1884,-187 1884,-104 2002,-104 2002,-187\"/>\r\n",
       "<text text-anchor=\"middle\" x=\"1943\" y=\"-171.8\" font-family=\"Times New Roman,serif\" font-size=\"14.00\">loan_G &lt;= 0.5</text>\r\n",
       "<text text-anchor=\"middle\" x=\"1943\" y=\"-156.8\" font-family=\"Times New Roman,serif\" font-size=\"14.00\">gini = 0.465</text>\r\n",
       "<text text-anchor=\"middle\" x=\"1943\" y=\"-141.8\" font-family=\"Times New Roman,serif\" font-size=\"14.00\">samples = 645</text>\r\n",
       "<text text-anchor=\"middle\" x=\"1943\" y=\"-126.8\" font-family=\"Times New Roman,serif\" font-size=\"14.00\">value = [237, 408]</text>\r\n",
       "<text text-anchor=\"middle\" x=\"1943\" y=\"-111.8\" font-family=\"Times New Roman,serif\" font-size=\"14.00\">class = yes</text>\r\n",
       "</g>\r\n",
       "<!-- 24&#45;&gt;28 -->\r\n",
       "<g id=\"edge28\" class=\"edge\"><title>24&#45;&gt;28</title>\r\n",
       "<path fill=\"none\" stroke=\"black\" d=\"M1805.11,-228.396C1827.22,-215.265 1852.5,-200.252 1875.32,-186.696\"/>\r\n",
       "<polygon fill=\"black\" stroke=\"black\" points=\"1877.12,-189.695 1883.94,-181.579 1873.55,-183.676 1877.12,-189.695\"/>\r\n",
       "</g>\r\n",
       "<!-- 26 -->\r\n",
       "<g id=\"node27\" class=\"node\"><title>26</title>\r\n",
       "<polygon fill=\"#c9e4f8\" stroke=\"black\" points=\"1744,-68 1626,-68 1626,-0 1744,-0 1744,-68\"/>\r\n",
       "<text text-anchor=\"middle\" x=\"1685\" y=\"-52.8\" font-family=\"Times New Roman,serif\" font-size=\"14.00\">gini = 0.488</text>\r\n",
       "<text text-anchor=\"middle\" x=\"1685\" y=\"-37.8\" font-family=\"Times New Roman,serif\" font-size=\"14.00\">samples = 266</text>\r\n",
       "<text text-anchor=\"middle\" x=\"1685\" y=\"-22.8\" font-family=\"Times New Roman,serif\" font-size=\"14.00\">value = [112, 154]</text>\r\n",
       "<text text-anchor=\"middle\" x=\"1685\" y=\"-7.8\" font-family=\"Times New Roman,serif\" font-size=\"14.00\">class = yes</text>\r\n",
       "</g>\r\n",
       "<!-- 25&#45;&gt;26 -->\r\n",
       "<g id=\"edge26\" class=\"edge\"><title>25&#45;&gt;26</title>\r\n",
       "<path fill=\"none\" stroke=\"black\" d=\"M1723.29,-103.726C1718.46,-95.0615 1713.35,-85.8962 1708.5,-77.1802\"/>\r\n",
       "<polygon fill=\"black\" stroke=\"black\" points=\"1711.47,-75.3322 1703.55,-68.2996 1705.36,-78.7389 1711.47,-75.3322\"/>\r\n",
       "</g>\r\n",
       "<!-- 27 -->\r\n",
       "<g id=\"node28\" class=\"node\"><title>27</title>\r\n",
       "<polygon fill=\"#f8dfcc\" stroke=\"black\" points=\"1866,-68 1762,-68 1762,-0 1866,-0 1866,-68\"/>\r\n",
       "<text text-anchor=\"middle\" x=\"1814\" y=\"-52.8\" font-family=\"Times New Roman,serif\" font-size=\"14.00\">gini = 0.489</text>\r\n",
       "<text text-anchor=\"middle\" x=\"1814\" y=\"-37.8\" font-family=\"Times New Roman,serif\" font-size=\"14.00\">samples = 61</text>\r\n",
       "<text text-anchor=\"middle\" x=\"1814\" y=\"-22.8\" font-family=\"Times New Roman,serif\" font-size=\"14.00\">value = [35, 26]</text>\r\n",
       "<text text-anchor=\"middle\" x=\"1814\" y=\"-7.8\" font-family=\"Times New Roman,serif\" font-size=\"14.00\">class = no</text>\r\n",
       "</g>\r\n",
       "<!-- 25&#45;&gt;27 -->\r\n",
       "<g id=\"edge27\" class=\"edge\"><title>25&#45;&gt;27</title>\r\n",
       "<path fill=\"none\" stroke=\"black\" d=\"M1771.32,-103.726C1776.76,-94.9703 1782.51,-85.7032 1787.98,-76.9051\"/>\r\n",
       "<polygon fill=\"black\" stroke=\"black\" points=\"1791.02,-78.6413 1793.32,-68.2996 1785.07,-74.9484 1791.02,-78.6413\"/>\r\n",
       "</g>\r\n",
       "<!-- 29 -->\r\n",
       "<g id=\"node30\" class=\"node\"><title>29</title>\r\n",
       "<polygon fill=\"#b6dbf5\" stroke=\"black\" points=\"2002,-68 1884,-68 1884,-0 2002,-0 2002,-68\"/>\r\n",
       "<text text-anchor=\"middle\" x=\"1943\" y=\"-52.8\" font-family=\"Times New Roman,serif\" font-size=\"14.00\">gini = 0.474</text>\r\n",
       "<text text-anchor=\"middle\" x=\"1943\" y=\"-37.8\" font-family=\"Times New Roman,serif\" font-size=\"14.00\">samples = 543</text>\r\n",
       "<text text-anchor=\"middle\" x=\"1943\" y=\"-22.8\" font-family=\"Times New Roman,serif\" font-size=\"14.00\">value = [210, 333]</text>\r\n",
       "<text text-anchor=\"middle\" x=\"1943\" y=\"-7.8\" font-family=\"Times New Roman,serif\" font-size=\"14.00\">class = yes</text>\r\n",
       "</g>\r\n",
       "<!-- 28&#45;&gt;29 -->\r\n",
       "<g id=\"edge29\" class=\"edge\"><title>28&#45;&gt;29</title>\r\n",
       "<path fill=\"none\" stroke=\"black\" d=\"M1943,-103.726C1943,-95.5175 1943,-86.8595 1943,-78.56\"/>\r\n",
       "<polygon fill=\"black\" stroke=\"black\" points=\"1946.5,-78.2996 1943,-68.2996 1939.5,-78.2996 1946.5,-78.2996\"/>\r\n",
       "</g>\r\n",
       "<!-- 30 -->\r\n",
       "<g id=\"node31\" class=\"node\"><title>30</title>\r\n",
       "<polygon fill=\"#80c0ee\" stroke=\"black\" points=\"2124,-68 2020,-68 2020,-0 2124,-0 2124,-68\"/>\r\n",
       "<text text-anchor=\"middle\" x=\"2072\" y=\"-52.8\" font-family=\"Times New Roman,serif\" font-size=\"14.00\">gini = 0.389</text>\r\n",
       "<text text-anchor=\"middle\" x=\"2072\" y=\"-37.8\" font-family=\"Times New Roman,serif\" font-size=\"14.00\">samples = 102</text>\r\n",
       "<text text-anchor=\"middle\" x=\"2072\" y=\"-22.8\" font-family=\"Times New Roman,serif\" font-size=\"14.00\">value = [27, 75]</text>\r\n",
       "<text text-anchor=\"middle\" x=\"2072\" y=\"-7.8\" font-family=\"Times New Roman,serif\" font-size=\"14.00\">class = yes</text>\r\n",
       "</g>\r\n",
       "<!-- 28&#45;&gt;30 -->\r\n",
       "<g id=\"edge30\" class=\"edge\"><title>28&#45;&gt;30</title>\r\n",
       "<path fill=\"none\" stroke=\"black\" d=\"M1991.03,-103.726C2002.1,-94.3318 2013.86,-84.349 2024.89,-74.9883\"/>\r\n",
       "<polygon fill=\"black\" stroke=\"black\" points=\"2027.41,-77.4393 2032.77,-68.2996 2022.88,-72.1026 2027.41,-77.4393\"/>\r\n",
       "</g>\r\n",
       "</g>\r\n",
       "</svg>\r\n"
      ],
      "text/plain": [
       "<graphviz.files.Source at 0x1b0ec19d1c8>"
      ]
     },
     "execution_count": 228,
     "metadata": {},
     "output_type": "execute_result"
    }
   ],
   "source": [
    "graphviz.Source(dot_graph)"
   ]
  },
  {
   "cell_type": "code",
   "execution_count": 227,
   "metadata": {},
   "outputs": [],
   "source": [
    "# 그래프비즈 경로설정 에러 방지용\n",
    "import os\n",
    "os.environ['PATH'] += os.pathsep + 'C:\\Program Files (x86)\\Graphviz2.38/bin/'"
   ]
  },
  {
   "cell_type": "code",
   "execution_count": 229,
   "metadata": {},
   "outputs": [
    {
     "data": {
      "text/plain": [
       "'bank_DT.png'"
      ]
     },
     "execution_count": 229,
     "metadata": {},
     "output_type": "execute_result"
    }
   ],
   "source": [
    "# 큰 그림을 png형식으로 저장\n",
    "dot = graphviz.Source(dot_graph)\n",
    "dot.format = 'png'\n",
    "dot.render(filename = 'bank_DT')"
   ]
  },
  {
   "cell_type": "code",
   "execution_count": 230,
   "metadata": {
    "scrolled": true
   },
   "outputs": [
    {
     "data": {
      "image/svg+xml": [
       "<?xml version=\"1.0\" encoding=\"UTF-8\" standalone=\"no\"?>\r\n",
       "<!DOCTYPE svg PUBLIC \"-//W3C//DTD SVG 1.1//EN\"\r\n",
       " \"http://www.w3.org/Graphics/SVG/1.1/DTD/svg11.dtd\">\r\n",
       "<!-- Generated by graphviz version 2.38.0 (20140413.2041)\r\n",
       " -->\r\n",
       "<!-- Title: Tree Pages: 1 -->\r\n",
       "<svg width=\"2132pt\" height=\"552pt\"\r\n",
       " viewBox=\"0.00 0.00 2132.00 552.00\" xmlns=\"http://www.w3.org/2000/svg\" xmlns:xlink=\"http://www.w3.org/1999/xlink\">\r\n",
       "<g id=\"graph0\" class=\"graph\" transform=\"scale(1 1) rotate(0) translate(4 548)\">\r\n",
       "<title>Tree</title>\r\n",
       "<polygon fill=\"white\" stroke=\"none\" points=\"-4,4 -4,-548 2128,-548 2128,4 -4,4\"/>\r\n",
       "<!-- 0 -->\r\n",
       "<g id=\"node1\" class=\"node\"><title>0</title>\r\n",
       "<polygon fill=\"#ea975b\" stroke=\"black\" points=\"1163,-544 1025,-544 1025,-461 1163,-461 1163,-544\"/>\r\n",
       "<text text-anchor=\"middle\" x=\"1094\" y=\"-528.8\" font-family=\"Times New Roman,serif\" font-size=\"14.00\">duration &lt;= 549.5</text>\r\n",
       "<text text-anchor=\"middle\" x=\"1094\" y=\"-513.8\" font-family=\"Times New Roman,serif\" font-size=\"14.00\">gini = 0.252</text>\r\n",
       "<text text-anchor=\"middle\" x=\"1094\" y=\"-498.8\" font-family=\"Times New Roman,serif\" font-size=\"14.00\">samples = 22533</text>\r\n",
       "<text text-anchor=\"middle\" x=\"1094\" y=\"-483.8\" font-family=\"Times New Roman,serif\" font-size=\"14.00\">value = [19203, 3330]</text>\r\n",
       "<text text-anchor=\"middle\" x=\"1094\" y=\"-468.8\" font-family=\"Times New Roman,serif\" font-size=\"14.00\">class = no</text>\r\n",
       "</g>\r\n",
       "<!-- 1 -->\r\n",
       "<g id=\"node2\" class=\"node\"><title>1</title>\r\n",
       "<polygon fill=\"#e89051\" stroke=\"black\" points=\"900,-425 762,-425 762,-342 900,-342 900,-425\"/>\r\n",
       "<text text-anchor=\"middle\" x=\"831\" y=\"-409.8\" font-family=\"Times New Roman,serif\" font-size=\"14.00\">duration &lt;= 205.5</text>\r\n",
       "<text text-anchor=\"middle\" x=\"831\" y=\"-394.8\" font-family=\"Times New Roman,serif\" font-size=\"14.00\">gini = 0.193</text>\r\n",
       "<text text-anchor=\"middle\" x=\"831\" y=\"-379.8\" font-family=\"Times New Roman,serif\" font-size=\"14.00\">samples = 20245</text>\r\n",
       "<text text-anchor=\"middle\" x=\"831\" y=\"-364.8\" font-family=\"Times New Roman,serif\" font-size=\"14.00\">value = [18060, 2185]</text>\r\n",
       "<text text-anchor=\"middle\" x=\"831\" y=\"-349.8\" font-family=\"Times New Roman,serif\" font-size=\"14.00\">class = no</text>\r\n",
       "</g>\r\n",
       "<!-- 0&#45;&gt;1 -->\r\n",
       "<g id=\"edge1\" class=\"edge\"><title>0&#45;&gt;1</title>\r\n",
       "<path fill=\"none\" stroke=\"black\" d=\"M1024.9,-470.76C989.403,-454.968 946.01,-435.664 909.28,-419.324\"/>\r\n",
       "<polygon fill=\"black\" stroke=\"black\" points=\"910.654,-416.105 900.095,-415.238 907.809,-422.5 910.654,-416.105\"/>\r\n",
       "<text text-anchor=\"middle\" x=\"909.061\" y=\"-434.875\" font-family=\"Times New Roman,serif\" font-size=\"14.00\">True</text>\r\n",
       "</g>\r\n",
       "<!-- 16 -->\r\n",
       "<g id=\"node17\" class=\"node\"><title>16</title>\r\n",
       "<polygon fill=\"#ffffff\" stroke=\"black\" points=\"1424.5,-425 1293.5,-425 1293.5,-342 1424.5,-342 1424.5,-425\"/>\r\n",
       "<text text-anchor=\"middle\" x=\"1359\" y=\"-409.8\" font-family=\"Times New Roman,serif\" font-size=\"14.00\">duration &lt;= 800.5</text>\r\n",
       "<text text-anchor=\"middle\" x=\"1359\" y=\"-394.8\" font-family=\"Times New Roman,serif\" font-size=\"14.00\">gini = 0.5</text>\r\n",
       "<text text-anchor=\"middle\" x=\"1359\" y=\"-379.8\" font-family=\"Times New Roman,serif\" font-size=\"14.00\">samples = 2288</text>\r\n",
       "<text text-anchor=\"middle\" x=\"1359\" y=\"-364.8\" font-family=\"Times New Roman,serif\" font-size=\"14.00\">value = [1143, 1145]</text>\r\n",
       "<text text-anchor=\"middle\" x=\"1359\" y=\"-349.8\" font-family=\"Times New Roman,serif\" font-size=\"14.00\">class = yes</text>\r\n",
       "</g>\r\n",
       "<!-- 0&#45;&gt;16 -->\r\n",
       "<g id=\"edge16\" class=\"edge\"><title>0&#45;&gt;16</title>\r\n",
       "<path fill=\"none\" stroke=\"black\" d=\"M1163.28,-470.912C1200.32,-454.559 1245.97,-434.405 1283.86,-417.675\"/>\r\n",
       "<polygon fill=\"black\" stroke=\"black\" points=\"1285.58,-420.74 1293.32,-413.499 1282.76,-414.337 1285.58,-420.74\"/>\r\n",
       "<text text-anchor=\"middle\" x=\"1284.29\" y=\"-433.111\" font-family=\"Times New Roman,serif\" font-size=\"14.00\">False</text>\r\n",
       "</g>\r\n",
       "<!-- 2 -->\r\n",
       "<g id=\"node3\" class=\"node\"><title>2</title>\r\n",
       "<polygon fill=\"#e68844\" stroke=\"black\" points=\"479.5,-306 348.5,-306 348.5,-223 479.5,-223 479.5,-306\"/>\r\n",
       "<text text-anchor=\"middle\" x=\"414\" y=\"-290.8\" font-family=\"Times New Roman,serif\" font-size=\"14.00\">duration &lt;= 129.5</text>\r\n",
       "<text text-anchor=\"middle\" x=\"414\" y=\"-275.8\" font-family=\"Times New Roman,serif\" font-size=\"14.00\">gini = 0.096</text>\r\n",
       "<text text-anchor=\"middle\" x=\"414\" y=\"-260.8\" font-family=\"Times New Roman,serif\" font-size=\"14.00\">samples = 12534</text>\r\n",
       "<text text-anchor=\"middle\" x=\"414\" y=\"-245.8\" font-family=\"Times New Roman,serif\" font-size=\"14.00\">value = [11900, 634]</text>\r\n",
       "<text text-anchor=\"middle\" x=\"414\" y=\"-230.8\" font-family=\"Times New Roman,serif\" font-size=\"14.00\">class = no</text>\r\n",
       "</g>\r\n",
       "<!-- 1&#45;&gt;2 -->\r\n",
       "<g id=\"edge2\" class=\"edge\"><title>1&#45;&gt;2</title>\r\n",
       "<path fill=\"none\" stroke=\"black\" d=\"M761.673,-363.048C686.494,-341.955 566.888,-308.397 489.41,-286.658\"/>\r\n",
       "<polygon fill=\"black\" stroke=\"black\" points=\"490.281,-283.267 479.707,-283.936 488.39,-290.007 490.281,-283.267\"/>\r\n",
       "</g>\r\n",
       "<!-- 9 -->\r\n",
       "<g id=\"node10\" class=\"node\"><title>9</title>\r\n",
       "<polygon fill=\"#eca16b\" stroke=\"black\" points=\"896.5,-306 765.5,-306 765.5,-223 896.5,-223 896.5,-306\"/>\r\n",
       "<text text-anchor=\"middle\" x=\"831\" y=\"-290.8\" font-family=\"Times New Roman,serif\" font-size=\"14.00\">pdays &lt;= 8.5</text>\r\n",
       "<text text-anchor=\"middle\" x=\"831\" y=\"-275.8\" font-family=\"Times New Roman,serif\" font-size=\"14.00\">gini = 0.321</text>\r\n",
       "<text text-anchor=\"middle\" x=\"831\" y=\"-260.8\" font-family=\"Times New Roman,serif\" font-size=\"14.00\">samples = 7711</text>\r\n",
       "<text text-anchor=\"middle\" x=\"831\" y=\"-245.8\" font-family=\"Times New Roman,serif\" font-size=\"14.00\">value = [6160, 1551]</text>\r\n",
       "<text text-anchor=\"middle\" x=\"831\" y=\"-230.8\" font-family=\"Times New Roman,serif\" font-size=\"14.00\">class = no</text>\r\n",
       "</g>\r\n",
       "<!-- 1&#45;&gt;9 -->\r\n",
       "<g id=\"edge9\" class=\"edge\"><title>1&#45;&gt;9</title>\r\n",
       "<path fill=\"none\" stroke=\"black\" d=\"M831,-341.907C831,-333.649 831,-324.864 831,-316.302\"/>\r\n",
       "<polygon fill=\"black\" stroke=\"black\" points=\"834.5,-316.021 831,-306.021 827.5,-316.021 834.5,-316.021\"/>\r\n",
       "</g>\r\n",
       "<!-- 3 -->\r\n",
       "<g id=\"node4\" class=\"node\"><title>3</title>\r\n",
       "<polygon fill=\"#e6843d\" stroke=\"black\" points=\"261.5,-187 136.5,-187 136.5,-104 261.5,-104 261.5,-187\"/>\r\n",
       "<text text-anchor=\"middle\" x=\"199\" y=\"-171.8\" font-family=\"Times New Roman,serif\" font-size=\"14.00\">duration &lt;= 77.5</text>\r\n",
       "<text text-anchor=\"middle\" x=\"199\" y=\"-156.8\" font-family=\"Times New Roman,serif\" font-size=\"14.00\">gini = 0.042</text>\r\n",
       "<text text-anchor=\"middle\" x=\"199\" y=\"-141.8\" font-family=\"Times New Roman,serif\" font-size=\"14.00\">samples = 7700</text>\r\n",
       "<text text-anchor=\"middle\" x=\"199\" y=\"-126.8\" font-family=\"Times New Roman,serif\" font-size=\"14.00\">value = [7536, 164]</text>\r\n",
       "<text text-anchor=\"middle\" x=\"199\" y=\"-111.8\" font-family=\"Times New Roman,serif\" font-size=\"14.00\">class = no</text>\r\n",
       "</g>\r\n",
       "<!-- 2&#45;&gt;3 -->\r\n",
       "<g id=\"edge3\" class=\"edge\"><title>2&#45;&gt;3</title>\r\n",
       "<path fill=\"none\" stroke=\"black\" d=\"M348.325,-227.76C323.798,-214.413 295.83,-199.194 270.782,-185.563\"/>\r\n",
       "<polygon fill=\"black\" stroke=\"black\" points=\"272.154,-182.325 261.697,-180.619 268.808,-188.473 272.154,-182.325\"/>\r\n",
       "</g>\r\n",
       "<!-- 6 -->\r\n",
       "<g id=\"node7\" class=\"node\"><title>6</title>\r\n",
       "<polygon fill=\"#e88f4e\" stroke=\"black\" points=\"476.5,-187 351.5,-187 351.5,-104 476.5,-104 476.5,-187\"/>\r\n",
       "<text text-anchor=\"middle\" x=\"414\" y=\"-171.8\" font-family=\"Times New Roman,serif\" font-size=\"14.00\">pdays &lt;= 42.0</text>\r\n",
       "<text text-anchor=\"middle\" x=\"414\" y=\"-156.8\" font-family=\"Times New Roman,serif\" font-size=\"14.00\">gini = 0.176</text>\r\n",
       "<text text-anchor=\"middle\" x=\"414\" y=\"-141.8\" font-family=\"Times New Roman,serif\" font-size=\"14.00\">samples = 4834</text>\r\n",
       "<text text-anchor=\"middle\" x=\"414\" y=\"-126.8\" font-family=\"Times New Roman,serif\" font-size=\"14.00\">value = [4364, 470]</text>\r\n",
       "<text text-anchor=\"middle\" x=\"414\" y=\"-111.8\" font-family=\"Times New Roman,serif\" font-size=\"14.00\">class = no</text>\r\n",
       "</g>\r\n",
       "<!-- 2&#45;&gt;6 -->\r\n",
       "<g id=\"edge6\" class=\"edge\"><title>2&#45;&gt;6</title>\r\n",
       "<path fill=\"none\" stroke=\"black\" d=\"M414,-222.907C414,-214.649 414,-205.864 414,-197.302\"/>\r\n",
       "<polygon fill=\"black\" stroke=\"black\" points=\"417.5,-197.021 414,-187.021 410.5,-197.021 417.5,-197.021\"/>\r\n",
       "</g>\r\n",
       "<!-- 4 -->\r\n",
       "<g id=\"node5\" class=\"node\"><title>4</title>\r\n",
       "<polygon fill=\"#e5823a\" stroke=\"black\" points=\"118,-68 0,-68 0,-0 118,-0 118,-68\"/>\r\n",
       "<text text-anchor=\"middle\" x=\"59\" y=\"-52.8\" font-family=\"Times New Roman,serif\" font-size=\"14.00\">gini = 0.009</text>\r\n",
       "<text text-anchor=\"middle\" x=\"59\" y=\"-37.8\" font-family=\"Times New Roman,serif\" font-size=\"14.00\">samples = 3454</text>\r\n",
       "<text text-anchor=\"middle\" x=\"59\" y=\"-22.8\" font-family=\"Times New Roman,serif\" font-size=\"14.00\">value = [3439, 15]</text>\r\n",
       "<text text-anchor=\"middle\" x=\"59\" y=\"-7.8\" font-family=\"Times New Roman,serif\" font-size=\"14.00\">class = no</text>\r\n",
       "</g>\r\n",
       "<!-- 3&#45;&gt;4 -->\r\n",
       "<g id=\"edge4\" class=\"edge\"><title>3&#45;&gt;4</title>\r\n",
       "<path fill=\"none\" stroke=\"black\" d=\"M146.869,-103.726C134.741,-94.2406 121.847,-84.1551 109.778,-74.7159\"/>\r\n",
       "<polygon fill=\"black\" stroke=\"black\" points=\"111.608,-71.7035 101.575,-68.2996 107.295,-77.2173 111.608,-71.7035\"/>\r\n",
       "</g>\r\n",
       "<!-- 5 -->\r\n",
       "<g id=\"node6\" class=\"node\"><title>5</title>\r\n",
       "<polygon fill=\"#e68640\" stroke=\"black\" points=\"261.5,-68 136.5,-68 136.5,-0 261.5,-0 261.5,-68\"/>\r\n",
       "<text text-anchor=\"middle\" x=\"199\" y=\"-52.8\" font-family=\"Times New Roman,serif\" font-size=\"14.00\">gini = 0.068</text>\r\n",
       "<text text-anchor=\"middle\" x=\"199\" y=\"-37.8\" font-family=\"Times New Roman,serif\" font-size=\"14.00\">samples = 4246</text>\r\n",
       "<text text-anchor=\"middle\" x=\"199\" y=\"-22.8\" font-family=\"Times New Roman,serif\" font-size=\"14.00\">value = [4097, 149]</text>\r\n",
       "<text text-anchor=\"middle\" x=\"199\" y=\"-7.8\" font-family=\"Times New Roman,serif\" font-size=\"14.00\">class = no</text>\r\n",
       "</g>\r\n",
       "<!-- 3&#45;&gt;5 -->\r\n",
       "<g id=\"edge5\" class=\"edge\"><title>3&#45;&gt;5</title>\r\n",
       "<path fill=\"none\" stroke=\"black\" d=\"M199,-103.726C199,-95.5175 199,-86.8595 199,-78.56\"/>\r\n",
       "<polygon fill=\"black\" stroke=\"black\" points=\"202.5,-78.2996 199,-68.2996 195.5,-78.2996 202.5,-78.2996\"/>\r\n",
       "</g>\r\n",
       "<!-- 7 -->\r\n",
       "<g id=\"node8\" class=\"node\"><title>7</title>\r\n",
       "<polygon fill=\"#e78a47\" stroke=\"black\" points=\"404.5,-68 279.5,-68 279.5,-0 404.5,-0 404.5,-68\"/>\r\n",
       "<text text-anchor=\"middle\" x=\"342\" y=\"-52.8\" font-family=\"Times New Roman,serif\" font-size=\"14.00\">gini = 0.124</text>\r\n",
       "<text text-anchor=\"middle\" x=\"342\" y=\"-37.8\" font-family=\"Times New Roman,serif\" font-size=\"14.00\">samples = 3588</text>\r\n",
       "<text text-anchor=\"middle\" x=\"342\" y=\"-22.8\" font-family=\"Times New Roman,serif\" font-size=\"14.00\">value = [3349, 239]</text>\r\n",
       "<text text-anchor=\"middle\" x=\"342\" y=\"-7.8\" font-family=\"Times New Roman,serif\" font-size=\"14.00\">class = no</text>\r\n",
       "</g>\r\n",
       "<!-- 6&#45;&gt;7 -->\r\n",
       "<g id=\"edge7\" class=\"edge\"><title>6&#45;&gt;7</title>\r\n",
       "<path fill=\"none\" stroke=\"black\" d=\"M387.19,-103.726C381.432,-94.9703 375.339,-85.7032 369.554,-76.9051\"/>\r\n",
       "<polygon fill=\"black\" stroke=\"black\" points=\"372.314,-74.7322 363.896,-68.2996 366.465,-78.5781 372.314,-74.7322\"/>\r\n",
       "</g>\r\n",
       "<!-- 8 -->\r\n",
       "<g id=\"node9\" class=\"node\"><title>8</title>\r\n",
       "<polygon fill=\"#eb9e66\" stroke=\"black\" points=\"547.5,-68 422.5,-68 422.5,-0 547.5,-0 547.5,-68\"/>\r\n",
       "<text text-anchor=\"middle\" x=\"485\" y=\"-52.8\" font-family=\"Times New Roman,serif\" font-size=\"14.00\">gini = 0.302</text>\r\n",
       "<text text-anchor=\"middle\" x=\"485\" y=\"-37.8\" font-family=\"Times New Roman,serif\" font-size=\"14.00\">samples = 1246</text>\r\n",
       "<text text-anchor=\"middle\" x=\"485\" y=\"-22.8\" font-family=\"Times New Roman,serif\" font-size=\"14.00\">value = [1015, 231]</text>\r\n",
       "<text text-anchor=\"middle\" x=\"485\" y=\"-7.8\" font-family=\"Times New Roman,serif\" font-size=\"14.00\">class = no</text>\r\n",
       "</g>\r\n",
       "<!-- 6&#45;&gt;8 -->\r\n",
       "<g id=\"edge8\" class=\"edge\"><title>6&#45;&gt;8</title>\r\n",
       "<path fill=\"none\" stroke=\"black\" d=\"M440.438,-103.726C446.115,-94.9703 452.124,-85.7032 457.829,-76.9051\"/>\r\n",
       "<polygon fill=\"black\" stroke=\"black\" points=\"460.905,-78.5943 463.408,-68.2996 455.031,-74.786 460.905,-78.5943\"/>\r\n",
       "</g>\r\n",
       "<!-- 10 -->\r\n",
       "<g id=\"node11\" class=\"node\"><title>10</title>\r\n",
       "<polygon fill=\"#ea975c\" stroke=\"black\" points=\"821.5,-187 696.5,-187 696.5,-104 821.5,-104 821.5,-187\"/>\r\n",
       "<text text-anchor=\"middle\" x=\"759\" y=\"-171.8\" font-family=\"Times New Roman,serif\" font-size=\"14.00\">age &lt;= 60.5</text>\r\n",
       "<text text-anchor=\"middle\" x=\"759\" y=\"-156.8\" font-family=\"Times New Roman,serif\" font-size=\"14.00\">gini = 0.254</text>\r\n",
       "<text text-anchor=\"middle\" x=\"759\" y=\"-141.8\" font-family=\"Times New Roman,serif\" font-size=\"14.00\">samples = 5575</text>\r\n",
       "<text text-anchor=\"middle\" x=\"759\" y=\"-126.8\" font-family=\"Times New Roman,serif\" font-size=\"14.00\">value = [4741, 834]</text>\r\n",
       "<text text-anchor=\"middle\" x=\"759\" y=\"-111.8\" font-family=\"Times New Roman,serif\" font-size=\"14.00\">class = no</text>\r\n",
       "</g>\r\n",
       "<!-- 9&#45;&gt;10 -->\r\n",
       "<g id=\"edge10\" class=\"edge\"><title>9&#45;&gt;10</title>\r\n",
       "<path fill=\"none\" stroke=\"black\" d=\"M806.02,-222.907C800.603,-214.105 794.817,-204.703 789.223,-195.612\"/>\r\n",
       "<polygon fill=\"black\" stroke=\"black\" points=\"792.158,-193.703 783.936,-187.021 786.196,-197.372 792.158,-193.703\"/>\r\n",
       "</g>\r\n",
       "<!-- 13 -->\r\n",
       "<g id=\"node14\" class=\"node\"><title>13</title>\r\n",
       "<polygon fill=\"#f2c19d\" stroke=\"black\" points=\"964.5,-187 839.5,-187 839.5,-104 964.5,-104 964.5,-187\"/>\r\n",
       "<text text-anchor=\"middle\" x=\"902\" y=\"-171.8\" font-family=\"Times New Roman,serif\" font-size=\"14.00\">pdays &lt;= 195.5</text>\r\n",
       "<text text-anchor=\"middle\" x=\"902\" y=\"-156.8\" font-family=\"Times New Roman,serif\" font-size=\"14.00\">gini = 0.446</text>\r\n",
       "<text text-anchor=\"middle\" x=\"902\" y=\"-141.8\" font-family=\"Times New Roman,serif\" font-size=\"14.00\">samples = 2136</text>\r\n",
       "<text text-anchor=\"middle\" x=\"902\" y=\"-126.8\" font-family=\"Times New Roman,serif\" font-size=\"14.00\">value = [1419, 717]</text>\r\n",
       "<text text-anchor=\"middle\" x=\"902\" y=\"-111.8\" font-family=\"Times New Roman,serif\" font-size=\"14.00\">class = no</text>\r\n",
       "</g>\r\n",
       "<!-- 9&#45;&gt;13 -->\r\n",
       "<g id=\"edge13\" class=\"edge\"><title>9&#45;&gt;13</title>\r\n",
       "<path fill=\"none\" stroke=\"black\" d=\"M855.633,-222.907C860.975,-214.105 866.68,-204.703 872.197,-195.612\"/>\r\n",
       "<polygon fill=\"black\" stroke=\"black\" points=\"875.215,-197.386 877.41,-187.021 869.23,-193.754 875.215,-197.386\"/>\r\n",
       "</g>\r\n",
       "<!-- 11 -->\r\n",
       "<g id=\"node12\" class=\"node\"><title>11</title>\r\n",
       "<polygon fill=\"#e99458\" stroke=\"black\" points=\"690.5,-68 565.5,-68 565.5,-0 690.5,-0 690.5,-68\"/>\r\n",
       "<text text-anchor=\"middle\" x=\"628\" y=\"-52.8\" font-family=\"Times New Roman,serif\" font-size=\"14.00\">gini = 0.232</text>\r\n",
       "<text text-anchor=\"middle\" x=\"628\" y=\"-37.8\" font-family=\"Times New Roman,serif\" font-size=\"14.00\">samples = 5358</text>\r\n",
       "<text text-anchor=\"middle\" x=\"628\" y=\"-22.8\" font-family=\"Times New Roman,serif\" font-size=\"14.00\">value = [4642, 716]</text>\r\n",
       "<text text-anchor=\"middle\" x=\"628\" y=\"-7.8\" font-family=\"Times New Roman,serif\" font-size=\"14.00\">class = no</text>\r\n",
       "</g>\r\n",
       "<!-- 10&#45;&gt;11 -->\r\n",
       "<g id=\"edge11\" class=\"edge\"><title>10&#45;&gt;11</title>\r\n",
       "<path fill=\"none\" stroke=\"black\" d=\"M710.22,-103.726C698.872,-94.2406 686.807,-84.1551 675.514,-74.7159\"/>\r\n",
       "<polygon fill=\"black\" stroke=\"black\" points=\"677.755,-72.0276 667.838,-68.2996 673.266,-77.3984 677.755,-72.0276\"/>\r\n",
       "</g>\r\n",
       "<!-- 12 -->\r\n",
       "<g id=\"node13\" class=\"node\"><title>12</title>\r\n",
       "<polygon fill=\"#dfeffb\" stroke=\"black\" points=\"819.5,-68 708.5,-68 708.5,-0 819.5,-0 819.5,-68\"/>\r\n",
       "<text text-anchor=\"middle\" x=\"764\" y=\"-52.8\" font-family=\"Times New Roman,serif\" font-size=\"14.00\">gini = 0.496</text>\r\n",
       "<text text-anchor=\"middle\" x=\"764\" y=\"-37.8\" font-family=\"Times New Roman,serif\" font-size=\"14.00\">samples = 217</text>\r\n",
       "<text text-anchor=\"middle\" x=\"764\" y=\"-22.8\" font-family=\"Times New Roman,serif\" font-size=\"14.00\">value = [99, 118]</text>\r\n",
       "<text text-anchor=\"middle\" x=\"764\" y=\"-7.8\" font-family=\"Times New Roman,serif\" font-size=\"14.00\">class = yes</text>\r\n",
       "</g>\r\n",
       "<!-- 10&#45;&gt;12 -->\r\n",
       "<g id=\"edge12\" class=\"edge\"><title>10&#45;&gt;12</title>\r\n",
       "<path fill=\"none\" stroke=\"black\" d=\"M760.862,-103.726C761.237,-95.5175 761.632,-86.8595 762.011,-78.56\"/>\r\n",
       "<polygon fill=\"black\" stroke=\"black\" points=\"765.52,-78.4489 762.479,-68.2996 758.527,-78.1295 765.52,-78.4489\"/>\r\n",
       "</g>\r\n",
       "<!-- 14 -->\r\n",
       "<g id=\"node15\" class=\"node\"><title>14</title>\r\n",
       "<polygon fill=\"#fcf0e7\" stroke=\"black\" points=\"956,-68 838,-68 838,-0 956,-0 956,-68\"/>\r\n",
       "<text text-anchor=\"middle\" x=\"897\" y=\"-52.8\" font-family=\"Times New Roman,serif\" font-size=\"14.00\">gini = 0.498</text>\r\n",
       "<text text-anchor=\"middle\" x=\"897\" y=\"-37.8\" font-family=\"Times New Roman,serif\" font-size=\"14.00\">samples = 1085</text>\r\n",
       "<text text-anchor=\"middle\" x=\"897\" y=\"-22.8\" font-family=\"Times New Roman,serif\" font-size=\"14.00\">value = [578, 507]</text>\r\n",
       "<text text-anchor=\"middle\" x=\"897\" y=\"-7.8\" font-family=\"Times New Roman,serif\" font-size=\"14.00\">class = no</text>\r\n",
       "</g>\r\n",
       "<!-- 13&#45;&gt;14 -->\r\n",
       "<g id=\"edge14\" class=\"edge\"><title>13&#45;&gt;14</title>\r\n",
       "<path fill=\"none\" stroke=\"black\" d=\"M900.138,-103.726C899.763,-95.5175 899.368,-86.8595 898.989,-78.56\"/>\r\n",
       "<polygon fill=\"black\" stroke=\"black\" points=\"902.473,-78.1295 898.521,-68.2996 895.48,-78.4489 902.473,-78.1295\"/>\r\n",
       "</g>\r\n",
       "<!-- 15 -->\r\n",
       "<g id=\"node16\" class=\"node\"><title>15</title>\r\n",
       "<polygon fill=\"#eba06a\" stroke=\"black\" points=\"1092,-68 974,-68 974,-0 1092,-0 1092,-68\"/>\r\n",
       "<text text-anchor=\"middle\" x=\"1033\" y=\"-52.8\" font-family=\"Times New Roman,serif\" font-size=\"14.00\">gini = 0.32</text>\r\n",
       "<text text-anchor=\"middle\" x=\"1033\" y=\"-37.8\" font-family=\"Times New Roman,serif\" font-size=\"14.00\">samples = 1051</text>\r\n",
       "<text text-anchor=\"middle\" x=\"1033\" y=\"-22.8\" font-family=\"Times New Roman,serif\" font-size=\"14.00\">value = [841, 210]</text>\r\n",
       "<text text-anchor=\"middle\" x=\"1033\" y=\"-7.8\" font-family=\"Times New Roman,serif\" font-size=\"14.00\">class = no</text>\r\n",
       "</g>\r\n",
       "<!-- 13&#45;&gt;15 -->\r\n",
       "<g id=\"edge15\" class=\"edge\"><title>13&#45;&gt;15</title>\r\n",
       "<path fill=\"none\" stroke=\"black\" d=\"M950.78,-103.726C962.128,-94.2406 974.193,-84.1551 985.486,-74.7159\"/>\r\n",
       "<polygon fill=\"black\" stroke=\"black\" points=\"987.734,-77.3984 993.162,-68.2996 983.245,-72.0276 987.734,-77.3984\"/>\r\n",
       "</g>\r\n",
       "<!-- 17 -->\r\n",
       "<g id=\"node18\" class=\"node\"><title>17</title>\r\n",
       "<polygon fill=\"#f8ddca\" stroke=\"black\" points=\"1418,-306 1300,-306 1300,-223 1418,-223 1418,-306\"/>\r\n",
       "<text text-anchor=\"middle\" x=\"1359\" y=\"-290.8\" font-family=\"Times New Roman,serif\" font-size=\"14.00\">pdays &lt;= 2.5</text>\r\n",
       "<text text-anchor=\"middle\" x=\"1359\" y=\"-275.8\" font-family=\"Times New Roman,serif\" font-size=\"14.00\">gini = 0.488</text>\r\n",
       "<text text-anchor=\"middle\" x=\"1359\" y=\"-260.8\" font-family=\"Times New Roman,serif\" font-size=\"14.00\">samples = 1316</text>\r\n",
       "<text text-anchor=\"middle\" x=\"1359\" y=\"-245.8\" font-family=\"Times New Roman,serif\" font-size=\"14.00\">value = [759, 557]</text>\r\n",
       "<text text-anchor=\"middle\" x=\"1359\" y=\"-230.8\" font-family=\"Times New Roman,serif\" font-size=\"14.00\">class = no</text>\r\n",
       "</g>\r\n",
       "<!-- 16&#45;&gt;17 -->\r\n",
       "<g id=\"edge17\" class=\"edge\"><title>16&#45;&gt;17</title>\r\n",
       "<path fill=\"none\" stroke=\"black\" d=\"M1359,-341.907C1359,-333.649 1359,-324.864 1359,-316.302\"/>\r\n",
       "<polygon fill=\"black\" stroke=\"black\" points=\"1362.5,-316.021 1359,-306.021 1355.5,-316.021 1362.5,-316.021\"/>\r\n",
       "</g>\r\n",
       "<!-- 24 -->\r\n",
       "<g id=\"node25\" class=\"node\"><title>24</title>\r\n",
       "<polygon fill=\"#baddf6\" stroke=\"black\" points=\"1805,-306 1687,-306 1687,-223 1805,-223 1805,-306\"/>\r\n",
       "<text text-anchor=\"middle\" x=\"1746\" y=\"-290.8\" font-family=\"Times New Roman,serif\" font-size=\"14.00\">duration &lt;= 937.5</text>\r\n",
       "<text text-anchor=\"middle\" x=\"1746\" y=\"-275.8\" font-family=\"Times New Roman,serif\" font-size=\"14.00\">gini = 0.478</text>\r\n",
       "<text text-anchor=\"middle\" x=\"1746\" y=\"-260.8\" font-family=\"Times New Roman,serif\" font-size=\"14.00\">samples = 972</text>\r\n",
       "<text text-anchor=\"middle\" x=\"1746\" y=\"-245.8\" font-family=\"Times New Roman,serif\" font-size=\"14.00\">value = [384, 588]</text>\r\n",
       "<text text-anchor=\"middle\" x=\"1746\" y=\"-230.8\" font-family=\"Times New Roman,serif\" font-size=\"14.00\">class = yes</text>\r\n",
       "</g>\r\n",
       "<!-- 16&#45;&gt;24 -->\r\n",
       "<g id=\"edge24\" class=\"edge\"><title>16&#45;&gt;24</title>\r\n",
       "<path fill=\"none\" stroke=\"black\" d=\"M1424.65,-362.653C1494.78,-341.45 1605.47,-307.987 1676.89,-286.392\"/>\r\n",
       "<polygon fill=\"black\" stroke=\"black\" points=\"1678.15,-289.671 1686.7,-283.427 1676.12,-282.97 1678.15,-289.671\"/>\r\n",
       "</g>\r\n",
       "<!-- 18 -->\r\n",
       "<g id=\"node19\" class=\"node\"><title>18</title>\r\n",
       "<polygon fill=\"#f6d1b7\" stroke=\"black\" points=\"1350,-187 1232,-187 1232,-104 1350,-104 1350,-187\"/>\r\n",
       "<text text-anchor=\"middle\" x=\"1291\" y=\"-171.8\" font-family=\"Times New Roman,serif\" font-size=\"14.00\">age &lt;= 60.5</text>\r\n",
       "<text text-anchor=\"middle\" x=\"1291\" y=\"-156.8\" font-family=\"Times New Roman,serif\" font-size=\"14.00\">gini = 0.475</text>\r\n",
       "<text text-anchor=\"middle\" x=\"1291\" y=\"-141.8\" font-family=\"Times New Roman,serif\" font-size=\"14.00\">samples = 1003</text>\r\n",
       "<text text-anchor=\"middle\" x=\"1291\" y=\"-126.8\" font-family=\"Times New Roman,serif\" font-size=\"14.00\">value = [613, 390]</text>\r\n",
       "<text text-anchor=\"middle\" x=\"1291\" y=\"-111.8\" font-family=\"Times New Roman,serif\" font-size=\"14.00\">class = no</text>\r\n",
       "</g>\r\n",
       "<!-- 17&#45;&gt;18 -->\r\n",
       "<g id=\"edge18\" class=\"edge\"><title>17&#45;&gt;18</title>\r\n",
       "<path fill=\"none\" stroke=\"black\" d=\"M1335.41,-222.907C1330.34,-214.195 1324.94,-204.897 1319.71,-195.893\"/>\r\n",
       "<polygon fill=\"black\" stroke=\"black\" points=\"1322.6,-193.908 1314.55,-187.021 1316.55,-197.425 1322.6,-193.908\"/>\r\n",
       "</g>\r\n",
       "<!-- 21 -->\r\n",
       "<g id=\"node22\" class=\"node\"><title>21</title>\r\n",
       "<polygon fill=\"#e6f3fc\" stroke=\"black\" points=\"1486,-187 1368,-187 1368,-104 1486,-104 1486,-187\"/>\r\n",
       "<text text-anchor=\"middle\" x=\"1427\" y=\"-171.8\" font-family=\"Times New Roman,serif\" font-size=\"14.00\">pdays &lt;= 111.0</text>\r\n",
       "<text text-anchor=\"middle\" x=\"1427\" y=\"-156.8\" font-family=\"Times New Roman,serif\" font-size=\"14.00\">gini = 0.498</text>\r\n",
       "<text text-anchor=\"middle\" x=\"1427\" y=\"-141.8\" font-family=\"Times New Roman,serif\" font-size=\"14.00\">samples = 313</text>\r\n",
       "<text text-anchor=\"middle\" x=\"1427\" y=\"-126.8\" font-family=\"Times New Roman,serif\" font-size=\"14.00\">value = [146, 167]</text>\r\n",
       "<text text-anchor=\"middle\" x=\"1427\" y=\"-111.8\" font-family=\"Times New Roman,serif\" font-size=\"14.00\">class = yes</text>\r\n",
       "</g>\r\n",
       "<!-- 17&#45;&gt;21 -->\r\n",
       "<g id=\"edge21\" class=\"edge\"><title>17&#45;&gt;21</title>\r\n",
       "<path fill=\"none\" stroke=\"black\" d=\"M1382.59,-222.907C1387.66,-214.195 1393.06,-204.897 1398.29,-195.893\"/>\r\n",
       "<polygon fill=\"black\" stroke=\"black\" points=\"1401.45,-197.425 1403.45,-187.021 1395.4,-193.908 1401.45,-197.425\"/>\r\n",
       "</g>\r\n",
       "<!-- 19 -->\r\n",
       "<g id=\"node20\" class=\"node\"><title>19</title>\r\n",
       "<polygon fill=\"#f5ceb2\" stroke=\"black\" points=\"1228,-68 1110,-68 1110,-0 1228,-0 1228,-68\"/>\r\n",
       "<text text-anchor=\"middle\" x=\"1169\" y=\"-52.8\" font-family=\"Times New Roman,serif\" font-size=\"14.00\">gini = 0.471</text>\r\n",
       "<text text-anchor=\"middle\" x=\"1169\" y=\"-37.8\" font-family=\"Times New Roman,serif\" font-size=\"14.00\">samples = 971</text>\r\n",
       "<text text-anchor=\"middle\" x=\"1169\" y=\"-22.8\" font-family=\"Times New Roman,serif\" font-size=\"14.00\">value = [603, 368]</text>\r\n",
       "<text text-anchor=\"middle\" x=\"1169\" y=\"-7.8\" font-family=\"Times New Roman,serif\" font-size=\"14.00\">class = no</text>\r\n",
       "</g>\r\n",
       "<!-- 18&#45;&gt;19 -->\r\n",
       "<g id=\"edge19\" class=\"edge\"><title>18&#45;&gt;19</title>\r\n",
       "<path fill=\"none\" stroke=\"black\" d=\"M1245.57,-103.726C1235.1,-94.3318 1223.98,-84.349 1213.55,-74.9883\"/>\r\n",
       "<polygon fill=\"black\" stroke=\"black\" points=\"1215.88,-72.3744 1206.1,-68.2996 1211.21,-77.5839 1215.88,-72.3744\"/>\r\n",
       "</g>\r\n",
       "<!-- 20 -->\r\n",
       "<g id=\"node21\" class=\"node\"><title>20</title>\r\n",
       "<polygon fill=\"#93caf1\" stroke=\"black\" points=\"1350,-68 1246,-68 1246,-0 1350,-0 1350,-68\"/>\r\n",
       "<text text-anchor=\"middle\" x=\"1298\" y=\"-52.8\" font-family=\"Times New Roman,serif\" font-size=\"14.00\">gini = 0.43</text>\r\n",
       "<text text-anchor=\"middle\" x=\"1298\" y=\"-37.8\" font-family=\"Times New Roman,serif\" font-size=\"14.00\">samples = 32</text>\r\n",
       "<text text-anchor=\"middle\" x=\"1298\" y=\"-22.8\" font-family=\"Times New Roman,serif\" font-size=\"14.00\">value = [10, 22]</text>\r\n",
       "<text text-anchor=\"middle\" x=\"1298\" y=\"-7.8\" font-family=\"Times New Roman,serif\" font-size=\"14.00\">class = yes</text>\r\n",
       "</g>\r\n",
       "<!-- 18&#45;&gt;20 -->\r\n",
       "<g id=\"edge20\" class=\"edge\"><title>18&#45;&gt;20</title>\r\n",
       "<path fill=\"none\" stroke=\"black\" d=\"M1293.61,-103.726C1294.14,-95.4263 1294.7,-86.6671 1295.23,-78.2834\"/>\r\n",
       "<polygon fill=\"black\" stroke=\"black\" points=\"1298.73,-78.5025 1295.87,-68.2996 1291.74,-78.0559 1298.73,-78.5025\"/>\r\n",
       "</g>\r\n",
       "<!-- 22 -->\r\n",
       "<g id=\"node23\" class=\"node\"><title>22</title>\r\n",
       "<polygon fill=\"#74baed\" stroke=\"black\" points=\"1472,-68 1368,-68 1368,-0 1472,-0 1472,-68\"/>\r\n",
       "<text text-anchor=\"middle\" x=\"1420\" y=\"-52.8\" font-family=\"Times New Roman,serif\" font-size=\"14.00\">gini = 0.354</text>\r\n",
       "<text text-anchor=\"middle\" x=\"1420\" y=\"-37.8\" font-family=\"Times New Roman,serif\" font-size=\"14.00\">samples = 61</text>\r\n",
       "<text text-anchor=\"middle\" x=\"1420\" y=\"-22.8\" font-family=\"Times New Roman,serif\" font-size=\"14.00\">value = [14, 47]</text>\r\n",
       "<text text-anchor=\"middle\" x=\"1420\" y=\"-7.8\" font-family=\"Times New Roman,serif\" font-size=\"14.00\">class = yes</text>\r\n",
       "</g>\r\n",
       "<!-- 21&#45;&gt;22 -->\r\n",
       "<g id=\"edge22\" class=\"edge\"><title>21&#45;&gt;22</title>\r\n",
       "<path fill=\"none\" stroke=\"black\" d=\"M1424.39,-103.726C1423.86,-95.4263 1423.3,-86.6671 1422.77,-78.2834\"/>\r\n",
       "<polygon fill=\"black\" stroke=\"black\" points=\"1426.26,-78.0559 1422.13,-68.2996 1419.27,-78.5025 1426.26,-78.0559\"/>\r\n",
       "</g>\r\n",
       "<!-- 23 -->\r\n",
       "<g id=\"node24\" class=\"node\"><title>23</title>\r\n",
       "<polygon fill=\"#fdf4ed\" stroke=\"black\" points=\"1608,-68 1490,-68 1490,-0 1608,-0 1608,-68\"/>\r\n",
       "<text text-anchor=\"middle\" x=\"1549\" y=\"-52.8\" font-family=\"Times New Roman,serif\" font-size=\"14.00\">gini = 0.499</text>\r\n",
       "<text text-anchor=\"middle\" x=\"1549\" y=\"-37.8\" font-family=\"Times New Roman,serif\" font-size=\"14.00\">samples = 252</text>\r\n",
       "<text text-anchor=\"middle\" x=\"1549\" y=\"-22.8\" font-family=\"Times New Roman,serif\" font-size=\"14.00\">value = [132, 120]</text>\r\n",
       "<text text-anchor=\"middle\" x=\"1549\" y=\"-7.8\" font-family=\"Times New Roman,serif\" font-size=\"14.00\">class = no</text>\r\n",
       "</g>\r\n",
       "<!-- 21&#45;&gt;23 -->\r\n",
       "<g id=\"edge23\" class=\"edge\"><title>21&#45;&gt;23</title>\r\n",
       "<path fill=\"none\" stroke=\"black\" d=\"M1472.43,-103.726C1482.9,-94.3318 1494.02,-84.349 1504.45,-74.9883\"/>\r\n",
       "<polygon fill=\"black\" stroke=\"black\" points=\"1506.79,-77.5839 1511.9,-68.2996 1502.12,-72.3744 1506.79,-77.5839\"/>\r\n",
       "</g>\r\n",
       "<!-- 25 -->\r\n",
       "<g id=\"node26\" class=\"node\"><title>25</title>\r\n",
       "<polygon fill=\"#dbedfa\" stroke=\"black\" points=\"1805,-187 1687,-187 1687,-104 1805,-104 1805,-187\"/>\r\n",
       "<text text-anchor=\"middle\" x=\"1746\" y=\"-171.8\" font-family=\"Times New Roman,serif\" font-size=\"14.00\">duration &lt;= 904.5</text>\r\n",
       "<text text-anchor=\"middle\" x=\"1746\" y=\"-156.8\" font-family=\"Times New Roman,serif\" font-size=\"14.00\">gini = 0.495</text>\r\n",
       "<text text-anchor=\"middle\" x=\"1746\" y=\"-141.8\" font-family=\"Times New Roman,serif\" font-size=\"14.00\">samples = 327</text>\r\n",
       "<text text-anchor=\"middle\" x=\"1746\" y=\"-126.8\" font-family=\"Times New Roman,serif\" font-size=\"14.00\">value = [147, 180]</text>\r\n",
       "<text text-anchor=\"middle\" x=\"1746\" y=\"-111.8\" font-family=\"Times New Roman,serif\" font-size=\"14.00\">class = yes</text>\r\n",
       "</g>\r\n",
       "<!-- 24&#45;&gt;25 -->\r\n",
       "<g id=\"edge25\" class=\"edge\"><title>24&#45;&gt;25</title>\r\n",
       "<path fill=\"none\" stroke=\"black\" d=\"M1746,-222.907C1746,-214.649 1746,-205.864 1746,-197.302\"/>\r\n",
       "<polygon fill=\"black\" stroke=\"black\" points=\"1749.5,-197.021 1746,-187.021 1742.5,-197.021 1749.5,-197.021\"/>\r\n",
       "</g>\r\n",
       "<!-- 28 -->\r\n",
       "<g id=\"node29\" class=\"node\"><title>28</title>\r\n",
       "<polygon fill=\"#acd6f4\" stroke=\"black\" points=\"2002,-187 1884,-187 1884,-104 2002,-104 2002,-187\"/>\r\n",
       "<text text-anchor=\"middle\" x=\"1943\" y=\"-171.8\" font-family=\"Times New Roman,serif\" font-size=\"14.00\">loan_G &lt;= 0.5</text>\r\n",
       "<text text-anchor=\"middle\" x=\"1943\" y=\"-156.8\" font-family=\"Times New Roman,serif\" font-size=\"14.00\">gini = 0.465</text>\r\n",
       "<text text-anchor=\"middle\" x=\"1943\" y=\"-141.8\" font-family=\"Times New Roman,serif\" font-size=\"14.00\">samples = 645</text>\r\n",
       "<text text-anchor=\"middle\" x=\"1943\" y=\"-126.8\" font-family=\"Times New Roman,serif\" font-size=\"14.00\">value = [237, 408]</text>\r\n",
       "<text text-anchor=\"middle\" x=\"1943\" y=\"-111.8\" font-family=\"Times New Roman,serif\" font-size=\"14.00\">class = yes</text>\r\n",
       "</g>\r\n",
       "<!-- 24&#45;&gt;28 -->\r\n",
       "<g id=\"edge28\" class=\"edge\"><title>24&#45;&gt;28</title>\r\n",
       "<path fill=\"none\" stroke=\"black\" d=\"M1805.11,-228.396C1827.22,-215.265 1852.5,-200.252 1875.32,-186.696\"/>\r\n",
       "<polygon fill=\"black\" stroke=\"black\" points=\"1877.12,-189.695 1883.94,-181.579 1873.55,-183.676 1877.12,-189.695\"/>\r\n",
       "</g>\r\n",
       "<!-- 26 -->\r\n",
       "<g id=\"node27\" class=\"node\"><title>26</title>\r\n",
       "<polygon fill=\"#c9e4f8\" stroke=\"black\" points=\"1744,-68 1626,-68 1626,-0 1744,-0 1744,-68\"/>\r\n",
       "<text text-anchor=\"middle\" x=\"1685\" y=\"-52.8\" font-family=\"Times New Roman,serif\" font-size=\"14.00\">gini = 0.488</text>\r\n",
       "<text text-anchor=\"middle\" x=\"1685\" y=\"-37.8\" font-family=\"Times New Roman,serif\" font-size=\"14.00\">samples = 266</text>\r\n",
       "<text text-anchor=\"middle\" x=\"1685\" y=\"-22.8\" font-family=\"Times New Roman,serif\" font-size=\"14.00\">value = [112, 154]</text>\r\n",
       "<text text-anchor=\"middle\" x=\"1685\" y=\"-7.8\" font-family=\"Times New Roman,serif\" font-size=\"14.00\">class = yes</text>\r\n",
       "</g>\r\n",
       "<!-- 25&#45;&gt;26 -->\r\n",
       "<g id=\"edge26\" class=\"edge\"><title>25&#45;&gt;26</title>\r\n",
       "<path fill=\"none\" stroke=\"black\" d=\"M1723.29,-103.726C1718.46,-95.0615 1713.35,-85.8962 1708.5,-77.1802\"/>\r\n",
       "<polygon fill=\"black\" stroke=\"black\" points=\"1711.47,-75.3322 1703.55,-68.2996 1705.36,-78.7389 1711.47,-75.3322\"/>\r\n",
       "</g>\r\n",
       "<!-- 27 -->\r\n",
       "<g id=\"node28\" class=\"node\"><title>27</title>\r\n",
       "<polygon fill=\"#f8dfcc\" stroke=\"black\" points=\"1866,-68 1762,-68 1762,-0 1866,-0 1866,-68\"/>\r\n",
       "<text text-anchor=\"middle\" x=\"1814\" y=\"-52.8\" font-family=\"Times New Roman,serif\" font-size=\"14.00\">gini = 0.489</text>\r\n",
       "<text text-anchor=\"middle\" x=\"1814\" y=\"-37.8\" font-family=\"Times New Roman,serif\" font-size=\"14.00\">samples = 61</text>\r\n",
       "<text text-anchor=\"middle\" x=\"1814\" y=\"-22.8\" font-family=\"Times New Roman,serif\" font-size=\"14.00\">value = [35, 26]</text>\r\n",
       "<text text-anchor=\"middle\" x=\"1814\" y=\"-7.8\" font-family=\"Times New Roman,serif\" font-size=\"14.00\">class = no</text>\r\n",
       "</g>\r\n",
       "<!-- 25&#45;&gt;27 -->\r\n",
       "<g id=\"edge27\" class=\"edge\"><title>25&#45;&gt;27</title>\r\n",
       "<path fill=\"none\" stroke=\"black\" d=\"M1771.32,-103.726C1776.76,-94.9703 1782.51,-85.7032 1787.98,-76.9051\"/>\r\n",
       "<polygon fill=\"black\" stroke=\"black\" points=\"1791.02,-78.6413 1793.32,-68.2996 1785.07,-74.9484 1791.02,-78.6413\"/>\r\n",
       "</g>\r\n",
       "<!-- 29 -->\r\n",
       "<g id=\"node30\" class=\"node\"><title>29</title>\r\n",
       "<polygon fill=\"#b6dbf5\" stroke=\"black\" points=\"2002,-68 1884,-68 1884,-0 2002,-0 2002,-68\"/>\r\n",
       "<text text-anchor=\"middle\" x=\"1943\" y=\"-52.8\" font-family=\"Times New Roman,serif\" font-size=\"14.00\">gini = 0.474</text>\r\n",
       "<text text-anchor=\"middle\" x=\"1943\" y=\"-37.8\" font-family=\"Times New Roman,serif\" font-size=\"14.00\">samples = 543</text>\r\n",
       "<text text-anchor=\"middle\" x=\"1943\" y=\"-22.8\" font-family=\"Times New Roman,serif\" font-size=\"14.00\">value = [210, 333]</text>\r\n",
       "<text text-anchor=\"middle\" x=\"1943\" y=\"-7.8\" font-family=\"Times New Roman,serif\" font-size=\"14.00\">class = yes</text>\r\n",
       "</g>\r\n",
       "<!-- 28&#45;&gt;29 -->\r\n",
       "<g id=\"edge29\" class=\"edge\"><title>28&#45;&gt;29</title>\r\n",
       "<path fill=\"none\" stroke=\"black\" d=\"M1943,-103.726C1943,-95.5175 1943,-86.8595 1943,-78.56\"/>\r\n",
       "<polygon fill=\"black\" stroke=\"black\" points=\"1946.5,-78.2996 1943,-68.2996 1939.5,-78.2996 1946.5,-78.2996\"/>\r\n",
       "</g>\r\n",
       "<!-- 30 -->\r\n",
       "<g id=\"node31\" class=\"node\"><title>30</title>\r\n",
       "<polygon fill=\"#80c0ee\" stroke=\"black\" points=\"2124,-68 2020,-68 2020,-0 2124,-0 2124,-68\"/>\r\n",
       "<text text-anchor=\"middle\" x=\"2072\" y=\"-52.8\" font-family=\"Times New Roman,serif\" font-size=\"14.00\">gini = 0.389</text>\r\n",
       "<text text-anchor=\"middle\" x=\"2072\" y=\"-37.8\" font-family=\"Times New Roman,serif\" font-size=\"14.00\">samples = 102</text>\r\n",
       "<text text-anchor=\"middle\" x=\"2072\" y=\"-22.8\" font-family=\"Times New Roman,serif\" font-size=\"14.00\">value = [27, 75]</text>\r\n",
       "<text text-anchor=\"middle\" x=\"2072\" y=\"-7.8\" font-family=\"Times New Roman,serif\" font-size=\"14.00\">class = yes</text>\r\n",
       "</g>\r\n",
       "<!-- 28&#45;&gt;30 -->\r\n",
       "<g id=\"edge30\" class=\"edge\"><title>28&#45;&gt;30</title>\r\n",
       "<path fill=\"none\" stroke=\"black\" d=\"M1991.03,-103.726C2002.1,-94.3318 2013.86,-84.349 2024.89,-74.9883\"/>\r\n",
       "<polygon fill=\"black\" stroke=\"black\" points=\"2027.41,-77.4393 2032.77,-68.2996 2022.88,-72.1026 2027.41,-77.4393\"/>\r\n",
       "</g>\r\n",
       "</g>\r\n",
       "</svg>\r\n"
      ],
      "text/plain": [
       "<graphviz.files.Source at 0x1b0ec19db08>"
      ]
     },
     "execution_count": 230,
     "metadata": {},
     "output_type": "execute_result"
    }
   ],
   "source": [
    "dot # 저장하기"
   ]
  },
  {
   "cell_type": "code",
   "execution_count": null,
   "metadata": {},
   "outputs": [],
   "source": [
    "# 위의 그림 해석\n",
    "# 지니계수는 class = no를 기준으로, 불순도를 의미함. 낮을수록 좋음. 지니계수 0.5가 최고점수(흰색바탕) 붉은색 계열들이 no, 파란색이 yes\n",
    "# bank_DT.dot 은 워드파일이 있다. 분기된 것을 볼 수 있다."
   ]
  },
  {
   "cell_type": "code",
   "execution_count": null,
   "metadata": {},
   "outputs": [],
   "source": [
    "# loanG eduG mariG duration을 통해 y_G를 예측하는 예측모형 시각화 하기 (마지막 과제)"
   ]
  }
 ],
 "metadata": {
  "kernelspec": {
   "display_name": "Python 3",
   "language": "python",
   "name": "python3"
  },
  "language_info": {
   "codemirror_mode": {
    "name": "ipython",
    "version": 3
   },
   "file_extension": ".py",
   "mimetype": "text/x-python",
   "name": "python",
   "nbconvert_exporter": "python",
   "pygments_lexer": "ipython3",
   "version": "3.7.6"
  }
 },
 "nbformat": 4,
 "nbformat_minor": 4
}
