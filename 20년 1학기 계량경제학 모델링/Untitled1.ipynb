{
 "cells": [
  {
   "cell_type": "code",
   "execution_count": null,
   "metadata": {},
   "outputs": [],
   "source": [
    "def list_max(numlist) :\n",
    "    score = ''\n",
    "    for i in range(6) :\n",
    "        'score' + str(i)\n",
    "        print('점수를 입력하시오')\n",
    "  \n",
    "    max_score = 0\n",
    "\n",
    "    for number in numlist :\n",
    "        if number > max_score :\n",
    "            max_score = number\n",
    "\n",
    "    return max_score"
   ]
  },
  {
   "cell_type": "code",
   "execution_count": null,
   "metadata": {},
   "outputs": [],
   "source": [
    "score"
   ]
  },
  {
   "cell_type": "code",
   "execution_count": 21,
   "metadata": {},
   "outputs": [],
   "source": [
    "list = []\n"
   ]
  },
  {
   "cell_type": "code",
   "execution_count": 22,
   "metadata": {},
   "outputs": [],
   "source": [
    "list += [50]"
   ]
  },
  {
   "cell_type": "code",
   "execution_count": 23,
   "metadata": {},
   "outputs": [
    {
     "data": {
      "text/plain": [
       "[50]"
      ]
     },
     "execution_count": 23,
     "metadata": {},
     "output_type": "execute_result"
    }
   ],
   "source": [
    "list"
   ]
  },
  {
   "cell_type": "code",
   "execution_count": 35,
   "metadata": {},
   "outputs": [
    {
     "name": "stdin",
     "output_type": "stream",
     "text": [
      "점수는? 10\n",
      "점수는? 10\n",
      "점수는? 90\n",
      "점수는? 90\n",
      "점수는? 0\n",
      "점수는? 0\n"
     ]
    },
    {
     "name": "stdout",
     "output_type": "stream",
     "text": [
      "6명 중 최고 점수는 90 \n",
      "전체 점수 리스트는 [10, 10, 90, 90, 0, 0] \n",
      "마지막 6번째의 숫자는 0입니다.\n"
     ]
    }
   ],
   "source": [
    "def list_max(people_num):\n",
    "    \n",
    "    score_list = []\n",
    "    max_point = 0\n",
    "    \n",
    "    for i in range(people_num):\n",
    "        \n",
    "        score = int(input('점수는?'))\n",
    "        score_list += [score]\n",
    "        \n",
    "        comparison = score_list[i]\n",
    "        \n",
    "        if comparison > max_point:\n",
    "            max_point = comparison\n",
    "            \n",
    "    return print(f'{people_num}명 중 최고 점수는 {max_point} \\n전체 점수 리스트는 {score_list} \\n마지막 6번째의 숫자는 {comparison}입니다.')\n",
    "        \n",
    "list_max(6)"
   ]
  },
  {
   "cell_type": "code",
   "execution_count": 5,
   "metadata": {},
   "outputs": [
    {
     "name": "stdin",
     "output_type": "stream",
     "text": [
      "점수를 입력하시오 90\n",
      "점수를 입력하시오 50\n",
      "점수를 입력하시오 40\n",
      "점수를 입력하시오 60\n",
      "점수를 입력하시오 30\n",
      "점수를 입력하시오 20\n"
     ]
    },
    {
     "name": "stdout",
     "output_type": "stream",
     "text": [
      "최고 점수는 90점 입니다.\n"
     ]
    }
   ],
   "source": [
    "def list_max(numlist) :\n",
    "    max_score = 0\n",
    "\n",
    "    for number in numlist :\n",
    "        if number > max_score :\n",
    "            max_score = number\n",
    "\n",
    "    return max_score\n",
    "\n",
    "score_a = int(input('점수를 입력하시오'))\n",
    "score_b = int(input('점수를 입력하시오'))\n",
    "score_c = int(input('점수를 입력하시오'))\n",
    "score_d = int(input('점수를 입력하시오'))\n",
    "score_e = int(input('점수를 입력하시오'))\n",
    "score_f = int(input('점수를 입력하시오'))\n",
    "\n",
    "score = []\n",
    "score += [score_a]\n",
    "score += [score_b]\n",
    "score += [score_c]\n",
    "score += [score_d]\n",
    "score += [score_e]\n",
    "score += [score_f]\n",
    "\n",
    "\n",
    "print(f'최고 점수는 {list_max(score)}점 입니다.')"
   ]
  },
  {
   "cell_type": "code",
   "execution_count": 7,
   "metadata": {},
   "outputs": [
    {
     "data": {
      "text/plain": [
       "[0, 1, 2, 3, 4, 5, 6, 7, 8, 9]"
      ]
     },
     "execution_count": 7,
     "metadata": {},
     "output_type": "execute_result"
    }
   ],
   "source": [
    "a = list(range(10))\n",
    "a"
   ]
  },
  {
   "cell_type": "code",
   "execution_count": 10,
   "metadata": {},
   "outputs": [
    {
     "name": "stdout",
     "output_type": "stream",
     "text": [
      "0\n",
      "1\n",
      "2\n"
     ]
    }
   ],
   "source": [
    "a = ['어', '대', '선']\n",
    "\n",
    "for index, value in enumerate(a):\n",
    "    print(index)"
   ]
  },
  {
   "cell_type": "code",
   "execution_count": null,
   "metadata": {},
   "outputs": [],
   "source": []
  }
 ],
 "metadata": {
  "kernelspec": {
   "display_name": "Python 3",
   "language": "python",
   "name": "python3"
  },
  "language_info": {
   "codemirror_mode": {
    "name": "ipython",
    "version": 3
   },
   "file_extension": ".py",
   "mimetype": "text/x-python",
   "name": "python",
   "nbconvert_exporter": "python",
   "pygments_lexer": "ipython3",
   "version": "3.7.6"
  }
 },
 "nbformat": 4,
 "nbformat_minor": 4
}
