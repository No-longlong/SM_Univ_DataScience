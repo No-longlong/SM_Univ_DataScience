{
 "cells": [
  {
   "cell_type": "code",
   "execution_count": 2,
   "metadata": {},
   "outputs": [],
   "source": [
    "# Import pandas library\n",
    "# Python을 이용하여 통계 또는 계량 분석을 하기 위해 필요한 명령어 모음들을 불러오기\n",
    "# 앞으로 Python을 이용한 데이터 분석을 할 때는 아래의 불러오기를 반드시 제일 먼저 실행시켜야 함을 명심할 것\n",
    "import pandas as pd\n",
    "import numpy as np\n",
    "import scipy as sp\n",
    "import scipy.stats\n",
    "#import pandas_datareader as pdr 실행안되는데?\n",
    "from datetime import date\n",
    "import matplotlib.pyplot as plt\n",
    "import seaborn as sns\n",
    "import io\n",
    "from sklearn.model_selection import train_test_split \n",
    "from sklearn import linear_model\n",
    "from sklearn.linear_model import LinearRegression\n",
    "from sklearn import metrics"
   ]
  },
  {
   "cell_type": "code",
   "execution_count": 6,
   "metadata": {},
   "outputs": [
    {
     "name": "stdout",
     "output_type": "stream",
     "text": [
      "평균: pcsalary      13.282297\n",
      "sales       6923.793301\n",
      "roe           17.184211\n",
      "pcroe         10.800478\n",
      "ros           61.803828\n",
      "indus          0.320574\n",
      "finance        0.220096\n",
      "consprod       0.287081\n",
      "utility        0.172249\n",
      "lsalary        6.950386\n",
      "lsales         8.292265\n",
      "dtype: float64\n",
      "표준편차: pcsalary       32.633921\n",
      "sales       10633.271159\n",
      "roe             8.518509\n",
      "pcroe          97.219400\n",
      "ros            68.177052\n",
      "indus           0.467818\n",
      "finance         0.415306\n",
      "consprod        0.453486\n",
      "utility         0.378503\n",
      "lsalary         0.566374\n",
      "lsales          1.013160\n",
      "dtype: float64\n",
      "중앙값: pcsalary       9.000000\n",
      "sales       3705.200000\n",
      "roe           15.500000\n",
      "pcroe         -3.000000\n",
      "ros           52.000000\n",
      "indus          0.000000\n",
      "finance        0.000000\n",
      "consprod       0.000000\n",
      "utility        0.000000\n",
      "lsalary        6.946014\n",
      "lsales         8.217492\n",
      "dtype: float64\n"
     ]
    }
   ],
   "source": [
    "# 엑셀 파일에 있는 데이터들을 Python에서 통계분석하기 위해서는 아래와 같이 Pandas를 이용해 데이터 이름을 지정해 주어야 함. 데이터 이름은 여러분 마음대로 해도 됨.\n",
    "df2=pd.read_excel('ceosal1.xls',  index_col=0)              # 데이터 명명하기\n",
    "df2.describe()                                                      # 데이터의 기초 통계량\n",
    "df2.shape                                                      # 데이터의 갯수와 표본수를 보여줌\n",
    "평균=df2.mean()\n",
    "표준편차=df2.std()\n",
    "중앙값=df2.median()\n",
    "print('평균:', 평균)\n",
    "print('표준편차:', 표준편차)\n",
    "print('중앙값:', 중앙값)"
   ]
  }
 ],
 "metadata": {
  "kernelspec": {
   "display_name": "Python 3",
   "language": "python",
   "name": "python3"
  },
  "language_info": {
   "codemirror_mode": {
    "name": "ipython",
    "version": 3
   },
   "file_extension": ".py",
   "mimetype": "text/x-python",
   "name": "python",
   "nbconvert_exporter": "python",
   "pygments_lexer": "ipython3",
   "version": "3.7.6"
  }
 },
 "nbformat": 4,
 "nbformat_minor": 4
}
